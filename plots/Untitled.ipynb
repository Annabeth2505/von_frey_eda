{
 "cells": [
  {
   "cell_type": "code",
   "execution_count": 19,
   "id": "3be13e62-6bde-44c8-a0c4-68059cbff247",
   "metadata": {},
   "outputs": [
    {
     "name": "stdout",
     "output_type": "stream",
     "text": [
      "\n",
      "The downloaded binary packages are in\n",
      "\t/var/folders/ws/dmbkn8cx75l33lp2zph5rpbw0000gn/T//RtmpjlEAYn/downloaded_packages\n",
      "\n",
      "The downloaded binary packages are in\n",
      "\t/var/folders/ws/dmbkn8cx75l33lp2zph5rpbw0000gn/T//RtmpjlEAYn/downloaded_packages\n",
      "\n",
      "The downloaded binary packages are in\n",
      "\t/var/folders/ws/dmbkn8cx75l33lp2zph5rpbw0000gn/T//RtmpjlEAYn/downloaded_packages\n",
      "\n",
      "The downloaded binary packages are in\n",
      "\t/var/folders/ws/dmbkn8cx75l33lp2zph5rpbw0000gn/T//RtmpjlEAYn/downloaded_packages\n",
      "\n",
      "The downloaded binary packages are in\n",
      "\t/var/folders/ws/dmbkn8cx75l33lp2zph5rpbw0000gn/T//RtmpjlEAYn/downloaded_packages\n"
     ]
    }
   ],
   "source": [
    "install.packages('dplyr')\n",
    "install.packages('ggplot2')\n",
    "install.packages('lme4')\n",
    "install.packages('ggeffects')\n",
    "install.packages('tidyr')"
   ]
  },
  {
   "cell_type": "code",
   "execution_count": 20,
   "id": "7a7a06bd-eddc-4342-8fce-a358bc13ddf2",
   "metadata": {},
   "outputs": [],
   "source": [
    "library(lme4)\n",
    "library(dplyr)\n",
    "library(ggplot2)\n",
    "library(ggeffects)\n",
    "library(tidyr)"
   ]
  },
  {
   "cell_type": "code",
   "execution_count": 21,
   "id": "6e48af6f-79b8-40f4-8963-1ce0db5141ad",
   "metadata": {},
   "outputs": [],
   "source": [
    "vf = read.csv('combined_vf.csv')"
   ]
  },
  {
   "cell_type": "markdown",
   "id": "b25b9878-6ffd-4055-aa8e-5c0b1c6fbde4",
   "metadata": {},
   "source": [
    "# Exploring the dataset "
   ]
  },
  {
   "cell_type": "code",
   "execution_count": null,
   "id": "d969a293-cbbd-4261-af06-1f469a6a429f",
   "metadata": {},
   "outputs": [],
   "source": [
    "head(vf)"
   ]
  },
  {
   "cell_type": "code",
   "execution_count": null,
   "id": "3dbdcf23-f588-44f8-ab6a-60946c781066",
   "metadata": {},
   "outputs": [],
   "source": [
    "dim(vf)"
   ]
  },
  {
   "cell_type": "code",
   "execution_count": null,
   "id": "5f70e7d3-efad-4c71-bee0-035da6cb50e6",
   "metadata": {},
   "outputs": [],
   "source": [
    "tail(vf)"
   ]
  },
  {
   "cell_type": "code",
   "execution_count": null,
   "id": "bb3708b6-a25b-4ede-929b-5bb3ccd4a478",
   "metadata": {},
   "outputs": [],
   "source": [
    "unique(vf$Trial)"
   ]
  },
  {
   "cell_type": "code",
   "execution_count": null,
   "id": "0f34a9c8-f6d5-4b15-b0d7-cc2d8591544b",
   "metadata": {},
   "outputs": [],
   "source": [
    "vf$Trial [vf$Trial == ' C'] == 'C'"
   ]
  },
  {
   "cell_type": "code",
   "execution_count": null,
   "id": "72953fa8-e0e8-4bdb-9535-e32d2b96f74d",
   "metadata": {},
   "outputs": [],
   "source": [
    "vf = vf %>%\n",
    "filter (Trial != 'TEST')"
   ]
  },
  {
   "cell_type": "code",
   "execution_count": null,
   "id": "cd50c056-d652-4a18-98c6-df29b48338d9",
   "metadata": {},
   "outputs": [],
   "source": [
    "head(vf)"
   ]
  },
  {
   "cell_type": "code",
   "execution_count": null,
   "id": "3f4fef3a-f341-4153-838b-87bed492bf7d",
   "metadata": {},
   "outputs": [],
   "source": [
    "unique(vf$Trial)"
   ]
  },
  {
   "cell_type": "code",
   "execution_count": null,
   "id": "70b81298-c401-457c-9569-d7b66757586b",
   "metadata": {},
   "outputs": [],
   "source": []
  }
 ],
 "metadata": {
  "kernelspec": {
   "display_name": "R",
   "language": "R",
   "name": "ir"
  },
  "language_info": {
   "codemirror_mode": "r",
   "file_extension": ".r",
   "mimetype": "text/x-r-source",
   "name": "R",
   "pygments_lexer": "r",
   "version": "4.5.1"
  }
 },
 "nbformat": 4,
 "nbformat_minor": 5
}

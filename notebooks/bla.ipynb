{
 "cells": [
  {
   "cell_type": "code",
   "execution_count": 1,
   "id": "1da963fe-666c-4b73-a373-450e7317dbce",
   "metadata": {},
   "outputs": [
    {
     "name": "stdout",
     "output_type": "stream",
     "text": [
      "\n",
      "The downloaded binary packages are in\n",
      "\t/var/folders/ws/dmbkn8cx75l33lp2zph5rpbw0000gn/T//Rtmpvgxrjs/downloaded_packages\n",
      "\n",
      "The downloaded binary packages are in\n",
      "\t/var/folders/ws/dmbkn8cx75l33lp2zph5rpbw0000gn/T//Rtmpvgxrjs/downloaded_packages\n",
      "\n",
      "The downloaded binary packages are in\n",
      "\t/var/folders/ws/dmbkn8cx75l33lp2zph5rpbw0000gn/T//Rtmpvgxrjs/downloaded_packages\n",
      "\n",
      "The downloaded binary packages are in\n",
      "\t/var/folders/ws/dmbkn8cx75l33lp2zph5rpbw0000gn/T//Rtmpvgxrjs/downloaded_packages\n",
      "\n",
      "The downloaded binary packages are in\n",
      "\t/var/folders/ws/dmbkn8cx75l33lp2zph5rpbw0000gn/T//Rtmpvgxrjs/downloaded_packages\n",
      "\n",
      "The downloaded binary packages are in\n",
      "\t/var/folders/ws/dmbkn8cx75l33lp2zph5rpbw0000gn/T//Rtmpvgxrjs/downloaded_packages\n"
     ]
    }
   ],
   "source": [
    "install.packages('dplyr')\n",
    "install.packages('ggplot2')\n",
    "install.packages('lme4')\n",
    "install.packages('ggeffects')\n",
    "install.packages('tidyr')\n",
    "install.packages('broom')"
   ]
  },
  {
   "cell_type": "code",
   "execution_count": 2,
   "id": "2bad546f-6288-4f0c-b85c-7f8ba4282e1c",
   "metadata": {},
   "outputs": [
    {
     "name": "stderr",
     "output_type": "stream",
     "text": [
      "\n",
      "Attaching package: ‘dplyr’\n",
      "\n",
      "\n",
      "The following objects are masked from ‘package:stats’:\n",
      "\n",
      "    filter, lag\n",
      "\n",
      "\n",
      "The following objects are masked from ‘package:base’:\n",
      "\n",
      "    intersect, setdiff, setequal, union\n",
      "\n",
      "\n",
      "Loading required package: Matrix\n",
      "\n",
      "\n",
      "Attaching package: ‘tidyr’\n",
      "\n",
      "\n",
      "The following objects are masked from ‘package:Matrix’:\n",
      "\n",
      "    expand, pack, unpack\n",
      "\n",
      "\n"
     ]
    }
   ],
   "source": [
    "library(dplyr)\n",
    "library(ggplot2)\n",
    "library(lme4)\n",
    "library(ggeffects)\n",
    "library(tidyr)\n",
    "library(broom)"
   ]
  },
  {
   "cell_type": "code",
   "execution_count": 3,
   "id": "fb2a8cbf-7c1a-4bb6-aa95-0f6786b6c3a0",
   "metadata": {},
   "outputs": [],
   "source": [
    "vf = read.csv('final_vf.csv')"
   ]
  },
  {
   "cell_type": "code",
   "execution_count": 4,
   "id": "264c20b3-2b48-450d-9853-22323ecbeefd",
   "metadata": {},
   "outputs": [
    {
     "data": {
      "text/html": [
       "<table class=\"dataframe\">\n",
       "<caption>A data.frame: 6 × 12</caption>\n",
       "<thead>\n",
       "\t<tr><th></th><th scope=col>Session</th><th scope=col>Date</th><th scope=col>Treatment</th><th scope=col>Protocol</th><th scope=col>Stage</th><th scope=col>DayNumber</th><th scope=col>Trial</th><th scope=col>ID</th><th scope=col>Latency</th><th scope=col>Reason</th><th scope=col>Scoring</th><th scope=col>Force</th></tr>\n",
       "\t<tr><th></th><th scope=col>&lt;int&gt;</th><th scope=col>&lt;chr&gt;</th><th scope=col>&lt;chr&gt;</th><th scope=col>&lt;chr&gt;</th><th scope=col>&lt;chr&gt;</th><th scope=col>&lt;int&gt;</th><th scope=col>&lt;chr&gt;</th><th scope=col>&lt;chr&gt;</th><th scope=col>&lt;dbl&gt;</th><th scope=col>&lt;chr&gt;</th><th scope=col>&lt;chr&gt;</th><th scope=col>&lt;dbl&gt;</th></tr>\n",
       "</thead>\n",
       "<tbody>\n",
       "\t<tr><th scope=row>1</th><td>1</td><td>2024-03-12 16:21:00</td><td>CCD</td><td>AMN</td><td>PRE</td><td>0</td><td>C</td><td>DW 239</td><td>0.9</td><td>Detection</td><td>Auto</td><td>33.81</td></tr>\n",
       "\t<tr><th scope=row>2</th><td>2</td><td>2024-03-12 16:22:00</td><td>CCD</td><td>AMN</td><td>PRE</td><td>0</td><td>C</td><td>DW 239</td><td>0.1</td><td>Detection</td><td>Auto</td><td> 5.09</td></tr>\n",
       "\t<tr><th scope=row>3</th><td>3</td><td>2024-03-12 16:22:00</td><td>CCD</td><td>AMN</td><td>PRE</td><td>0</td><td>C</td><td>DW 239</td><td>0.8</td><td>Detection</td><td>Auto</td><td>31.31</td></tr>\n",
       "\t<tr><th scope=row>4</th><td>4</td><td>2024-03-12 16:22:00</td><td>CCD</td><td>AMN</td><td>PRE</td><td>0</td><td>I</td><td>DW 239</td><td>0.5</td><td>Detection</td><td>Auto</td><td>21.32</td></tr>\n",
       "\t<tr><th scope=row>5</th><td>5</td><td>2024-03-12 16:23:00</td><td>CCD</td><td>AMN</td><td>PRE</td><td>0</td><td>I</td><td>DW 239</td><td>2.6</td><td>Detection</td><td>Auto</td><td>75.00</td></tr>\n",
       "\t<tr><th scope=row>6</th><td>6</td><td>2024-03-12 16:23:00</td><td>CCD</td><td>AMN</td><td>PRE</td><td>0</td><td>I</td><td>DW 239</td><td>0.5</td><td>Detection</td><td>Auto</td><td>21.32</td></tr>\n",
       "</tbody>\n",
       "</table>\n"
      ],
      "text/latex": [
       "A data.frame: 6 × 12\n",
       "\\begin{tabular}{r|llllllllllll}\n",
       "  & Session & Date & Treatment & Protocol & Stage & DayNumber & Trial & ID & Latency & Reason & Scoring & Force\\\\\n",
       "  & <int> & <chr> & <chr> & <chr> & <chr> & <int> & <chr> & <chr> & <dbl> & <chr> & <chr> & <dbl>\\\\\n",
       "\\hline\n",
       "\t1 & 1 & 2024-03-12 16:21:00 & CCD & AMN & PRE & 0 & C & DW 239 & 0.9 & Detection & Auto & 33.81\\\\\n",
       "\t2 & 2 & 2024-03-12 16:22:00 & CCD & AMN & PRE & 0 & C & DW 239 & 0.1 & Detection & Auto &  5.09\\\\\n",
       "\t3 & 3 & 2024-03-12 16:22:00 & CCD & AMN & PRE & 0 & C & DW 239 & 0.8 & Detection & Auto & 31.31\\\\\n",
       "\t4 & 4 & 2024-03-12 16:22:00 & CCD & AMN & PRE & 0 & I & DW 239 & 0.5 & Detection & Auto & 21.32\\\\\n",
       "\t5 & 5 & 2024-03-12 16:23:00 & CCD & AMN & PRE & 0 & I & DW 239 & 2.6 & Detection & Auto & 75.00\\\\\n",
       "\t6 & 6 & 2024-03-12 16:23:00 & CCD & AMN & PRE & 0 & I & DW 239 & 0.5 & Detection & Auto & 21.32\\\\\n",
       "\\end{tabular}\n"
      ],
      "text/markdown": [
       "\n",
       "A data.frame: 6 × 12\n",
       "\n",
       "| <!--/--> | Session &lt;int&gt; | Date &lt;chr&gt; | Treatment &lt;chr&gt; | Protocol &lt;chr&gt; | Stage &lt;chr&gt; | DayNumber &lt;int&gt; | Trial &lt;chr&gt; | ID &lt;chr&gt; | Latency &lt;dbl&gt; | Reason &lt;chr&gt; | Scoring &lt;chr&gt; | Force &lt;dbl&gt; |\n",
       "|---|---|---|---|---|---|---|---|---|---|---|---|---|\n",
       "| 1 | 1 | 2024-03-12 16:21:00 | CCD | AMN | PRE | 0 | C | DW 239 | 0.9 | Detection | Auto | 33.81 |\n",
       "| 2 | 2 | 2024-03-12 16:22:00 | CCD | AMN | PRE | 0 | C | DW 239 | 0.1 | Detection | Auto |  5.09 |\n",
       "| 3 | 3 | 2024-03-12 16:22:00 | CCD | AMN | PRE | 0 | C | DW 239 | 0.8 | Detection | Auto | 31.31 |\n",
       "| 4 | 4 | 2024-03-12 16:22:00 | CCD | AMN | PRE | 0 | I | DW 239 | 0.5 | Detection | Auto | 21.32 |\n",
       "| 5 | 5 | 2024-03-12 16:23:00 | CCD | AMN | PRE | 0 | I | DW 239 | 2.6 | Detection | Auto | 75.00 |\n",
       "| 6 | 6 | 2024-03-12 16:23:00 | CCD | AMN | PRE | 0 | I | DW 239 | 0.5 | Detection | Auto | 21.32 |\n",
       "\n"
      ],
      "text/plain": [
       "  Session Date                Treatment Protocol Stage DayNumber Trial ID    \n",
       "1 1       2024-03-12 16:21:00 CCD       AMN      PRE   0         C     DW 239\n",
       "2 2       2024-03-12 16:22:00 CCD       AMN      PRE   0         C     DW 239\n",
       "3 3       2024-03-12 16:22:00 CCD       AMN      PRE   0         C     DW 239\n",
       "4 4       2024-03-12 16:22:00 CCD       AMN      PRE   0         I     DW 239\n",
       "5 5       2024-03-12 16:23:00 CCD       AMN      PRE   0         I     DW 239\n",
       "6 6       2024-03-12 16:23:00 CCD       AMN      PRE   0         I     DW 239\n",
       "  Latency Reason    Scoring Force\n",
       "1 0.9     Detection Auto    33.81\n",
       "2 0.1     Detection Auto     5.09\n",
       "3 0.8     Detection Auto    31.31\n",
       "4 0.5     Detection Auto    21.32\n",
       "5 2.6     Detection Auto    75.00\n",
       "6 0.5     Detection Auto    21.32"
      ]
     },
     "metadata": {},
     "output_type": "display_data"
    }
   ],
   "source": [
    "head(vf)"
   ]
  },
  {
   "cell_type": "code",
   "execution_count": 5,
   "id": "bc19f6ca-c6b1-4e70-93ae-63836ec4ef86",
   "metadata": {},
   "outputs": [
    {
     "data": {
      "text/html": [
       "<style>\n",
       ".list-inline {list-style: none; margin:0; padding: 0}\n",
       ".list-inline>li {display: inline-block}\n",
       ".list-inline>li:not(:last-child)::after {content: \"\\00b7\"; padding: 0 .5ex}\n",
       "</style>\n",
       "<ol class=list-inline><li>'CCD'</li><li>'PGM'</li><li>'BPR'</li><li><span style=white-space:pre-wrap>'CCD  '</span></li></ol>\n"
      ],
      "text/latex": [
       "\\begin{enumerate*}\n",
       "\\item 'CCD'\n",
       "\\item 'PGM'\n",
       "\\item 'BPR'\n",
       "\\item 'CCD  '\n",
       "\\end{enumerate*}\n"
      ],
      "text/markdown": [
       "1. 'CCD'\n",
       "2. 'PGM'\n",
       "3. 'BPR'\n",
       "4. <span style=white-space:pre-wrap>'CCD  '</span>\n",
       "\n",
       "\n"
      ],
      "text/plain": [
       "[1] \"CCD\"   \"PGM\"   \"BPR\"   \"CCD  \""
      ]
     },
     "metadata": {},
     "output_type": "display_data"
    }
   ],
   "source": [
    "unique(vf$Treatment)"
   ]
  },
  {
   "cell_type": "code",
   "execution_count": 7,
   "id": "2615874c-d6a5-4c5c-bdf9-6435481a44ca",
   "metadata": {},
   "outputs": [],
   "source": [
    "vf$Treatment[vf$Treatment == 'CCD ']= 'CCD'"
   ]
  },
  {
   "cell_type": "code",
   "execution_count": 8,
   "id": "40878637-adb6-444e-9425-da0fccb30a19",
   "metadata": {},
   "outputs": [],
   "source": [
    "vf$Treatment[vf$Treatment == 'PGM'] = 'CCD'"
   ]
  },
  {
   "cell_type": "code",
   "execution_count": 9,
   "id": "aa8d3b29-610f-4de3-a449-16f4e4280863",
   "metadata": {},
   "outputs": [],
   "source": [
    "vf$Treatment[vf$Treatment == 'BPR'] = 'CCD'"
   ]
  },
  {
   "cell_type": "code",
   "execution_count": 10,
   "id": "0df07477-dad4-4803-ae93-296d98c718f1",
   "metadata": {},
   "outputs": [
    {
     "data": {
      "text/html": [
       "<style>\n",
       ".list-inline {list-style: none; margin:0; padding: 0}\n",
       ".list-inline>li {display: inline-block}\n",
       ".list-inline>li:not(:last-child)::after {content: \"\\00b7\"; padding: 0 .5ex}\n",
       "</style>\n",
       "<ol class=list-inline><li>'CCD'</li><li><span style=white-space:pre-wrap>'CCD  '</span></li></ol>\n"
      ],
      "text/latex": [
       "\\begin{enumerate*}\n",
       "\\item 'CCD'\n",
       "\\item 'CCD  '\n",
       "\\end{enumerate*}\n"
      ],
      "text/markdown": [
       "1. 'CCD'\n",
       "2. <span style=white-space:pre-wrap>'CCD  '</span>\n",
       "\n",
       "\n"
      ],
      "text/plain": [
       "[1] \"CCD\"   \"CCD  \""
      ]
     },
     "metadata": {},
     "output_type": "display_data"
    }
   ],
   "source": [
    "unique(vf$Treatment)"
   ]
  },
  {
   "cell_type": "code",
   "execution_count": 11,
   "id": "f5ce561d-3ab8-4a1e-a1f5-12be9eca2a4f",
   "metadata": {},
   "outputs": [],
   "source": [
    "vf$Treatment[vf$Treatment == 'CCD  '] = 'CCD'"
   ]
  },
  {
   "cell_type": "code",
   "execution_count": 12,
   "id": "d47e526c-a898-4dca-89fc-d4a673ad9978",
   "metadata": {},
   "outputs": [
    {
     "data": {
      "text/html": [
       "'CCD'"
      ],
      "text/latex": [
       "'CCD'"
      ],
      "text/markdown": [
       "'CCD'"
      ],
      "text/plain": [
       "[1] \"CCD\""
      ]
     },
     "metadata": {},
     "output_type": "display_data"
    }
   ],
   "source": [
    "unique(vf$Treatment)"
   ]
  },
  {
   "cell_type": "code",
   "execution_count": 13,
   "id": "f9afc902-6a35-4b07-8c5e-63c9d45234f2",
   "metadata": {},
   "outputs": [],
   "source": [
    "vf$Stage = factor(vf$Stage)\n",
    "vf$Trial = factor(vf$Trial)\n",
    "vf$ID = factor(vf$ID)"
   ]
  },
  {
   "cell_type": "code",
   "execution_count": 14,
   "id": "b19b67c5-0e49-4ef1-9dc6-5f295dcdf5ff",
   "metadata": {},
   "outputs": [
    {
     "data": {
      "text/html": [
       "<style>\n",
       ".list-inline {list-style: none; margin:0; padding: 0}\n",
       ".list-inline>li {display: inline-block}\n",
       ".list-inline>li:not(:last-child)::after {content: \"\\00b7\"; padding: 0 .5ex}\n",
       "</style>\n",
       "<ol class=list-inline><li>C</li><li>I</li></ol>\n",
       "\n",
       "<details>\n",
       "\t<summary style=display:list-item;cursor:pointer>\n",
       "\t\t<strong>Levels</strong>:\n",
       "\t</summary>\n",
       "\t<style>\n",
       "\t.list-inline {list-style: none; margin:0; padding: 0}\n",
       "\t.list-inline>li {display: inline-block}\n",
       "\t.list-inline>li:not(:last-child)::after {content: \"\\00b7\"; padding: 0 .5ex}\n",
       "\t</style>\n",
       "\t<ol class=list-inline><li>'C'</li><li>'I'</li></ol>\n",
       "</details>"
      ],
      "text/latex": [
       "\\begin{enumerate*}\n",
       "\\item C\n",
       "\\item I\n",
       "\\end{enumerate*}\n",
       "\n",
       "\\emph{Levels}: \\begin{enumerate*}\n",
       "\\item 'C'\n",
       "\\item 'I'\n",
       "\\end{enumerate*}\n"
      ],
      "text/markdown": [
       "1. C\n",
       "2. I\n",
       "\n",
       "\n",
       "\n",
       "**Levels**: 1. 'C'\n",
       "2. 'I'\n",
       "\n",
       "\n"
      ],
      "text/plain": [
       "[1] C I\n",
       "Levels: C I"
      ]
     },
     "metadata": {},
     "output_type": "display_data"
    }
   ],
   "source": [
    "unique(vf$Trial)"
   ]
  },
  {
   "cell_type": "code",
   "execution_count": 15,
   "id": "17ef7dcc-12ba-44c7-b752-a8b7a5db1454",
   "metadata": {},
   "outputs": [
    {
     "data": {
      "text/html": [
       "<style>\n",
       ".list-inline {list-style: none; margin:0; padding: 0}\n",
       ".list-inline>li {display: inline-block}\n",
       ".list-inline>li:not(:last-child)::after {content: \"\\00b7\"; padding: 0 .5ex}\n",
       "</style>\n",
       "<ol class=list-inline><li>PRE</li><li>POST</li></ol>\n",
       "\n",
       "<details>\n",
       "\t<summary style=display:list-item;cursor:pointer>\n",
       "\t\t<strong>Levels</strong>:\n",
       "\t</summary>\n",
       "\t<style>\n",
       "\t.list-inline {list-style: none; margin:0; padding: 0}\n",
       "\t.list-inline>li {display: inline-block}\n",
       "\t.list-inline>li:not(:last-child)::after {content: \"\\00b7\"; padding: 0 .5ex}\n",
       "\t</style>\n",
       "\t<ol class=list-inline><li>'POST'</li><li>'PRE'</li></ol>\n",
       "</details>"
      ],
      "text/latex": [
       "\\begin{enumerate*}\n",
       "\\item PRE\n",
       "\\item POST\n",
       "\\end{enumerate*}\n",
       "\n",
       "\\emph{Levels}: \\begin{enumerate*}\n",
       "\\item 'POST'\n",
       "\\item 'PRE'\n",
       "\\end{enumerate*}\n"
      ],
      "text/markdown": [
       "1. PRE\n",
       "2. POST\n",
       "\n",
       "\n",
       "\n",
       "**Levels**: 1. 'POST'\n",
       "2. 'PRE'\n",
       "\n",
       "\n"
      ],
      "text/plain": [
       "[1] PRE  POST\n",
       "Levels: POST PRE"
      ]
     },
     "metadata": {},
     "output_type": "display_data"
    }
   ],
   "source": [
    "unique(vf$Stage)"
   ]
  },
  {
   "cell_type": "code",
   "execution_count": 16,
   "id": "75292147-ee22-43a5-8098-7f95aceafc25",
   "metadata": {},
   "outputs": [
    {
     "data": {
      "text/html": [
       "<style>\n",
       ".list-inline {list-style: none; margin:0; padding: 0}\n",
       ".list-inline>li {display: inline-block}\n",
       ".list-inline>li:not(:last-child)::after {content: \"\\00b7\"; padding: 0 .5ex}\n",
       "</style>\n",
       "<ol class=list-inline><li>0</li><li>3</li><li>7</li><li>13</li><li>4</li><li>21</li><li>24</li><li>30</li><li>14</li><li>10</li><li>17</li><li>25</li><li>28</li><li>18</li><li>6</li><li>9</li><li>12</li><li>15</li><li>5</li><li>16</li><li>20</li><li>8</li><li>26</li><li>32</li><li>27</li><li>11</li><li>22</li><li>1</li><li>19</li></ol>\n"
      ],
      "text/latex": [
       "\\begin{enumerate*}\n",
       "\\item 0\n",
       "\\item 3\n",
       "\\item 7\n",
       "\\item 13\n",
       "\\item 4\n",
       "\\item 21\n",
       "\\item 24\n",
       "\\item 30\n",
       "\\item 14\n",
       "\\item 10\n",
       "\\item 17\n",
       "\\item 25\n",
       "\\item 28\n",
       "\\item 18\n",
       "\\item 6\n",
       "\\item 9\n",
       "\\item 12\n",
       "\\item 15\n",
       "\\item 5\n",
       "\\item 16\n",
       "\\item 20\n",
       "\\item 8\n",
       "\\item 26\n",
       "\\item 32\n",
       "\\item 27\n",
       "\\item 11\n",
       "\\item 22\n",
       "\\item 1\n",
       "\\item 19\n",
       "\\end{enumerate*}\n"
      ],
      "text/markdown": [
       "1. 0\n",
       "2. 3\n",
       "3. 7\n",
       "4. 13\n",
       "5. 4\n",
       "6. 21\n",
       "7. 24\n",
       "8. 30\n",
       "9. 14\n",
       "10. 10\n",
       "11. 17\n",
       "12. 25\n",
       "13. 28\n",
       "14. 18\n",
       "15. 6\n",
       "16. 9\n",
       "17. 12\n",
       "18. 15\n",
       "19. 5\n",
       "20. 16\n",
       "21. 20\n",
       "22. 8\n",
       "23. 26\n",
       "24. 32\n",
       "25. 27\n",
       "26. 11\n",
       "27. 22\n",
       "28. 1\n",
       "29. 19\n",
       "\n",
       "\n"
      ],
      "text/plain": [
       " [1]  0  3  7 13  4 21 24 30 14 10 17 25 28 18  6  9 12 15  5 16 20  8 26 32 27\n",
       "[26] 11 22  1 19"
      ]
     },
     "metadata": {},
     "output_type": "display_data"
    }
   ],
   "source": [
    "unique(vf$DayNumber)"
   ]
  },
  {
   "cell_type": "code",
   "execution_count": 17,
   "id": "fb3f7dbd-bd27-43bb-bc01-72584e79c05c",
   "metadata": {},
   "outputs": [],
   "source": [
    "write.csv(vf, 'von_frey_dataset.csv', row.names = FALSE)"
   ]
  },
  {
   "cell_type": "code",
   "execution_count": null,
   "id": "9faa1e7e-3d50-4e45-bd9e-8eeefae54edc",
   "metadata": {},
   "outputs": [],
   "source": []
  }
 ],
 "metadata": {
  "kernelspec": {
   "display_name": "R",
   "language": "R",
   "name": "ir"
  },
  "language_info": {
   "codemirror_mode": "r",
   "file_extension": ".r",
   "mimetype": "text/x-r-source",
   "name": "R",
   "pygments_lexer": "r",
   "version": "4.5.1"
  }
 },
 "nbformat": 4,
 "nbformat_minor": 5
}

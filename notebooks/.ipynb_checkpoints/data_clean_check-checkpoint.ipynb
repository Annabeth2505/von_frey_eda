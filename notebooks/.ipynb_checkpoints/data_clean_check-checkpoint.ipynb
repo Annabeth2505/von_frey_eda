{
 "cells": [
  {
   "cell_type": "code",
   "execution_count": 1,
   "id": "5b36d9ef-ee82-4872-8618-05ac33deb34d",
   "metadata": {},
   "outputs": [
    {
     "name": "stdout",
     "output_type": "stream",
     "text": [
      "\n",
      "The downloaded binary packages are in\n",
      "\t/var/folders/ws/dmbkn8cx75l33lp2zph5rpbw0000gn/T//RtmpEP08AY/downloaded_packages\n",
      "\n",
      "The downloaded binary packages are in\n",
      "\t/var/folders/ws/dmbkn8cx75l33lp2zph5rpbw0000gn/T//RtmpEP08AY/downloaded_packages\n",
      "\n",
      "The downloaded binary packages are in\n",
      "\t/var/folders/ws/dmbkn8cx75l33lp2zph5rpbw0000gn/T//RtmpEP08AY/downloaded_packages\n",
      "\n",
      "The downloaded binary packages are in\n",
      "\t/var/folders/ws/dmbkn8cx75l33lp2zph5rpbw0000gn/T//RtmpEP08AY/downloaded_packages\n",
      "\n",
      "The downloaded binary packages are in\n",
      "\t/var/folders/ws/dmbkn8cx75l33lp2zph5rpbw0000gn/T//RtmpEP08AY/downloaded_packages\n"
     ]
    }
   ],
   "source": [
    "install.packages('dplyr')\n",
    "install.packages('ggplot2')\n",
    "install.packages('lme4')\n",
    "install.packages('ggeffects')\n",
    "install.packages('tidyr')"
   ]
  },
  {
   "cell_type": "code",
   "execution_count": 2,
   "id": "5cc9aaa7-302f-49a5-a0d7-e9204fdeb598",
   "metadata": {},
   "outputs": [
    {
     "name": "stderr",
     "output_type": "stream",
     "text": [
      "Loading required package: Matrix\n",
      "\n",
      "\n",
      "Attaching package: ‘dplyr’\n",
      "\n",
      "\n",
      "The following objects are masked from ‘package:stats’:\n",
      "\n",
      "    filter, lag\n",
      "\n",
      "\n",
      "The following objects are masked from ‘package:base’:\n",
      "\n",
      "    intersect, setdiff, setequal, union\n",
      "\n",
      "\n",
      "\n",
      "Attaching package: ‘tidyr’\n",
      "\n",
      "\n",
      "The following objects are masked from ‘package:Matrix’:\n",
      "\n",
      "    expand, pack, unpack\n",
      "\n",
      "\n"
     ]
    }
   ],
   "source": [
    "library(lme4)\n",
    "library(dplyr)\n",
    "library(ggplot2)\n",
    "library(ggeffects)\n",
    "library(tidyr)"
   ]
  },
  {
   "cell_type": "code",
   "execution_count": 3,
   "id": "4a5b1c9c-ecf4-4702-8e1f-f68fa61c8854",
   "metadata": {},
   "outputs": [],
   "source": [
    "vf = read.csv('combined_vf.csv')"
   ]
  },
  {
   "cell_type": "code",
   "execution_count": 4,
   "id": "b1b78ac2-8c41-42a2-ae9e-74bf3edbf0b9",
   "metadata": {},
   "outputs": [
    {
     "data": {
      "text/html": [
       "<style>\n",
       ".list-inline {list-style: none; margin:0; padding: 0}\n",
       ".list-inline>li {display: inline-block}\n",
       ".list-inline>li:not(:last-child)::after {content: \"\\00b7\"; padding: 0 .5ex}\n",
       "</style>\n",
       "<ol class=list-inline><li>'C'</li><li>'I'</li><li><span style=white-space:pre-wrap>'   C'</span></li><li>'TEST'</li></ol>\n"
      ],
      "text/latex": [
       "\\begin{enumerate*}\n",
       "\\item 'C'\n",
       "\\item 'I'\n",
       "\\item '   C'\n",
       "\\item 'TEST'\n",
       "\\end{enumerate*}\n"
      ],
      "text/markdown": [
       "1. 'C'\n",
       "2. 'I'\n",
       "3. <span style=white-space:pre-wrap>'   C'</span>\n",
       "4. 'TEST'\n",
       "\n",
       "\n"
      ],
      "text/plain": [
       "[1] \"C\"    \"I\"    \"   C\" \"TEST\""
      ]
     },
     "metadata": {},
     "output_type": "display_data"
    }
   ],
   "source": [
    "unique(vf$Trial)"
   ]
  },
  {
   "cell_type": "code",
   "execution_count": 6,
   "id": "eb565451-4c12-4fbd-9b20-1ba9b6c3ea42",
   "metadata": {},
   "outputs": [
    {
     "data": {
      "text/html": [],
      "text/latex": [],
      "text/markdown": [],
      "text/plain": [
       "logical(0)"
      ]
     },
     "metadata": {},
     "output_type": "display_data"
    }
   ],
   "source": [
    "vf$Trial [vf$Trial == '  C'] == 'C'"
   ]
  },
  {
   "cell_type": "code",
   "execution_count": 7,
   "id": "fdbdd865-4820-44bc-801e-6cf50dfd7118",
   "metadata": {},
   "outputs": [],
   "source": [
    "vf = vf%>% \n",
    "filter (Trial != 'TEST')"
   ]
  },
  {
   "cell_type": "code",
   "execution_count": 8,
   "id": "f3d5a052-2ac2-43be-8f25-a31e55f137b1",
   "metadata": {},
   "outputs": [
    {
     "data": {
      "text/html": [
       "<style>\n",
       ".list-inline {list-style: none; margin:0; padding: 0}\n",
       ".list-inline>li {display: inline-block}\n",
       ".list-inline>li:not(:last-child)::after {content: \"\\00b7\"; padding: 0 .5ex}\n",
       "</style>\n",
       "<ol class=list-inline><li>'C'</li><li>'I'</li><li><span style=white-space:pre-wrap>'   C'</span></li></ol>\n"
      ],
      "text/latex": [
       "\\begin{enumerate*}\n",
       "\\item 'C'\n",
       "\\item 'I'\n",
       "\\item '   C'\n",
       "\\end{enumerate*}\n"
      ],
      "text/markdown": [
       "1. 'C'\n",
       "2. 'I'\n",
       "3. <span style=white-space:pre-wrap>'   C'</span>\n",
       "\n",
       "\n"
      ],
      "text/plain": [
       "[1] \"C\"    \"I\"    \"   C\""
      ]
     },
     "metadata": {},
     "output_type": "display_data"
    }
   ],
   "source": [
    "unique(vf$Trial)"
   ]
  },
  {
   "cell_type": "code",
   "execution_count": 9,
   "id": "cafe8cb4-8216-4e4d-ab91-3e5b4ab5c556",
   "metadata": {},
   "outputs": [
    {
     "data": {
      "text/html": [
       "<style>\n",
       ".list-inline {list-style: none; margin:0; padding: 0}\n",
       ".list-inline>li {display: inline-block}\n",
       ".list-inline>li:not(:last-child)::after {content: \"\\00b7\"; padding: 0 .5ex}\n",
       "</style>\n",
       "<ol class=list-inline><li>FALSE</li><li>FALSE</li><li>FALSE</li><li>FALSE</li><li>FALSE</li><li>FALSE</li><li>FALSE</li><li>FALSE</li></ol>\n"
      ],
      "text/latex": [
       "\\begin{enumerate*}\n",
       "\\item FALSE\n",
       "\\item FALSE\n",
       "\\item FALSE\n",
       "\\item FALSE\n",
       "\\item FALSE\n",
       "\\item FALSE\n",
       "\\item FALSE\n",
       "\\item FALSE\n",
       "\\end{enumerate*}\n"
      ],
      "text/markdown": [
       "1. FALSE\n",
       "2. FALSE\n",
       "3. FALSE\n",
       "4. FALSE\n",
       "5. FALSE\n",
       "6. FALSE\n",
       "7. FALSE\n",
       "8. FALSE\n",
       "\n",
       "\n"
      ],
      "text/plain": [
       "[1] FALSE FALSE FALSE FALSE FALSE FALSE FALSE FALSE"
      ]
     },
     "metadata": {},
     "output_type": "display_data"
    }
   ],
   "source": [
    "vf$Trial [vf$Trial == '   C'] == 'C'"
   ]
  },
  {
   "cell_type": "code",
   "execution_count": 10,
   "id": "4bd1d64f-be87-4aa1-9106-13745f840aca",
   "metadata": {},
   "outputs": [
    {
     "data": {
      "text/html": [
       "<style>\n",
       ".list-inline {list-style: none; margin:0; padding: 0}\n",
       ".list-inline>li {display: inline-block}\n",
       ".list-inline>li:not(:last-child)::after {content: \"\\00b7\"; padding: 0 .5ex}\n",
       "</style>\n",
       "<ol class=list-inline><li>'C'</li><li>'I'</li><li><span style=white-space:pre-wrap>'   C'</span></li></ol>\n"
      ],
      "text/latex": [
       "\\begin{enumerate*}\n",
       "\\item 'C'\n",
       "\\item 'I'\n",
       "\\item '   C'\n",
       "\\end{enumerate*}\n"
      ],
      "text/markdown": [
       "1. 'C'\n",
       "2. 'I'\n",
       "3. <span style=white-space:pre-wrap>'   C'</span>\n",
       "\n",
       "\n"
      ],
      "text/plain": [
       "[1] \"C\"    \"I\"    \"   C\""
      ]
     },
     "metadata": {},
     "output_type": "display_data"
    }
   ],
   "source": [
    "unique(vf$Trial)"
   ]
  },
  {
   "cell_type": "code",
   "execution_count": 11,
   "id": "f80d712d-1682-4d36-b437-f5c4523553be",
   "metadata": {},
   "outputs": [],
   "source": [
    "vf$Trial[vf$Trial == '   C'] = 'C'"
   ]
  },
  {
   "cell_type": "code",
   "execution_count": 12,
   "id": "d39d47ec-ff4e-47b6-a0f7-f97188cc92b2",
   "metadata": {},
   "outputs": [
    {
     "data": {
      "text/html": [
       "<style>\n",
       ".list-inline {list-style: none; margin:0; padding: 0}\n",
       ".list-inline>li {display: inline-block}\n",
       ".list-inline>li:not(:last-child)::after {content: \"\\00b7\"; padding: 0 .5ex}\n",
       "</style>\n",
       "<ol class=list-inline><li>'C'</li><li>'I'</li></ol>\n"
      ],
      "text/latex": [
       "\\begin{enumerate*}\n",
       "\\item 'C'\n",
       "\\item 'I'\n",
       "\\end{enumerate*}\n"
      ],
      "text/markdown": [
       "1. 'C'\n",
       "2. 'I'\n",
       "\n",
       "\n"
      ],
      "text/plain": [
       "[1] \"C\" \"I\""
      ]
     },
     "metadata": {},
     "output_type": "display_data"
    }
   ],
   "source": [
    "unique(vf$Trial)"
   ]
  },
  {
   "cell_type": "code",
   "execution_count": 13,
   "id": "bc131007-fff7-4ebf-8993-f0009ff01f04",
   "metadata": {},
   "outputs": [
    {
     "data": {
      "text/html": [
       "<style>\n",
       ".list-inline {list-style: none; margin:0; padding: 0}\n",
       ".list-inline>li {display: inline-block}\n",
       ".list-inline>li:not(:last-child)::after {content: \"\\00b7\"; padding: 0 .5ex}\n",
       "</style>\n",
       "<ol class=list-inline><li>'PRE'</li><li>'POST'</li><li>'TEST'</li><li>'POST1'</li></ol>\n"
      ],
      "text/latex": [
       "\\begin{enumerate*}\n",
       "\\item 'PRE'\n",
       "\\item 'POST'\n",
       "\\item 'TEST'\n",
       "\\item 'POST1'\n",
       "\\end{enumerate*}\n"
      ],
      "text/markdown": [
       "1. 'PRE'\n",
       "2. 'POST'\n",
       "3. 'TEST'\n",
       "4. 'POST1'\n",
       "\n",
       "\n"
      ],
      "text/plain": [
       "[1] \"PRE\"   \"POST\"  \"TEST\"  \"POST1\""
      ]
     },
     "metadata": {},
     "output_type": "display_data"
    }
   ],
   "source": [
    "unique(vf$Stage)"
   ]
  },
  {
   "cell_type": "code",
   "execution_count": 14,
   "id": "3e1c5a48-0701-4caf-8263-6bbcd278df95",
   "metadata": {},
   "outputs": [],
   "source": [
    "vf$Stage[vf$Stage == 'TEST'] = 'POST'"
   ]
  },
  {
   "cell_type": "code",
   "execution_count": 15,
   "id": "500e2dbc-0b9f-44cd-a225-00a904c44b1e",
   "metadata": {},
   "outputs": [],
   "source": [
    "vf$Stage[vf$Stage == 'POST1'] = 'POST'"
   ]
  },
  {
   "cell_type": "code",
   "execution_count": 16,
   "id": "8517c8df-893e-469d-b407-f8ae1b87c30f",
   "metadata": {},
   "outputs": [
    {
     "data": {
      "text/html": [
       "<style>\n",
       ".list-inline {list-style: none; margin:0; padding: 0}\n",
       ".list-inline>li {display: inline-block}\n",
       ".list-inline>li:not(:last-child)::after {content: \"\\00b7\"; padding: 0 .5ex}\n",
       "</style>\n",
       "<ol class=list-inline><li>'PRE'</li><li>'POST'</li></ol>\n"
      ],
      "text/latex": [
       "\\begin{enumerate*}\n",
       "\\item 'PRE'\n",
       "\\item 'POST'\n",
       "\\end{enumerate*}\n"
      ],
      "text/markdown": [
       "1. 'PRE'\n",
       "2. 'POST'\n",
       "\n",
       "\n"
      ],
      "text/plain": [
       "[1] \"PRE\"  \"POST\""
      ]
     },
     "metadata": {},
     "output_type": "display_data"
    }
   ],
   "source": [
    "unique(vf$Stage)"
   ]
  },
  {
   "cell_type": "code",
   "execution_count": 17,
   "id": "41b03d31-24a1-4f3a-9b6a-924b6567019b",
   "metadata": {},
   "outputs": [
    {
     "data": {
      "text/html": [
       "<style>\n",
       ".list-inline {list-style: none; margin:0; padding: 0}\n",
       ".list-inline>li {display: inline-block}\n",
       ".list-inline>li:not(:last-child)::after {content: \"\\00b7\"; padding: 0 .5ex}\n",
       "</style>\n",
       "<ol class=list-inline><li>2358</li><li>12</li></ol>\n"
      ],
      "text/latex": [
       "\\begin{enumerate*}\n",
       "\\item 2358\n",
       "\\item 12\n",
       "\\end{enumerate*}\n"
      ],
      "text/markdown": [
       "1. 2358\n",
       "2. 12\n",
       "\n",
       "\n"
      ],
      "text/plain": [
       "[1] 2358   12"
      ]
     },
     "metadata": {},
     "output_type": "display_data"
    }
   ],
   "source": [
    "dim(vf)"
   ]
  },
  {
   "cell_type": "code",
   "execution_count": 18,
   "id": "01221928-6a7c-4ba3-8127-a6a87fdf04e0",
   "metadata": {},
   "outputs": [
    {
     "data": {
      "text/html": [
       "<table class=\"dataframe\">\n",
       "<caption>A data.frame: 6 × 12</caption>\n",
       "<thead>\n",
       "\t<tr><th></th><th scope=col>Session</th><th scope=col>Date</th><th scope=col>Treatment</th><th scope=col>Protocol</th><th scope=col>Stage</th><th scope=col>DayNumber</th><th scope=col>Trial</th><th scope=col>ID</th><th scope=col>Latency</th><th scope=col>Reason</th><th scope=col>Scoring</th><th scope=col>Force</th></tr>\n",
       "\t<tr><th></th><th scope=col>&lt;int&gt;</th><th scope=col>&lt;chr&gt;</th><th scope=col>&lt;chr&gt;</th><th scope=col>&lt;chr&gt;</th><th scope=col>&lt;chr&gt;</th><th scope=col>&lt;int&gt;</th><th scope=col>&lt;chr&gt;</th><th scope=col>&lt;chr&gt;</th><th scope=col>&lt;dbl&gt;</th><th scope=col>&lt;chr&gt;</th><th scope=col>&lt;chr&gt;</th><th scope=col>&lt;dbl&gt;</th></tr>\n",
       "</thead>\n",
       "<tbody>\n",
       "\t<tr><th scope=row>1</th><td>1</td><td>2024-03-12 16:21:00</td><td>CCD</td><td>AMN</td><td>PRE</td><td>0</td><td>C</td><td>DW 239</td><td>0.9</td><td>Detection</td><td>Auto</td><td>33.81</td></tr>\n",
       "\t<tr><th scope=row>2</th><td>2</td><td>2024-03-12 16:22:00</td><td>CCD</td><td>AMN</td><td>PRE</td><td>0</td><td>C</td><td>DW 239</td><td>0.1</td><td>Detection</td><td>Auto</td><td> 5.09</td></tr>\n",
       "\t<tr><th scope=row>3</th><td>3</td><td>2024-03-12 16:22:00</td><td>CCD</td><td>AMN</td><td>PRE</td><td>0</td><td>C</td><td>DW 239</td><td>0.8</td><td>Detection</td><td>Auto</td><td>31.31</td></tr>\n",
       "\t<tr><th scope=row>4</th><td>4</td><td>2024-03-12 16:22:00</td><td>CCD</td><td>AMN</td><td>PRE</td><td>0</td><td>I</td><td>DW 239</td><td>0.5</td><td>Detection</td><td>Auto</td><td>21.32</td></tr>\n",
       "\t<tr><th scope=row>5</th><td>5</td><td>2024-03-12 16:23:00</td><td>CCD</td><td>AMN</td><td>PRE</td><td>0</td><td>I</td><td>DW 239</td><td>2.6</td><td>Detection</td><td>Auto</td><td>75.00</td></tr>\n",
       "\t<tr><th scope=row>6</th><td>6</td><td>2024-03-12 16:23:00</td><td>CCD</td><td>AMN</td><td>PRE</td><td>0</td><td>I</td><td>DW 239</td><td>0.5</td><td>Detection</td><td>Auto</td><td>21.32</td></tr>\n",
       "</tbody>\n",
       "</table>\n"
      ],
      "text/latex": [
       "A data.frame: 6 × 12\n",
       "\\begin{tabular}{r|llllllllllll}\n",
       "  & Session & Date & Treatment & Protocol & Stage & DayNumber & Trial & ID & Latency & Reason & Scoring & Force\\\\\n",
       "  & <int> & <chr> & <chr> & <chr> & <chr> & <int> & <chr> & <chr> & <dbl> & <chr> & <chr> & <dbl>\\\\\n",
       "\\hline\n",
       "\t1 & 1 & 2024-03-12 16:21:00 & CCD & AMN & PRE & 0 & C & DW 239 & 0.9 & Detection & Auto & 33.81\\\\\n",
       "\t2 & 2 & 2024-03-12 16:22:00 & CCD & AMN & PRE & 0 & C & DW 239 & 0.1 & Detection & Auto &  5.09\\\\\n",
       "\t3 & 3 & 2024-03-12 16:22:00 & CCD & AMN & PRE & 0 & C & DW 239 & 0.8 & Detection & Auto & 31.31\\\\\n",
       "\t4 & 4 & 2024-03-12 16:22:00 & CCD & AMN & PRE & 0 & I & DW 239 & 0.5 & Detection & Auto & 21.32\\\\\n",
       "\t5 & 5 & 2024-03-12 16:23:00 & CCD & AMN & PRE & 0 & I & DW 239 & 2.6 & Detection & Auto & 75.00\\\\\n",
       "\t6 & 6 & 2024-03-12 16:23:00 & CCD & AMN & PRE & 0 & I & DW 239 & 0.5 & Detection & Auto & 21.32\\\\\n",
       "\\end{tabular}\n"
      ],
      "text/markdown": [
       "\n",
       "A data.frame: 6 × 12\n",
       "\n",
       "| <!--/--> | Session &lt;int&gt; | Date &lt;chr&gt; | Treatment &lt;chr&gt; | Protocol &lt;chr&gt; | Stage &lt;chr&gt; | DayNumber &lt;int&gt; | Trial &lt;chr&gt; | ID &lt;chr&gt; | Latency &lt;dbl&gt; | Reason &lt;chr&gt; | Scoring &lt;chr&gt; | Force &lt;dbl&gt; |\n",
       "|---|---|---|---|---|---|---|---|---|---|---|---|---|\n",
       "| 1 | 1 | 2024-03-12 16:21:00 | CCD | AMN | PRE | 0 | C | DW 239 | 0.9 | Detection | Auto | 33.81 |\n",
       "| 2 | 2 | 2024-03-12 16:22:00 | CCD | AMN | PRE | 0 | C | DW 239 | 0.1 | Detection | Auto |  5.09 |\n",
       "| 3 | 3 | 2024-03-12 16:22:00 | CCD | AMN | PRE | 0 | C | DW 239 | 0.8 | Detection | Auto | 31.31 |\n",
       "| 4 | 4 | 2024-03-12 16:22:00 | CCD | AMN | PRE | 0 | I | DW 239 | 0.5 | Detection | Auto | 21.32 |\n",
       "| 5 | 5 | 2024-03-12 16:23:00 | CCD | AMN | PRE | 0 | I | DW 239 | 2.6 | Detection | Auto | 75.00 |\n",
       "| 6 | 6 | 2024-03-12 16:23:00 | CCD | AMN | PRE | 0 | I | DW 239 | 0.5 | Detection | Auto | 21.32 |\n",
       "\n"
      ],
      "text/plain": [
       "  Session Date                Treatment Protocol Stage DayNumber Trial ID    \n",
       "1 1       2024-03-12 16:21:00 CCD       AMN      PRE   0         C     DW 239\n",
       "2 2       2024-03-12 16:22:00 CCD       AMN      PRE   0         C     DW 239\n",
       "3 3       2024-03-12 16:22:00 CCD       AMN      PRE   0         C     DW 239\n",
       "4 4       2024-03-12 16:22:00 CCD       AMN      PRE   0         I     DW 239\n",
       "5 5       2024-03-12 16:23:00 CCD       AMN      PRE   0         I     DW 239\n",
       "6 6       2024-03-12 16:23:00 CCD       AMN      PRE   0         I     DW 239\n",
       "  Latency Reason    Scoring Force\n",
       "1 0.9     Detection Auto    33.81\n",
       "2 0.1     Detection Auto     5.09\n",
       "3 0.8     Detection Auto    31.31\n",
       "4 0.5     Detection Auto    21.32\n",
       "5 2.6     Detection Auto    75.00\n",
       "6 0.5     Detection Auto    21.32"
      ]
     },
     "metadata": {},
     "output_type": "display_data"
    }
   ],
   "source": [
    "head(vf)"
   ]
  },
  {
   "cell_type": "code",
   "execution_count": 19,
   "id": "f46fd16d-ef40-4655-919a-c18659d99ab2",
   "metadata": {},
   "outputs": [
    {
     "data": {
      "text/html": [
       "<style>\n",
       ".list-inline {list-style: none; margin:0; padding: 0}\n",
       ".list-inline>li {display: inline-block}\n",
       ".list-inline>li:not(:last-child)::after {content: \"\\00b7\"; padding: 0 .5ex}\n",
       "</style>\n",
       "<ol class=list-inline><li>0</li><li>3</li><li>7</li><li>13</li><li>4</li><li>21</li><li>24</li><li>30</li><li>14</li><li>10</li><li>17</li><li>25</li><li>28</li><li>18</li><li>6</li><li>9</li><li>12</li><li>15</li><li>5</li><li>16</li><li>20</li><li>8</li><li>26</li><li>32</li><li>27</li><li>11</li><li>22</li><li>1</li><li>19</li></ol>\n"
      ],
      "text/latex": [
       "\\begin{enumerate*}\n",
       "\\item 0\n",
       "\\item 3\n",
       "\\item 7\n",
       "\\item 13\n",
       "\\item 4\n",
       "\\item 21\n",
       "\\item 24\n",
       "\\item 30\n",
       "\\item 14\n",
       "\\item 10\n",
       "\\item 17\n",
       "\\item 25\n",
       "\\item 28\n",
       "\\item 18\n",
       "\\item 6\n",
       "\\item 9\n",
       "\\item 12\n",
       "\\item 15\n",
       "\\item 5\n",
       "\\item 16\n",
       "\\item 20\n",
       "\\item 8\n",
       "\\item 26\n",
       "\\item 32\n",
       "\\item 27\n",
       "\\item 11\n",
       "\\item 22\n",
       "\\item 1\n",
       "\\item 19\n",
       "\\end{enumerate*}\n"
      ],
      "text/markdown": [
       "1. 0\n",
       "2. 3\n",
       "3. 7\n",
       "4. 13\n",
       "5. 4\n",
       "6. 21\n",
       "7. 24\n",
       "8. 30\n",
       "9. 14\n",
       "10. 10\n",
       "11. 17\n",
       "12. 25\n",
       "13. 28\n",
       "14. 18\n",
       "15. 6\n",
       "16. 9\n",
       "17. 12\n",
       "18. 15\n",
       "19. 5\n",
       "20. 16\n",
       "21. 20\n",
       "22. 8\n",
       "23. 26\n",
       "24. 32\n",
       "25. 27\n",
       "26. 11\n",
       "27. 22\n",
       "28. 1\n",
       "29. 19\n",
       "\n",
       "\n"
      ],
      "text/plain": [
       " [1]  0  3  7 13  4 21 24 30 14 10 17 25 28 18  6  9 12 15  5 16 20  8 26 32 27\n",
       "[26] 11 22  1 19"
      ]
     },
     "metadata": {},
     "output_type": "display_data"
    }
   ],
   "source": [
    "unique(vf$DayNumber)"
   ]
  },
  {
   "cell_type": "code",
   "execution_count": 20,
   "id": "22ce3469-1961-4cd6-a803-ca2567c2138d",
   "metadata": {},
   "outputs": [
    {
     "data": {
      "text/html": [
       "<style>\n",
       ".list-inline {list-style: none; margin:0; padding: 0}\n",
       ".list-inline>li {display: inline-block}\n",
       ".list-inline>li:not(:last-child)::after {content: \"\\00b7\"; padding: 0 .5ex}\n",
       "</style>\n",
       "<ol class=list-inline><li>'DW 239'</li><li>'DW 240'</li><li>'DW 241'</li><li>'DW 24X'</li><li>'DW 270'</li><li>'DW 291'</li><li>'DW 284'</li><li>'DW 283'</li><li>'DW 282'</li><li>'DW 288'</li><li>'DW 2X2'</li><li>'DW 2X3'</li><li>'DW 2X4'</li><li>'DW 293'</li><li>'DW 322'</li><li>'DW 323'</li><li>'DW368'</li><li>'DW369'</li></ol>\n"
      ],
      "text/latex": [
       "\\begin{enumerate*}\n",
       "\\item 'DW 239'\n",
       "\\item 'DW 240'\n",
       "\\item 'DW 241'\n",
       "\\item 'DW 24X'\n",
       "\\item 'DW 270'\n",
       "\\item 'DW 291'\n",
       "\\item 'DW 284'\n",
       "\\item 'DW 283'\n",
       "\\item 'DW 282'\n",
       "\\item 'DW 288'\n",
       "\\item 'DW 2X2'\n",
       "\\item 'DW 2X3'\n",
       "\\item 'DW 2X4'\n",
       "\\item 'DW 293'\n",
       "\\item 'DW 322'\n",
       "\\item 'DW 323'\n",
       "\\item 'DW368'\n",
       "\\item 'DW369'\n",
       "\\end{enumerate*}\n"
      ],
      "text/markdown": [
       "1. 'DW 239'\n",
       "2. 'DW 240'\n",
       "3. 'DW 241'\n",
       "4. 'DW 24X'\n",
       "5. 'DW 270'\n",
       "6. 'DW 291'\n",
       "7. 'DW 284'\n",
       "8. 'DW 283'\n",
       "9. 'DW 282'\n",
       "10. 'DW 288'\n",
       "11. 'DW 2X2'\n",
       "12. 'DW 2X3'\n",
       "13. 'DW 2X4'\n",
       "14. 'DW 293'\n",
       "15. 'DW 322'\n",
       "16. 'DW 323'\n",
       "17. 'DW368'\n",
       "18. 'DW369'\n",
       "\n",
       "\n"
      ],
      "text/plain": [
       " [1] \"DW 239\" \"DW 240\" \"DW 241\" \"DW 24X\" \"DW 270\" \"DW 291\" \"DW 284\" \"DW 283\"\n",
       " [9] \"DW 282\" \"DW 288\" \"DW 2X2\" \"DW 2X3\" \"DW 2X4\" \"DW 293\" \"DW 322\" \"DW 323\"\n",
       "[17] \"DW368\"  \"DW369\" "
      ]
     },
     "metadata": {},
     "output_type": "display_data"
    }
   ],
   "source": [
    "unique(vf$ID)"
   ]
  },
  {
   "cell_type": "code",
   "execution_count": 21,
   "id": "8d27987d-c2f4-44df-824f-301541fb7dc9",
   "metadata": {},
   "outputs": [
    {
     "ename": "ERROR",
     "evalue": "Error in parse(text = input): <text>:1:37: unexpected ','\n1: write.csv(vf, file = 'final_vf.csv'),\n                                        ^\n",
     "output_type": "error",
     "traceback": [
      "Error in parse(text = input): <text>:1:37: unexpected ','\n1: write.csv(vf, file = 'final_vf.csv'),\n                                        ^\nTraceback:\n"
     ]
    }
   ],
   "source": [
    "write.csv(vf, file = 'final_vf.csv'), row.names = FALSE)"
   ]
  },
  {
   "cell_type": "code",
   "execution_count": null,
   "id": "fff58297-f305-4398-b962-8c233ce433b1",
   "metadata": {},
   "outputs": [],
   "source": []
  }
 ],
 "metadata": {
  "kernelspec": {
   "display_name": "R",
   "language": "R",
   "name": "ir"
  },
  "language_info": {
   "codemirror_mode": "r",
   "file_extension": ".r",
   "mimetype": "text/x-r-source",
   "name": "R",
   "pygments_lexer": "r",
   "version": "4.5.1"
  }
 },
 "nbformat": 4,
 "nbformat_minor": 5
}

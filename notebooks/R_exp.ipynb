{
 "cells": [
  {
   "cell_type": "code",
   "execution_count": 1,
   "id": "97ba297f-29f4-4940-a770-c8b75649c204",
   "metadata": {},
   "outputs": [],
   "source": [
    "vf_short = read.csv('final_dataset.csv')"
   ]
  },
  {
   "cell_type": "code",
   "execution_count": 2,
   "id": "e3311bad-6148-44d4-b208-372f13238620",
   "metadata": {},
   "outputs": [],
   "source": [
    "vf_long = read.csv('clean_vf_all.csv')"
   ]
  },
  {
   "cell_type": "code",
   "execution_count": 3,
   "id": "fdfdea14-7e24-4f34-9ed0-28e7e336049a",
   "metadata": {},
   "outputs": [
    {
     "data": {
      "text/html": [
       "<table class=\"dataframe\">\n",
       "<caption>A data.frame: 6 × 20</caption>\n",
       "<thead>\n",
       "\t<tr><th></th><th scope=col>Session</th><th scope=col>Date</th><th scope=col>Treatment</th><th scope=col>Protocol</th><th scope=col>Stage</th><th scope=col>dayspost</th><th scope=col>Trial</th><th scope=col>ID</th><th scope=col>Latency</th><th scope=col>Reason</th><th scope=col>Mode</th><th scope=col>Scoring</th><th scope=col>Force</th><th scope=col>TargetForce</th><th scope=col>RampDuration</th><th scope=col>CutoffTime</th><th scope=col>LegacyMode</th><th scope=col>TouchPause</th><th scope=col>TouchForce</th><th scope=col>TimeThreshold</th></tr>\n",
       "\t<tr><th></th><th scope=col>&lt;int&gt;</th><th scope=col>&lt;chr&gt;</th><th scope=col>&lt;chr&gt;</th><th scope=col>&lt;chr&gt;</th><th scope=col>&lt;chr&gt;</th><th scope=col>&lt;int&gt;</th><th scope=col>&lt;chr&gt;</th><th scope=col>&lt;chr&gt;</th><th scope=col>&lt;dbl&gt;</th><th scope=col>&lt;chr&gt;</th><th scope=col>&lt;chr&gt;</th><th scope=col>&lt;chr&gt;</th><th scope=col>&lt;dbl&gt;</th><th scope=col>&lt;int&gt;</th><th scope=col>&lt;int&gt;</th><th scope=col>&lt;int&gt;</th><th scope=col>&lt;chr&gt;</th><th scope=col>&lt;dbl&gt;</th><th scope=col>&lt;dbl&gt;</th><th scope=col>&lt;int&gt;</th></tr>\n",
       "</thead>\n",
       "<tbody>\n",
       "\t<tr><th scope=row>1</th><td>1</td><td>2024-03-12 16:21:00</td><td>CCD</td><td>AMN</td><td>PRE</td><td>0</td><td>C</td><td>DW 239</td><td>0.9</td><td>Detection</td><td>Ramp</td><td>Auto</td><td>33.81</td><td>75</td><td>2</td><td>30</td><td>OFF</td><td>1.2</td><td>0.1</td><td>0</td></tr>\n",
       "\t<tr><th scope=row>2</th><td>2</td><td>2024-03-12 16:22:00</td><td>CCD</td><td>AMN</td><td>PRE</td><td>0</td><td>C</td><td>DW 239</td><td>0.1</td><td>Detection</td><td>Ramp</td><td>Auto</td><td> 5.09</td><td>75</td><td>2</td><td>30</td><td>OFF</td><td>1.2</td><td>0.1</td><td>0</td></tr>\n",
       "\t<tr><th scope=row>3</th><td>3</td><td>2024-03-12 16:22:00</td><td>CCD</td><td>AMN</td><td>PRE</td><td>0</td><td>C</td><td>DW 239</td><td>0.8</td><td>Detection</td><td>Ramp</td><td>Auto</td><td>31.31</td><td>75</td><td>2</td><td>30</td><td>OFF</td><td>1.2</td><td>0.1</td><td>0</td></tr>\n",
       "\t<tr><th scope=row>4</th><td>4</td><td>2024-03-12 16:22:00</td><td>CCD</td><td>AMN</td><td>PRE</td><td>0</td><td>I</td><td>DW 239</td><td>0.5</td><td>Detection</td><td>Ramp</td><td>Auto</td><td>21.32</td><td>75</td><td>2</td><td>30</td><td>OFF</td><td>1.2</td><td>0.1</td><td>0</td></tr>\n",
       "\t<tr><th scope=row>5</th><td>5</td><td>2024-03-12 16:23:00</td><td>CCD</td><td>AMN</td><td>PRE</td><td>0</td><td>I</td><td>DW 239</td><td>2.6</td><td>Detection</td><td>Ramp</td><td>Auto</td><td>75.00</td><td>75</td><td>2</td><td>30</td><td>OFF</td><td>1.2</td><td>0.1</td><td>0</td></tr>\n",
       "\t<tr><th scope=row>6</th><td>6</td><td>2024-03-12 16:23:00</td><td>CCD</td><td>AMN</td><td>PRE</td><td>0</td><td>I</td><td>DW 239</td><td>0.5</td><td>Detection</td><td>Ramp</td><td>Auto</td><td>21.32</td><td>75</td><td>2</td><td>30</td><td>OFF</td><td>1.2</td><td>0.1</td><td>0</td></tr>\n",
       "</tbody>\n",
       "</table>\n"
      ],
      "text/latex": [
       "A data.frame: 6 × 20\n",
       "\\begin{tabular}{r|llllllllllllllllllll}\n",
       "  & Session & Date & Treatment & Protocol & Stage & dayspost & Trial & ID & Latency & Reason & Mode & Scoring & Force & TargetForce & RampDuration & CutoffTime & LegacyMode & TouchPause & TouchForce & TimeThreshold\\\\\n",
       "  & <int> & <chr> & <chr> & <chr> & <chr> & <int> & <chr> & <chr> & <dbl> & <chr> & <chr> & <chr> & <dbl> & <int> & <int> & <int> & <chr> & <dbl> & <dbl> & <int>\\\\\n",
       "\\hline\n",
       "\t1 & 1 & 2024-03-12 16:21:00 & CCD & AMN & PRE & 0 & C & DW 239 & 0.9 & Detection & Ramp & Auto & 33.81 & 75 & 2 & 30 & OFF & 1.2 & 0.1 & 0\\\\\n",
       "\t2 & 2 & 2024-03-12 16:22:00 & CCD & AMN & PRE & 0 & C & DW 239 & 0.1 & Detection & Ramp & Auto &  5.09 & 75 & 2 & 30 & OFF & 1.2 & 0.1 & 0\\\\\n",
       "\t3 & 3 & 2024-03-12 16:22:00 & CCD & AMN & PRE & 0 & C & DW 239 & 0.8 & Detection & Ramp & Auto & 31.31 & 75 & 2 & 30 & OFF & 1.2 & 0.1 & 0\\\\\n",
       "\t4 & 4 & 2024-03-12 16:22:00 & CCD & AMN & PRE & 0 & I & DW 239 & 0.5 & Detection & Ramp & Auto & 21.32 & 75 & 2 & 30 & OFF & 1.2 & 0.1 & 0\\\\\n",
       "\t5 & 5 & 2024-03-12 16:23:00 & CCD & AMN & PRE & 0 & I & DW 239 & 2.6 & Detection & Ramp & Auto & 75.00 & 75 & 2 & 30 & OFF & 1.2 & 0.1 & 0\\\\\n",
       "\t6 & 6 & 2024-03-12 16:23:00 & CCD & AMN & PRE & 0 & I & DW 239 & 0.5 & Detection & Ramp & Auto & 21.32 & 75 & 2 & 30 & OFF & 1.2 & 0.1 & 0\\\\\n",
       "\\end{tabular}\n"
      ],
      "text/markdown": [
       "\n",
       "A data.frame: 6 × 20\n",
       "\n",
       "| <!--/--> | Session &lt;int&gt; | Date &lt;chr&gt; | Treatment &lt;chr&gt; | Protocol &lt;chr&gt; | Stage &lt;chr&gt; | dayspost &lt;int&gt; | Trial &lt;chr&gt; | ID &lt;chr&gt; | Latency &lt;dbl&gt; | Reason &lt;chr&gt; | Mode &lt;chr&gt; | Scoring &lt;chr&gt; | Force &lt;dbl&gt; | TargetForce &lt;int&gt; | RampDuration &lt;int&gt; | CutoffTime &lt;int&gt; | LegacyMode &lt;chr&gt; | TouchPause &lt;dbl&gt; | TouchForce &lt;dbl&gt; | TimeThreshold &lt;int&gt; |\n",
       "|---|---|---|---|---|---|---|---|---|---|---|---|---|---|---|---|---|---|---|---|---|\n",
       "| 1 | 1 | 2024-03-12 16:21:00 | CCD | AMN | PRE | 0 | C | DW 239 | 0.9 | Detection | Ramp | Auto | 33.81 | 75 | 2 | 30 | OFF | 1.2 | 0.1 | 0 |\n",
       "| 2 | 2 | 2024-03-12 16:22:00 | CCD | AMN | PRE | 0 | C | DW 239 | 0.1 | Detection | Ramp | Auto |  5.09 | 75 | 2 | 30 | OFF | 1.2 | 0.1 | 0 |\n",
       "| 3 | 3 | 2024-03-12 16:22:00 | CCD | AMN | PRE | 0 | C | DW 239 | 0.8 | Detection | Ramp | Auto | 31.31 | 75 | 2 | 30 | OFF | 1.2 | 0.1 | 0 |\n",
       "| 4 | 4 | 2024-03-12 16:22:00 | CCD | AMN | PRE | 0 | I | DW 239 | 0.5 | Detection | Ramp | Auto | 21.32 | 75 | 2 | 30 | OFF | 1.2 | 0.1 | 0 |\n",
       "| 5 | 5 | 2024-03-12 16:23:00 | CCD | AMN | PRE | 0 | I | DW 239 | 2.6 | Detection | Ramp | Auto | 75.00 | 75 | 2 | 30 | OFF | 1.2 | 0.1 | 0 |\n",
       "| 6 | 6 | 2024-03-12 16:23:00 | CCD | AMN | PRE | 0 | I | DW 239 | 0.5 | Detection | Ramp | Auto | 21.32 | 75 | 2 | 30 | OFF | 1.2 | 0.1 | 0 |\n",
       "\n"
      ],
      "text/plain": [
       "  Session Date                Treatment Protocol Stage dayspost Trial ID    \n",
       "1 1       2024-03-12 16:21:00 CCD       AMN      PRE   0        C     DW 239\n",
       "2 2       2024-03-12 16:22:00 CCD       AMN      PRE   0        C     DW 239\n",
       "3 3       2024-03-12 16:22:00 CCD       AMN      PRE   0        C     DW 239\n",
       "4 4       2024-03-12 16:22:00 CCD       AMN      PRE   0        I     DW 239\n",
       "5 5       2024-03-12 16:23:00 CCD       AMN      PRE   0        I     DW 239\n",
       "6 6       2024-03-12 16:23:00 CCD       AMN      PRE   0        I     DW 239\n",
       "  Latency Reason    Mode Scoring Force TargetForce RampDuration CutoffTime\n",
       "1 0.9     Detection Ramp Auto    33.81 75          2            30        \n",
       "2 0.1     Detection Ramp Auto     5.09 75          2            30        \n",
       "3 0.8     Detection Ramp Auto    31.31 75          2            30        \n",
       "4 0.5     Detection Ramp Auto    21.32 75          2            30        \n",
       "5 2.6     Detection Ramp Auto    75.00 75          2            30        \n",
       "6 0.5     Detection Ramp Auto    21.32 75          2            30        \n",
       "  LegacyMode TouchPause TouchForce TimeThreshold\n",
       "1 OFF        1.2        0.1        0            \n",
       "2 OFF        1.2        0.1        0            \n",
       "3 OFF        1.2        0.1        0            \n",
       "4 OFF        1.2        0.1        0            \n",
       "5 OFF        1.2        0.1        0            \n",
       "6 OFF        1.2        0.1        0            "
      ]
     },
     "metadata": {},
     "output_type": "display_data"
    }
   ],
   "source": [
    "head(vf_long)"
   ]
  },
  {
   "cell_type": "code",
   "execution_count": 4,
   "id": "4c97fb33-2fb8-4007-b7c6-6d0a74462a1a",
   "metadata": {},
   "outputs": [
    {
     "data": {
      "text/html": [
       "<table class=\"dataframe\">\n",
       "<caption>A data.frame: 6 × 15</caption>\n",
       "<thead>\n",
       "\t<tr><th></th><th scope=col>Session</th><th scope=col>Date</th><th scope=col>Treatment</th><th scope=col>Protocol</th><th scope=col>Stage</th><th scope=col>Trial</th><th scope=col>ID</th><th scope=col>Latency</th><th scope=col>Reason</th><th scope=col>Scoring</th><th scope=col>Force</th><th scope=col>Inconsistent</th><th scope=col>Response</th><th scope=col>SurgeryDate</th><th scope=col>DayNumber</th></tr>\n",
       "\t<tr><th></th><th scope=col>&lt;int&gt;</th><th scope=col>&lt;chr&gt;</th><th scope=col>&lt;chr&gt;</th><th scope=col>&lt;chr&gt;</th><th scope=col>&lt;chr&gt;</th><th scope=col>&lt;chr&gt;</th><th scope=col>&lt;chr&gt;</th><th scope=col>&lt;dbl&gt;</th><th scope=col>&lt;chr&gt;</th><th scope=col>&lt;chr&gt;</th><th scope=col>&lt;dbl&gt;</th><th scope=col>&lt;chr&gt;</th><th scope=col>&lt;int&gt;</th><th scope=col>&lt;chr&gt;</th><th scope=col>&lt;int&gt;</th></tr>\n",
       "</thead>\n",
       "<tbody>\n",
       "\t<tr><th scope=row>1</th><td>3137</td><td>2025-07-02 09:19:54</td><td>CCD</td><td>AMN</td><td>PRE</td><td>C</td><td>DW368</td><td>1.8</td><td>Detection  </td><td>Auto</td><td>19.20</td><td>False</td><td>1</td><td>2025-07-02 09:19:54</td><td>0</td></tr>\n",
       "\t<tr><th scope=row>2</th><td>3138</td><td>2025-07-02 09:20:12</td><td>CCD</td><td>AMN</td><td>PRE</td><td>C</td><td>DW368</td><td>5.1</td><td>Detection  </td><td>Auto</td><td>51.04</td><td>False</td><td>1</td><td>2025-07-02 09:19:54</td><td>0</td></tr>\n",
       "\t<tr><th scope=row>3</th><td>3139</td><td>2025-07-02 09:20:29</td><td>CCD</td><td>AMN</td><td>PRE</td><td>C</td><td>DW368</td><td>6.2</td><td>Detection  </td><td>Auto</td><td>60.00</td><td>False</td><td>1</td><td>2025-07-02 09:19:54</td><td>0</td></tr>\n",
       "\t<tr><th scope=row>4</th><td>3140</td><td>2025-07-02 09:20:39</td><td>CCD</td><td>AMN</td><td>PRE</td><td>C</td><td>DW368</td><td>0.0</td><td>Manual Stop</td><td>Auto</td><td> 0.30</td><td>False</td><td>0</td><td>2025-07-02 09:19:54</td><td>0</td></tr>\n",
       "\t<tr><th scope=row>5</th><td>3141</td><td>2025-07-02 09:20:47</td><td>CCD</td><td>AMN</td><td>PRE</td><td>C</td><td>DW368</td><td>5.3</td><td>Detection  </td><td>Auto</td><td>54.03</td><td>False</td><td>1</td><td>2025-07-02 09:19:54</td><td>0</td></tr>\n",
       "\t<tr><th scope=row>6</th><td>3142</td><td>2025-07-02 09:20:59</td><td>CCD</td><td>AMN</td><td>PRE</td><td>C</td><td>DW368</td><td>5.5</td><td>Detection  </td><td>Auto</td><td>55.36</td><td>False</td><td>1</td><td>2025-07-02 09:19:54</td><td>0</td></tr>\n",
       "</tbody>\n",
       "</table>\n"
      ],
      "text/latex": [
       "A data.frame: 6 × 15\n",
       "\\begin{tabular}{r|lllllllllllllll}\n",
       "  & Session & Date & Treatment & Protocol & Stage & Trial & ID & Latency & Reason & Scoring & Force & Inconsistent & Response & SurgeryDate & DayNumber\\\\\n",
       "  & <int> & <chr> & <chr> & <chr> & <chr> & <chr> & <chr> & <dbl> & <chr> & <chr> & <dbl> & <chr> & <int> & <chr> & <int>\\\\\n",
       "\\hline\n",
       "\t1 & 3137 & 2025-07-02 09:19:54 & CCD & AMN & PRE & C & DW368 & 1.8 & Detection   & Auto & 19.20 & False & 1 & 2025-07-02 09:19:54 & 0\\\\\n",
       "\t2 & 3138 & 2025-07-02 09:20:12 & CCD & AMN & PRE & C & DW368 & 5.1 & Detection   & Auto & 51.04 & False & 1 & 2025-07-02 09:19:54 & 0\\\\\n",
       "\t3 & 3139 & 2025-07-02 09:20:29 & CCD & AMN & PRE & C & DW368 & 6.2 & Detection   & Auto & 60.00 & False & 1 & 2025-07-02 09:19:54 & 0\\\\\n",
       "\t4 & 3140 & 2025-07-02 09:20:39 & CCD & AMN & PRE & C & DW368 & 0.0 & Manual Stop & Auto &  0.30 & False & 0 & 2025-07-02 09:19:54 & 0\\\\\n",
       "\t5 & 3141 & 2025-07-02 09:20:47 & CCD & AMN & PRE & C & DW368 & 5.3 & Detection   & Auto & 54.03 & False & 1 & 2025-07-02 09:19:54 & 0\\\\\n",
       "\t6 & 3142 & 2025-07-02 09:20:59 & CCD & AMN & PRE & C & DW368 & 5.5 & Detection   & Auto & 55.36 & False & 1 & 2025-07-02 09:19:54 & 0\\\\\n",
       "\\end{tabular}\n"
      ],
      "text/markdown": [
       "\n",
       "A data.frame: 6 × 15\n",
       "\n",
       "| <!--/--> | Session &lt;int&gt; | Date &lt;chr&gt; | Treatment &lt;chr&gt; | Protocol &lt;chr&gt; | Stage &lt;chr&gt; | Trial &lt;chr&gt; | ID &lt;chr&gt; | Latency &lt;dbl&gt; | Reason &lt;chr&gt; | Scoring &lt;chr&gt; | Force &lt;dbl&gt; | Inconsistent &lt;chr&gt; | Response &lt;int&gt; | SurgeryDate &lt;chr&gt; | DayNumber &lt;int&gt; |\n",
       "|---|---|---|---|---|---|---|---|---|---|---|---|---|---|---|---|\n",
       "| 1 | 3137 | 2025-07-02 09:19:54 | CCD | AMN | PRE | C | DW368 | 1.8 | Detection   | Auto | 19.20 | False | 1 | 2025-07-02 09:19:54 | 0 |\n",
       "| 2 | 3138 | 2025-07-02 09:20:12 | CCD | AMN | PRE | C | DW368 | 5.1 | Detection   | Auto | 51.04 | False | 1 | 2025-07-02 09:19:54 | 0 |\n",
       "| 3 | 3139 | 2025-07-02 09:20:29 | CCD | AMN | PRE | C | DW368 | 6.2 | Detection   | Auto | 60.00 | False | 1 | 2025-07-02 09:19:54 | 0 |\n",
       "| 4 | 3140 | 2025-07-02 09:20:39 | CCD | AMN | PRE | C | DW368 | 0.0 | Manual Stop | Auto |  0.30 | False | 0 | 2025-07-02 09:19:54 | 0 |\n",
       "| 5 | 3141 | 2025-07-02 09:20:47 | CCD | AMN | PRE | C | DW368 | 5.3 | Detection   | Auto | 54.03 | False | 1 | 2025-07-02 09:19:54 | 0 |\n",
       "| 6 | 3142 | 2025-07-02 09:20:59 | CCD | AMN | PRE | C | DW368 | 5.5 | Detection   | Auto | 55.36 | False | 1 | 2025-07-02 09:19:54 | 0 |\n",
       "\n"
      ],
      "text/plain": [
       "  Session Date                Treatment Protocol Stage Trial ID    Latency\n",
       "1 3137    2025-07-02 09:19:54 CCD       AMN      PRE   C     DW368 1.8    \n",
       "2 3138    2025-07-02 09:20:12 CCD       AMN      PRE   C     DW368 5.1    \n",
       "3 3139    2025-07-02 09:20:29 CCD       AMN      PRE   C     DW368 6.2    \n",
       "4 3140    2025-07-02 09:20:39 CCD       AMN      PRE   C     DW368 0.0    \n",
       "5 3141    2025-07-02 09:20:47 CCD       AMN      PRE   C     DW368 5.3    \n",
       "6 3142    2025-07-02 09:20:59 CCD       AMN      PRE   C     DW368 5.5    \n",
       "  Reason      Scoring Force Inconsistent Response SurgeryDate         DayNumber\n",
       "1 Detection   Auto    19.20 False        1        2025-07-02 09:19:54 0        \n",
       "2 Detection   Auto    51.04 False        1        2025-07-02 09:19:54 0        \n",
       "3 Detection   Auto    60.00 False        1        2025-07-02 09:19:54 0        \n",
       "4 Manual Stop Auto     0.30 False        0        2025-07-02 09:19:54 0        \n",
       "5 Detection   Auto    54.03 False        1        2025-07-02 09:19:54 0        \n",
       "6 Detection   Auto    55.36 False        1        2025-07-02 09:19:54 0        "
      ]
     },
     "metadata": {},
     "output_type": "display_data"
    }
   ],
   "source": [
    "head(vf_short)"
   ]
  },
  {
   "cell_type": "code",
   "execution_count": 5,
   "id": "b056eb59-d712-4db4-b86c-83633a0d5ebe",
   "metadata": {},
   "outputs": [],
   "source": [
    "new_vf = merge(vf_long, vf_short)"
   ]
  },
  {
   "cell_type": "code",
   "execution_count": 6,
   "id": "dd461abc-fe24-4b7d-bfa6-82a62e8e6bf4",
   "metadata": {},
   "outputs": [
    {
     "name": "stderr",
     "output_type": "stream",
     "text": [
      "Warning message in cbind(parts$left, chars$ellip_h, parts$right, deparse.level = 0L):\n",
      "“number of rows of result is not a multiple of vector length (arg 2)”\n",
      "Warning message in cbind(parts$left, chars$ellip_h, parts$right, deparse.level = 0L):\n",
      "“number of rows of result is not a multiple of vector length (arg 2)”\n",
      "Warning message in cbind(parts$left, chars$ellip_h, parts$right, deparse.level = 0L):\n",
      "“number of rows of result is not a multiple of vector length (arg 2)”\n",
      "Warning message in cbind(parts$left, chars$ellip_h, parts$right, deparse.level = 0L):\n",
      "“number of rows of result is not a multiple of vector length (arg 2)”\n"
     ]
    },
    {
     "data": {
      "text/html": [
       "<table class=\"dataframe\">\n",
       "<caption>A data.frame: 0 × 24</caption>\n",
       "<thead>\n",
       "\t<tr><th scope=col>Session</th><th scope=col>Date</th><th scope=col>Treatment</th><th scope=col>Protocol</th><th scope=col>Stage</th><th scope=col>Trial</th><th scope=col>ID</th><th scope=col>Latency</th><th scope=col>Reason</th><th scope=col>Scoring</th><th scope=col>⋯</th><th scope=col>RampDuration</th><th scope=col>CutoffTime</th><th scope=col>LegacyMode</th><th scope=col>TouchPause</th><th scope=col>TouchForce</th><th scope=col>TimeThreshold</th><th scope=col>Inconsistent</th><th scope=col>Response</th><th scope=col>SurgeryDate</th><th scope=col>DayNumber</th></tr>\n",
       "\t<tr><th scope=col>&lt;int&gt;</th><th scope=col>&lt;chr&gt;</th><th scope=col>&lt;chr&gt;</th><th scope=col>&lt;chr&gt;</th><th scope=col>&lt;chr&gt;</th><th scope=col>&lt;chr&gt;</th><th scope=col>&lt;chr&gt;</th><th scope=col>&lt;dbl&gt;</th><th scope=col>&lt;chr&gt;</th><th scope=col>&lt;chr&gt;</th><th scope=col>⋯</th><th scope=col>&lt;int&gt;</th><th scope=col>&lt;int&gt;</th><th scope=col>&lt;chr&gt;</th><th scope=col>&lt;dbl&gt;</th><th scope=col>&lt;dbl&gt;</th><th scope=col>&lt;int&gt;</th><th scope=col>&lt;chr&gt;</th><th scope=col>&lt;int&gt;</th><th scope=col>&lt;chr&gt;</th><th scope=col>&lt;int&gt;</th></tr>\n",
       "</thead>\n",
       "<tbody>\n",
       "</tbody>\n",
       "</table>\n"
      ],
      "text/latex": [
       "A data.frame: 0 × 24\n",
       "\\begin{tabular}{lllllllllllllllllllll}\n",
       " Session & Date & Treatment & Protocol & Stage & Trial & ID & Latency & Reason & Scoring & ⋯ & RampDuration & CutoffTime & LegacyMode & TouchPause & TouchForce & TimeThreshold & Inconsistent & Response & SurgeryDate & DayNumber\\\\\n",
       " <int> & <chr> & <chr> & <chr> & <chr> & <chr> & <chr> & <dbl> & <chr> & <chr> & ⋯ & <int> & <int> & <chr> & <dbl> & <dbl> & <int> & <chr> & <int> & <chr> & <int>\\\\\n",
       "\\hline\n",
       "\\end{tabular}\n"
      ],
      "text/markdown": [
       "\n",
       "A data.frame: 0 × 24\n",
       "\n",
       "| Session &lt;int&gt; | Date &lt;chr&gt; | Treatment &lt;chr&gt; | Protocol &lt;chr&gt; | Stage &lt;chr&gt; | Trial &lt;chr&gt; | ID &lt;chr&gt; | Latency &lt;dbl&gt; | Reason &lt;chr&gt; | Scoring &lt;chr&gt; | ⋯ ⋯ | RampDuration &lt;int&gt; | CutoffTime &lt;int&gt; | LegacyMode &lt;chr&gt; | TouchPause &lt;dbl&gt; | TouchForce &lt;dbl&gt; | TimeThreshold &lt;int&gt; | Inconsistent &lt;chr&gt; | Response &lt;int&gt; | SurgeryDate &lt;chr&gt; | DayNumber &lt;int&gt; |\n",
       "|---|---|---|---|---|---|---|---|---|---|---|---|---|---|---|---|---|---|---|---|---|\n",
       "\n"
      ],
      "text/plain": [
       "     Session Date Treatment Protocol Stage Trial ID Latency Reason Scoring ⋯\n",
       "     RampDuration CutoffTime LegacyMode TouchPause TouchForce TimeThreshold\n",
       "     Inconsistent Response SurgeryDate DayNumber"
      ]
     },
     "metadata": {},
     "output_type": "display_data"
    }
   ],
   "source": [
    "new_vf"
   ]
  },
  {
   "cell_type": "code",
   "execution_count": 7,
   "id": "d42cc1dd-a158-4324-a5cf-d0ee2cfbfc32",
   "metadata": {},
   "outputs": [
    {
     "name": "stdout",
     "output_type": "stream",
     "text": [
      "\n",
      "The downloaded binary packages are in\n",
      "\t/var/folders/ws/dmbkn8cx75l33lp2zph5rpbw0000gn/T//RtmpzB937v/downloaded_packages\n"
     ]
    }
   ],
   "source": [
    "install.packages('dplyr')"
   ]
  },
  {
   "cell_type": "code",
   "execution_count": 8,
   "id": "fa7b1dd3-c5b4-42e9-acc0-c8290f7a9157",
   "metadata": {},
   "outputs": [
    {
     "name": "stderr",
     "output_type": "stream",
     "text": [
      "\n",
      "Attaching package: ‘dplyr’\n",
      "\n",
      "\n",
      "The following objects are masked from ‘package:stats’:\n",
      "\n",
      "    filter, lag\n",
      "\n",
      "\n",
      "The following objects are masked from ‘package:base’:\n",
      "\n",
      "    intersect, setdiff, setequal, union\n",
      "\n",
      "\n"
     ]
    }
   ],
   "source": [
    "library(dplyr)"
   ]
  },
  {
   "cell_type": "code",
   "execution_count": 10,
   "id": "c7f6f896-6856-489b-8774-79694ef340e7",
   "metadata": {},
   "outputs": [],
   "source": [
    "vf_long_renamed = vf_long %>%\n",
    "rename(DayNumber = dayspost)"
   ]
  },
  {
   "cell_type": "code",
   "execution_count": 11,
   "id": "80425d3b-30e3-40af-a2c6-5b785eef39c7",
   "metadata": {},
   "outputs": [
    {
     "data": {
      "text/html": [
       "<table class=\"dataframe\">\n",
       "<caption>A data.frame: 6 × 20</caption>\n",
       "<thead>\n",
       "\t<tr><th></th><th scope=col>Session</th><th scope=col>Date</th><th scope=col>Treatment</th><th scope=col>Protocol</th><th scope=col>Stage</th><th scope=col>dayspost</th><th scope=col>Trial</th><th scope=col>ID</th><th scope=col>Latency</th><th scope=col>Reason</th><th scope=col>Mode</th><th scope=col>Scoring</th><th scope=col>Force</th><th scope=col>TargetForce</th><th scope=col>RampDuration</th><th scope=col>CutoffTime</th><th scope=col>LegacyMode</th><th scope=col>TouchPause</th><th scope=col>TouchForce</th><th scope=col>TimeThreshold</th></tr>\n",
       "\t<tr><th></th><th scope=col>&lt;int&gt;</th><th scope=col>&lt;chr&gt;</th><th scope=col>&lt;chr&gt;</th><th scope=col>&lt;chr&gt;</th><th scope=col>&lt;chr&gt;</th><th scope=col>&lt;int&gt;</th><th scope=col>&lt;chr&gt;</th><th scope=col>&lt;chr&gt;</th><th scope=col>&lt;dbl&gt;</th><th scope=col>&lt;chr&gt;</th><th scope=col>&lt;chr&gt;</th><th scope=col>&lt;chr&gt;</th><th scope=col>&lt;dbl&gt;</th><th scope=col>&lt;int&gt;</th><th scope=col>&lt;int&gt;</th><th scope=col>&lt;int&gt;</th><th scope=col>&lt;chr&gt;</th><th scope=col>&lt;dbl&gt;</th><th scope=col>&lt;dbl&gt;</th><th scope=col>&lt;int&gt;</th></tr>\n",
       "</thead>\n",
       "<tbody>\n",
       "\t<tr><th scope=row>1</th><td>1</td><td>2024-03-12 16:21:00</td><td>CCD</td><td>AMN</td><td>PRE</td><td>0</td><td>C</td><td>DW 239</td><td>0.9</td><td>Detection</td><td>Ramp</td><td>Auto</td><td>33.81</td><td>75</td><td>2</td><td>30</td><td>OFF</td><td>1.2</td><td>0.1</td><td>0</td></tr>\n",
       "\t<tr><th scope=row>2</th><td>2</td><td>2024-03-12 16:22:00</td><td>CCD</td><td>AMN</td><td>PRE</td><td>0</td><td>C</td><td>DW 239</td><td>0.1</td><td>Detection</td><td>Ramp</td><td>Auto</td><td> 5.09</td><td>75</td><td>2</td><td>30</td><td>OFF</td><td>1.2</td><td>0.1</td><td>0</td></tr>\n",
       "\t<tr><th scope=row>3</th><td>3</td><td>2024-03-12 16:22:00</td><td>CCD</td><td>AMN</td><td>PRE</td><td>0</td><td>C</td><td>DW 239</td><td>0.8</td><td>Detection</td><td>Ramp</td><td>Auto</td><td>31.31</td><td>75</td><td>2</td><td>30</td><td>OFF</td><td>1.2</td><td>0.1</td><td>0</td></tr>\n",
       "\t<tr><th scope=row>4</th><td>4</td><td>2024-03-12 16:22:00</td><td>CCD</td><td>AMN</td><td>PRE</td><td>0</td><td>I</td><td>DW 239</td><td>0.5</td><td>Detection</td><td>Ramp</td><td>Auto</td><td>21.32</td><td>75</td><td>2</td><td>30</td><td>OFF</td><td>1.2</td><td>0.1</td><td>0</td></tr>\n",
       "\t<tr><th scope=row>5</th><td>5</td><td>2024-03-12 16:23:00</td><td>CCD</td><td>AMN</td><td>PRE</td><td>0</td><td>I</td><td>DW 239</td><td>2.6</td><td>Detection</td><td>Ramp</td><td>Auto</td><td>75.00</td><td>75</td><td>2</td><td>30</td><td>OFF</td><td>1.2</td><td>0.1</td><td>0</td></tr>\n",
       "\t<tr><th scope=row>6</th><td>6</td><td>2024-03-12 16:23:00</td><td>CCD</td><td>AMN</td><td>PRE</td><td>0</td><td>I</td><td>DW 239</td><td>0.5</td><td>Detection</td><td>Ramp</td><td>Auto</td><td>21.32</td><td>75</td><td>2</td><td>30</td><td>OFF</td><td>1.2</td><td>0.1</td><td>0</td></tr>\n",
       "</tbody>\n",
       "</table>\n"
      ],
      "text/latex": [
       "A data.frame: 6 × 20\n",
       "\\begin{tabular}{r|llllllllllllllllllll}\n",
       "  & Session & Date & Treatment & Protocol & Stage & dayspost & Trial & ID & Latency & Reason & Mode & Scoring & Force & TargetForce & RampDuration & CutoffTime & LegacyMode & TouchPause & TouchForce & TimeThreshold\\\\\n",
       "  & <int> & <chr> & <chr> & <chr> & <chr> & <int> & <chr> & <chr> & <dbl> & <chr> & <chr> & <chr> & <dbl> & <int> & <int> & <int> & <chr> & <dbl> & <dbl> & <int>\\\\\n",
       "\\hline\n",
       "\t1 & 1 & 2024-03-12 16:21:00 & CCD & AMN & PRE & 0 & C & DW 239 & 0.9 & Detection & Ramp & Auto & 33.81 & 75 & 2 & 30 & OFF & 1.2 & 0.1 & 0\\\\\n",
       "\t2 & 2 & 2024-03-12 16:22:00 & CCD & AMN & PRE & 0 & C & DW 239 & 0.1 & Detection & Ramp & Auto &  5.09 & 75 & 2 & 30 & OFF & 1.2 & 0.1 & 0\\\\\n",
       "\t3 & 3 & 2024-03-12 16:22:00 & CCD & AMN & PRE & 0 & C & DW 239 & 0.8 & Detection & Ramp & Auto & 31.31 & 75 & 2 & 30 & OFF & 1.2 & 0.1 & 0\\\\\n",
       "\t4 & 4 & 2024-03-12 16:22:00 & CCD & AMN & PRE & 0 & I & DW 239 & 0.5 & Detection & Ramp & Auto & 21.32 & 75 & 2 & 30 & OFF & 1.2 & 0.1 & 0\\\\\n",
       "\t5 & 5 & 2024-03-12 16:23:00 & CCD & AMN & PRE & 0 & I & DW 239 & 2.6 & Detection & Ramp & Auto & 75.00 & 75 & 2 & 30 & OFF & 1.2 & 0.1 & 0\\\\\n",
       "\t6 & 6 & 2024-03-12 16:23:00 & CCD & AMN & PRE & 0 & I & DW 239 & 0.5 & Detection & Ramp & Auto & 21.32 & 75 & 2 & 30 & OFF & 1.2 & 0.1 & 0\\\\\n",
       "\\end{tabular}\n"
      ],
      "text/markdown": [
       "\n",
       "A data.frame: 6 × 20\n",
       "\n",
       "| <!--/--> | Session &lt;int&gt; | Date &lt;chr&gt; | Treatment &lt;chr&gt; | Protocol &lt;chr&gt; | Stage &lt;chr&gt; | dayspost &lt;int&gt; | Trial &lt;chr&gt; | ID &lt;chr&gt; | Latency &lt;dbl&gt; | Reason &lt;chr&gt; | Mode &lt;chr&gt; | Scoring &lt;chr&gt; | Force &lt;dbl&gt; | TargetForce &lt;int&gt; | RampDuration &lt;int&gt; | CutoffTime &lt;int&gt; | LegacyMode &lt;chr&gt; | TouchPause &lt;dbl&gt; | TouchForce &lt;dbl&gt; | TimeThreshold &lt;int&gt; |\n",
       "|---|---|---|---|---|---|---|---|---|---|---|---|---|---|---|---|---|---|---|---|---|\n",
       "| 1 | 1 | 2024-03-12 16:21:00 | CCD | AMN | PRE | 0 | C | DW 239 | 0.9 | Detection | Ramp | Auto | 33.81 | 75 | 2 | 30 | OFF | 1.2 | 0.1 | 0 |\n",
       "| 2 | 2 | 2024-03-12 16:22:00 | CCD | AMN | PRE | 0 | C | DW 239 | 0.1 | Detection | Ramp | Auto |  5.09 | 75 | 2 | 30 | OFF | 1.2 | 0.1 | 0 |\n",
       "| 3 | 3 | 2024-03-12 16:22:00 | CCD | AMN | PRE | 0 | C | DW 239 | 0.8 | Detection | Ramp | Auto | 31.31 | 75 | 2 | 30 | OFF | 1.2 | 0.1 | 0 |\n",
       "| 4 | 4 | 2024-03-12 16:22:00 | CCD | AMN | PRE | 0 | I | DW 239 | 0.5 | Detection | Ramp | Auto | 21.32 | 75 | 2 | 30 | OFF | 1.2 | 0.1 | 0 |\n",
       "| 5 | 5 | 2024-03-12 16:23:00 | CCD | AMN | PRE | 0 | I | DW 239 | 2.6 | Detection | Ramp | Auto | 75.00 | 75 | 2 | 30 | OFF | 1.2 | 0.1 | 0 |\n",
       "| 6 | 6 | 2024-03-12 16:23:00 | CCD | AMN | PRE | 0 | I | DW 239 | 0.5 | Detection | Ramp | Auto | 21.32 | 75 | 2 | 30 | OFF | 1.2 | 0.1 | 0 |\n",
       "\n"
      ],
      "text/plain": [
       "  Session Date                Treatment Protocol Stage dayspost Trial ID    \n",
       "1 1       2024-03-12 16:21:00 CCD       AMN      PRE   0        C     DW 239\n",
       "2 2       2024-03-12 16:22:00 CCD       AMN      PRE   0        C     DW 239\n",
       "3 3       2024-03-12 16:22:00 CCD       AMN      PRE   0        C     DW 239\n",
       "4 4       2024-03-12 16:22:00 CCD       AMN      PRE   0        I     DW 239\n",
       "5 5       2024-03-12 16:23:00 CCD       AMN      PRE   0        I     DW 239\n",
       "6 6       2024-03-12 16:23:00 CCD       AMN      PRE   0        I     DW 239\n",
       "  Latency Reason    Mode Scoring Force TargetForce RampDuration CutoffTime\n",
       "1 0.9     Detection Ramp Auto    33.81 75          2            30        \n",
       "2 0.1     Detection Ramp Auto     5.09 75          2            30        \n",
       "3 0.8     Detection Ramp Auto    31.31 75          2            30        \n",
       "4 0.5     Detection Ramp Auto    21.32 75          2            30        \n",
       "5 2.6     Detection Ramp Auto    75.00 75          2            30        \n",
       "6 0.5     Detection Ramp Auto    21.32 75          2            30        \n",
       "  LegacyMode TouchPause TouchForce TimeThreshold\n",
       "1 OFF        1.2        0.1        0            \n",
       "2 OFF        1.2        0.1        0            \n",
       "3 OFF        1.2        0.1        0            \n",
       "4 OFF        1.2        0.1        0            \n",
       "5 OFF        1.2        0.1        0            \n",
       "6 OFF        1.2        0.1        0            "
      ]
     },
     "metadata": {},
     "output_type": "display_data"
    }
   ],
   "source": [
    "head(vf_long)"
   ]
  },
  {
   "cell_type": "code",
   "execution_count": 12,
   "id": "02131956-0f9e-41e2-aded-8f818dad192e",
   "metadata": {},
   "outputs": [],
   "source": [
    "vf_long_new = vf_long_renamed %>% \n",
    "select(-Mode, -TargetForce, -RampDuration, -CutoffTime, -LegacyMode, -TouchPause, -TouchForce, -TimeThreshold)"
   ]
  },
  {
   "cell_type": "code",
   "execution_count": 13,
   "id": "4dfd4f02-401e-465d-814b-e27186f4b098",
   "metadata": {},
   "outputs": [
    {
     "data": {
      "text/html": [
       "<table class=\"dataframe\">\n",
       "<caption>A data.frame: 6 × 12</caption>\n",
       "<thead>\n",
       "\t<tr><th></th><th scope=col>Session</th><th scope=col>Date</th><th scope=col>Treatment</th><th scope=col>Protocol</th><th scope=col>Stage</th><th scope=col>DayNumber</th><th scope=col>Trial</th><th scope=col>ID</th><th scope=col>Latency</th><th scope=col>Reason</th><th scope=col>Scoring</th><th scope=col>Force</th></tr>\n",
       "\t<tr><th></th><th scope=col>&lt;int&gt;</th><th scope=col>&lt;chr&gt;</th><th scope=col>&lt;chr&gt;</th><th scope=col>&lt;chr&gt;</th><th scope=col>&lt;chr&gt;</th><th scope=col>&lt;int&gt;</th><th scope=col>&lt;chr&gt;</th><th scope=col>&lt;chr&gt;</th><th scope=col>&lt;dbl&gt;</th><th scope=col>&lt;chr&gt;</th><th scope=col>&lt;chr&gt;</th><th scope=col>&lt;dbl&gt;</th></tr>\n",
       "</thead>\n",
       "<tbody>\n",
       "\t<tr><th scope=row>1</th><td>1</td><td>2024-03-12 16:21:00</td><td>CCD</td><td>AMN</td><td>PRE</td><td>0</td><td>C</td><td>DW 239</td><td>0.9</td><td>Detection</td><td>Auto</td><td>33.81</td></tr>\n",
       "\t<tr><th scope=row>2</th><td>2</td><td>2024-03-12 16:22:00</td><td>CCD</td><td>AMN</td><td>PRE</td><td>0</td><td>C</td><td>DW 239</td><td>0.1</td><td>Detection</td><td>Auto</td><td> 5.09</td></tr>\n",
       "\t<tr><th scope=row>3</th><td>3</td><td>2024-03-12 16:22:00</td><td>CCD</td><td>AMN</td><td>PRE</td><td>0</td><td>C</td><td>DW 239</td><td>0.8</td><td>Detection</td><td>Auto</td><td>31.31</td></tr>\n",
       "\t<tr><th scope=row>4</th><td>4</td><td>2024-03-12 16:22:00</td><td>CCD</td><td>AMN</td><td>PRE</td><td>0</td><td>I</td><td>DW 239</td><td>0.5</td><td>Detection</td><td>Auto</td><td>21.32</td></tr>\n",
       "\t<tr><th scope=row>5</th><td>5</td><td>2024-03-12 16:23:00</td><td>CCD</td><td>AMN</td><td>PRE</td><td>0</td><td>I</td><td>DW 239</td><td>2.6</td><td>Detection</td><td>Auto</td><td>75.00</td></tr>\n",
       "\t<tr><th scope=row>6</th><td>6</td><td>2024-03-12 16:23:00</td><td>CCD</td><td>AMN</td><td>PRE</td><td>0</td><td>I</td><td>DW 239</td><td>0.5</td><td>Detection</td><td>Auto</td><td>21.32</td></tr>\n",
       "</tbody>\n",
       "</table>\n"
      ],
      "text/latex": [
       "A data.frame: 6 × 12\n",
       "\\begin{tabular}{r|llllllllllll}\n",
       "  & Session & Date & Treatment & Protocol & Stage & DayNumber & Trial & ID & Latency & Reason & Scoring & Force\\\\\n",
       "  & <int> & <chr> & <chr> & <chr> & <chr> & <int> & <chr> & <chr> & <dbl> & <chr> & <chr> & <dbl>\\\\\n",
       "\\hline\n",
       "\t1 & 1 & 2024-03-12 16:21:00 & CCD & AMN & PRE & 0 & C & DW 239 & 0.9 & Detection & Auto & 33.81\\\\\n",
       "\t2 & 2 & 2024-03-12 16:22:00 & CCD & AMN & PRE & 0 & C & DW 239 & 0.1 & Detection & Auto &  5.09\\\\\n",
       "\t3 & 3 & 2024-03-12 16:22:00 & CCD & AMN & PRE & 0 & C & DW 239 & 0.8 & Detection & Auto & 31.31\\\\\n",
       "\t4 & 4 & 2024-03-12 16:22:00 & CCD & AMN & PRE & 0 & I & DW 239 & 0.5 & Detection & Auto & 21.32\\\\\n",
       "\t5 & 5 & 2024-03-12 16:23:00 & CCD & AMN & PRE & 0 & I & DW 239 & 2.6 & Detection & Auto & 75.00\\\\\n",
       "\t6 & 6 & 2024-03-12 16:23:00 & CCD & AMN & PRE & 0 & I & DW 239 & 0.5 & Detection & Auto & 21.32\\\\\n",
       "\\end{tabular}\n"
      ],
      "text/markdown": [
       "\n",
       "A data.frame: 6 × 12\n",
       "\n",
       "| <!--/--> | Session &lt;int&gt; | Date &lt;chr&gt; | Treatment &lt;chr&gt; | Protocol &lt;chr&gt; | Stage &lt;chr&gt; | DayNumber &lt;int&gt; | Trial &lt;chr&gt; | ID &lt;chr&gt; | Latency &lt;dbl&gt; | Reason &lt;chr&gt; | Scoring &lt;chr&gt; | Force &lt;dbl&gt; |\n",
       "|---|---|---|---|---|---|---|---|---|---|---|---|---|\n",
       "| 1 | 1 | 2024-03-12 16:21:00 | CCD | AMN | PRE | 0 | C | DW 239 | 0.9 | Detection | Auto | 33.81 |\n",
       "| 2 | 2 | 2024-03-12 16:22:00 | CCD | AMN | PRE | 0 | C | DW 239 | 0.1 | Detection | Auto |  5.09 |\n",
       "| 3 | 3 | 2024-03-12 16:22:00 | CCD | AMN | PRE | 0 | C | DW 239 | 0.8 | Detection | Auto | 31.31 |\n",
       "| 4 | 4 | 2024-03-12 16:22:00 | CCD | AMN | PRE | 0 | I | DW 239 | 0.5 | Detection | Auto | 21.32 |\n",
       "| 5 | 5 | 2024-03-12 16:23:00 | CCD | AMN | PRE | 0 | I | DW 239 | 2.6 | Detection | Auto | 75.00 |\n",
       "| 6 | 6 | 2024-03-12 16:23:00 | CCD | AMN | PRE | 0 | I | DW 239 | 0.5 | Detection | Auto | 21.32 |\n",
       "\n"
      ],
      "text/plain": [
       "  Session Date                Treatment Protocol Stage DayNumber Trial ID    \n",
       "1 1       2024-03-12 16:21:00 CCD       AMN      PRE   0         C     DW 239\n",
       "2 2       2024-03-12 16:22:00 CCD       AMN      PRE   0         C     DW 239\n",
       "3 3       2024-03-12 16:22:00 CCD       AMN      PRE   0         C     DW 239\n",
       "4 4       2024-03-12 16:22:00 CCD       AMN      PRE   0         I     DW 239\n",
       "5 5       2024-03-12 16:23:00 CCD       AMN      PRE   0         I     DW 239\n",
       "6 6       2024-03-12 16:23:00 CCD       AMN      PRE   0         I     DW 239\n",
       "  Latency Reason    Scoring Force\n",
       "1 0.9     Detection Auto    33.81\n",
       "2 0.1     Detection Auto     5.09\n",
       "3 0.8     Detection Auto    31.31\n",
       "4 0.5     Detection Auto    21.32\n",
       "5 2.6     Detection Auto    75.00\n",
       "6 0.5     Detection Auto    21.32"
      ]
     },
     "metadata": {},
     "output_type": "display_data"
    }
   ],
   "source": [
    "head(vf_long_new)"
   ]
  },
  {
   "cell_type": "code",
   "execution_count": 14,
   "id": "45633e3c-aa7f-4160-82f6-1ee34af9ce8c",
   "metadata": {},
   "outputs": [
    {
     "data": {
      "text/html": [
       "<table class=\"dataframe\">\n",
       "<caption>A data.frame: 6 × 15</caption>\n",
       "<thead>\n",
       "\t<tr><th></th><th scope=col>Session</th><th scope=col>Date</th><th scope=col>Treatment</th><th scope=col>Protocol</th><th scope=col>Stage</th><th scope=col>Trial</th><th scope=col>ID</th><th scope=col>Latency</th><th scope=col>Reason</th><th scope=col>Scoring</th><th scope=col>Force</th><th scope=col>Inconsistent</th><th scope=col>Response</th><th scope=col>SurgeryDate</th><th scope=col>DayNumber</th></tr>\n",
       "\t<tr><th></th><th scope=col>&lt;int&gt;</th><th scope=col>&lt;chr&gt;</th><th scope=col>&lt;chr&gt;</th><th scope=col>&lt;chr&gt;</th><th scope=col>&lt;chr&gt;</th><th scope=col>&lt;chr&gt;</th><th scope=col>&lt;chr&gt;</th><th scope=col>&lt;dbl&gt;</th><th scope=col>&lt;chr&gt;</th><th scope=col>&lt;chr&gt;</th><th scope=col>&lt;dbl&gt;</th><th scope=col>&lt;chr&gt;</th><th scope=col>&lt;int&gt;</th><th scope=col>&lt;chr&gt;</th><th scope=col>&lt;int&gt;</th></tr>\n",
       "</thead>\n",
       "<tbody>\n",
       "\t<tr><th scope=row>1</th><td>3137</td><td>2025-07-02 09:19:54</td><td>CCD</td><td>AMN</td><td>PRE</td><td>C</td><td>DW368</td><td>1.8</td><td>Detection  </td><td>Auto</td><td>19.20</td><td>False</td><td>1</td><td>2025-07-02 09:19:54</td><td>0</td></tr>\n",
       "\t<tr><th scope=row>2</th><td>3138</td><td>2025-07-02 09:20:12</td><td>CCD</td><td>AMN</td><td>PRE</td><td>C</td><td>DW368</td><td>5.1</td><td>Detection  </td><td>Auto</td><td>51.04</td><td>False</td><td>1</td><td>2025-07-02 09:19:54</td><td>0</td></tr>\n",
       "\t<tr><th scope=row>3</th><td>3139</td><td>2025-07-02 09:20:29</td><td>CCD</td><td>AMN</td><td>PRE</td><td>C</td><td>DW368</td><td>6.2</td><td>Detection  </td><td>Auto</td><td>60.00</td><td>False</td><td>1</td><td>2025-07-02 09:19:54</td><td>0</td></tr>\n",
       "\t<tr><th scope=row>4</th><td>3140</td><td>2025-07-02 09:20:39</td><td>CCD</td><td>AMN</td><td>PRE</td><td>C</td><td>DW368</td><td>0.0</td><td>Manual Stop</td><td>Auto</td><td> 0.30</td><td>False</td><td>0</td><td>2025-07-02 09:19:54</td><td>0</td></tr>\n",
       "\t<tr><th scope=row>5</th><td>3141</td><td>2025-07-02 09:20:47</td><td>CCD</td><td>AMN</td><td>PRE</td><td>C</td><td>DW368</td><td>5.3</td><td>Detection  </td><td>Auto</td><td>54.03</td><td>False</td><td>1</td><td>2025-07-02 09:19:54</td><td>0</td></tr>\n",
       "\t<tr><th scope=row>6</th><td>3142</td><td>2025-07-02 09:20:59</td><td>CCD</td><td>AMN</td><td>PRE</td><td>C</td><td>DW368</td><td>5.5</td><td>Detection  </td><td>Auto</td><td>55.36</td><td>False</td><td>1</td><td>2025-07-02 09:19:54</td><td>0</td></tr>\n",
       "</tbody>\n",
       "</table>\n"
      ],
      "text/latex": [
       "A data.frame: 6 × 15\n",
       "\\begin{tabular}{r|lllllllllllllll}\n",
       "  & Session & Date & Treatment & Protocol & Stage & Trial & ID & Latency & Reason & Scoring & Force & Inconsistent & Response & SurgeryDate & DayNumber\\\\\n",
       "  & <int> & <chr> & <chr> & <chr> & <chr> & <chr> & <chr> & <dbl> & <chr> & <chr> & <dbl> & <chr> & <int> & <chr> & <int>\\\\\n",
       "\\hline\n",
       "\t1 & 3137 & 2025-07-02 09:19:54 & CCD & AMN & PRE & C & DW368 & 1.8 & Detection   & Auto & 19.20 & False & 1 & 2025-07-02 09:19:54 & 0\\\\\n",
       "\t2 & 3138 & 2025-07-02 09:20:12 & CCD & AMN & PRE & C & DW368 & 5.1 & Detection   & Auto & 51.04 & False & 1 & 2025-07-02 09:19:54 & 0\\\\\n",
       "\t3 & 3139 & 2025-07-02 09:20:29 & CCD & AMN & PRE & C & DW368 & 6.2 & Detection   & Auto & 60.00 & False & 1 & 2025-07-02 09:19:54 & 0\\\\\n",
       "\t4 & 3140 & 2025-07-02 09:20:39 & CCD & AMN & PRE & C & DW368 & 0.0 & Manual Stop & Auto &  0.30 & False & 0 & 2025-07-02 09:19:54 & 0\\\\\n",
       "\t5 & 3141 & 2025-07-02 09:20:47 & CCD & AMN & PRE & C & DW368 & 5.3 & Detection   & Auto & 54.03 & False & 1 & 2025-07-02 09:19:54 & 0\\\\\n",
       "\t6 & 3142 & 2025-07-02 09:20:59 & CCD & AMN & PRE & C & DW368 & 5.5 & Detection   & Auto & 55.36 & False & 1 & 2025-07-02 09:19:54 & 0\\\\\n",
       "\\end{tabular}\n"
      ],
      "text/markdown": [
       "\n",
       "A data.frame: 6 × 15\n",
       "\n",
       "| <!--/--> | Session &lt;int&gt; | Date &lt;chr&gt; | Treatment &lt;chr&gt; | Protocol &lt;chr&gt; | Stage &lt;chr&gt; | Trial &lt;chr&gt; | ID &lt;chr&gt; | Latency &lt;dbl&gt; | Reason &lt;chr&gt; | Scoring &lt;chr&gt; | Force &lt;dbl&gt; | Inconsistent &lt;chr&gt; | Response &lt;int&gt; | SurgeryDate &lt;chr&gt; | DayNumber &lt;int&gt; |\n",
       "|---|---|---|---|---|---|---|---|---|---|---|---|---|---|---|---|\n",
       "| 1 | 3137 | 2025-07-02 09:19:54 | CCD | AMN | PRE | C | DW368 | 1.8 | Detection   | Auto | 19.20 | False | 1 | 2025-07-02 09:19:54 | 0 |\n",
       "| 2 | 3138 | 2025-07-02 09:20:12 | CCD | AMN | PRE | C | DW368 | 5.1 | Detection   | Auto | 51.04 | False | 1 | 2025-07-02 09:19:54 | 0 |\n",
       "| 3 | 3139 | 2025-07-02 09:20:29 | CCD | AMN | PRE | C | DW368 | 6.2 | Detection   | Auto | 60.00 | False | 1 | 2025-07-02 09:19:54 | 0 |\n",
       "| 4 | 3140 | 2025-07-02 09:20:39 | CCD | AMN | PRE | C | DW368 | 0.0 | Manual Stop | Auto |  0.30 | False | 0 | 2025-07-02 09:19:54 | 0 |\n",
       "| 5 | 3141 | 2025-07-02 09:20:47 | CCD | AMN | PRE | C | DW368 | 5.3 | Detection   | Auto | 54.03 | False | 1 | 2025-07-02 09:19:54 | 0 |\n",
       "| 6 | 3142 | 2025-07-02 09:20:59 | CCD | AMN | PRE | C | DW368 | 5.5 | Detection   | Auto | 55.36 | False | 1 | 2025-07-02 09:19:54 | 0 |\n",
       "\n"
      ],
      "text/plain": [
       "  Session Date                Treatment Protocol Stage Trial ID    Latency\n",
       "1 3137    2025-07-02 09:19:54 CCD       AMN      PRE   C     DW368 1.8    \n",
       "2 3138    2025-07-02 09:20:12 CCD       AMN      PRE   C     DW368 5.1    \n",
       "3 3139    2025-07-02 09:20:29 CCD       AMN      PRE   C     DW368 6.2    \n",
       "4 3140    2025-07-02 09:20:39 CCD       AMN      PRE   C     DW368 0.0    \n",
       "5 3141    2025-07-02 09:20:47 CCD       AMN      PRE   C     DW368 5.3    \n",
       "6 3142    2025-07-02 09:20:59 CCD       AMN      PRE   C     DW368 5.5    \n",
       "  Reason      Scoring Force Inconsistent Response SurgeryDate         DayNumber\n",
       "1 Detection   Auto    19.20 False        1        2025-07-02 09:19:54 0        \n",
       "2 Detection   Auto    51.04 False        1        2025-07-02 09:19:54 0        \n",
       "3 Detection   Auto    60.00 False        1        2025-07-02 09:19:54 0        \n",
       "4 Manual Stop Auto     0.30 False        0        2025-07-02 09:19:54 0        \n",
       "5 Detection   Auto    54.03 False        1        2025-07-02 09:19:54 0        \n",
       "6 Detection   Auto    55.36 False        1        2025-07-02 09:19:54 0        "
      ]
     },
     "metadata": {},
     "output_type": "display_data"
    }
   ],
   "source": [
    "head(vf_short)"
   ]
  },
  {
   "cell_type": "code",
   "execution_count": 15,
   "id": "8c55e358-121c-40a0-a172-7d158f4ee82e",
   "metadata": {},
   "outputs": [],
   "source": [
    "vf_short_new = vf_short %>% \n",
    "select (-Inconsistent, -Response, -SurgeryDate)"
   ]
  },
  {
   "cell_type": "code",
   "execution_count": 18,
   "id": "8c440d61-2208-4ead-a696-7ef602114181",
   "metadata": {},
   "outputs": [
    {
     "data": {
      "text/html": [
       "<table class=\"dataframe\">\n",
       "<caption>A data.frame: 6 × 12</caption>\n",
       "<thead>\n",
       "\t<tr><th></th><th scope=col>Session</th><th scope=col>Date</th><th scope=col>Treatment</th><th scope=col>Protocol</th><th scope=col>Stage</th><th scope=col>Trial</th><th scope=col>ID</th><th scope=col>Latency</th><th scope=col>Reason</th><th scope=col>Scoring</th><th scope=col>Force</th><th scope=col>DayNumber</th></tr>\n",
       "\t<tr><th></th><th scope=col>&lt;int&gt;</th><th scope=col>&lt;chr&gt;</th><th scope=col>&lt;chr&gt;</th><th scope=col>&lt;chr&gt;</th><th scope=col>&lt;chr&gt;</th><th scope=col>&lt;chr&gt;</th><th scope=col>&lt;chr&gt;</th><th scope=col>&lt;dbl&gt;</th><th scope=col>&lt;chr&gt;</th><th scope=col>&lt;chr&gt;</th><th scope=col>&lt;dbl&gt;</th><th scope=col>&lt;int&gt;</th></tr>\n",
       "</thead>\n",
       "<tbody>\n",
       "\t<tr><th scope=row>1</th><td>3137</td><td>2025-07-02 09:19:54</td><td>CCD</td><td>AMN</td><td>PRE</td><td>C</td><td>DW368</td><td>1.8</td><td>Detection  </td><td>Auto</td><td>19.20</td><td>0</td></tr>\n",
       "\t<tr><th scope=row>2</th><td>3138</td><td>2025-07-02 09:20:12</td><td>CCD</td><td>AMN</td><td>PRE</td><td>C</td><td>DW368</td><td>5.1</td><td>Detection  </td><td>Auto</td><td>51.04</td><td>0</td></tr>\n",
       "\t<tr><th scope=row>3</th><td>3139</td><td>2025-07-02 09:20:29</td><td>CCD</td><td>AMN</td><td>PRE</td><td>C</td><td>DW368</td><td>6.2</td><td>Detection  </td><td>Auto</td><td>60.00</td><td>0</td></tr>\n",
       "\t<tr><th scope=row>4</th><td>3140</td><td>2025-07-02 09:20:39</td><td>CCD</td><td>AMN</td><td>PRE</td><td>C</td><td>DW368</td><td>0.0</td><td>Manual Stop</td><td>Auto</td><td> 0.30</td><td>0</td></tr>\n",
       "\t<tr><th scope=row>5</th><td>3141</td><td>2025-07-02 09:20:47</td><td>CCD</td><td>AMN</td><td>PRE</td><td>C</td><td>DW368</td><td>5.3</td><td>Detection  </td><td>Auto</td><td>54.03</td><td>0</td></tr>\n",
       "\t<tr><th scope=row>6</th><td>3142</td><td>2025-07-02 09:20:59</td><td>CCD</td><td>AMN</td><td>PRE</td><td>C</td><td>DW368</td><td>5.5</td><td>Detection  </td><td>Auto</td><td>55.36</td><td>0</td></tr>\n",
       "</tbody>\n",
       "</table>\n"
      ],
      "text/latex": [
       "A data.frame: 6 × 12\n",
       "\\begin{tabular}{r|llllllllllll}\n",
       "  & Session & Date & Treatment & Protocol & Stage & Trial & ID & Latency & Reason & Scoring & Force & DayNumber\\\\\n",
       "  & <int> & <chr> & <chr> & <chr> & <chr> & <chr> & <chr> & <dbl> & <chr> & <chr> & <dbl> & <int>\\\\\n",
       "\\hline\n",
       "\t1 & 3137 & 2025-07-02 09:19:54 & CCD & AMN & PRE & C & DW368 & 1.8 & Detection   & Auto & 19.20 & 0\\\\\n",
       "\t2 & 3138 & 2025-07-02 09:20:12 & CCD & AMN & PRE & C & DW368 & 5.1 & Detection   & Auto & 51.04 & 0\\\\\n",
       "\t3 & 3139 & 2025-07-02 09:20:29 & CCD & AMN & PRE & C & DW368 & 6.2 & Detection   & Auto & 60.00 & 0\\\\\n",
       "\t4 & 3140 & 2025-07-02 09:20:39 & CCD & AMN & PRE & C & DW368 & 0.0 & Manual Stop & Auto &  0.30 & 0\\\\\n",
       "\t5 & 3141 & 2025-07-02 09:20:47 & CCD & AMN & PRE & C & DW368 & 5.3 & Detection   & Auto & 54.03 & 0\\\\\n",
       "\t6 & 3142 & 2025-07-02 09:20:59 & CCD & AMN & PRE & C & DW368 & 5.5 & Detection   & Auto & 55.36 & 0\\\\\n",
       "\\end{tabular}\n"
      ],
      "text/markdown": [
       "\n",
       "A data.frame: 6 × 12\n",
       "\n",
       "| <!--/--> | Session &lt;int&gt; | Date &lt;chr&gt; | Treatment &lt;chr&gt; | Protocol &lt;chr&gt; | Stage &lt;chr&gt; | Trial &lt;chr&gt; | ID &lt;chr&gt; | Latency &lt;dbl&gt; | Reason &lt;chr&gt; | Scoring &lt;chr&gt; | Force &lt;dbl&gt; | DayNumber &lt;int&gt; |\n",
       "|---|---|---|---|---|---|---|---|---|---|---|---|---|\n",
       "| 1 | 3137 | 2025-07-02 09:19:54 | CCD | AMN | PRE | C | DW368 | 1.8 | Detection   | Auto | 19.20 | 0 |\n",
       "| 2 | 3138 | 2025-07-02 09:20:12 | CCD | AMN | PRE | C | DW368 | 5.1 | Detection   | Auto | 51.04 | 0 |\n",
       "| 3 | 3139 | 2025-07-02 09:20:29 | CCD | AMN | PRE | C | DW368 | 6.2 | Detection   | Auto | 60.00 | 0 |\n",
       "| 4 | 3140 | 2025-07-02 09:20:39 | CCD | AMN | PRE | C | DW368 | 0.0 | Manual Stop | Auto |  0.30 | 0 |\n",
       "| 5 | 3141 | 2025-07-02 09:20:47 | CCD | AMN | PRE | C | DW368 | 5.3 | Detection   | Auto | 54.03 | 0 |\n",
       "| 6 | 3142 | 2025-07-02 09:20:59 | CCD | AMN | PRE | C | DW368 | 5.5 | Detection   | Auto | 55.36 | 0 |\n",
       "\n"
      ],
      "text/plain": [
       "  Session Date                Treatment Protocol Stage Trial ID    Latency\n",
       "1 3137    2025-07-02 09:19:54 CCD       AMN      PRE   C     DW368 1.8    \n",
       "2 3138    2025-07-02 09:20:12 CCD       AMN      PRE   C     DW368 5.1    \n",
       "3 3139    2025-07-02 09:20:29 CCD       AMN      PRE   C     DW368 6.2    \n",
       "4 3140    2025-07-02 09:20:39 CCD       AMN      PRE   C     DW368 0.0    \n",
       "5 3141    2025-07-02 09:20:47 CCD       AMN      PRE   C     DW368 5.3    \n",
       "6 3142    2025-07-02 09:20:59 CCD       AMN      PRE   C     DW368 5.5    \n",
       "  Reason      Scoring Force DayNumber\n",
       "1 Detection   Auto    19.20 0        \n",
       "2 Detection   Auto    51.04 0        \n",
       "3 Detection   Auto    60.00 0        \n",
       "4 Manual Stop Auto     0.30 0        \n",
       "5 Detection   Auto    54.03 0        \n",
       "6 Detection   Auto    55.36 0        "
      ]
     },
     "metadata": {},
     "output_type": "display_data"
    }
   ],
   "source": [
    "head(vf_short_new)"
   ]
  },
  {
   "cell_type": "code",
   "execution_count": 19,
   "id": "cf601d3e-ecef-47e2-92d9-4cd31d5e0769",
   "metadata": {},
   "outputs": [],
   "source": [
    "# combining the two dataframes \n",
    "\n",
    "combined_vf = bind_rows(vf_long_new, vf_short_new)"
   ]
  },
  {
   "cell_type": "code",
   "execution_count": 20,
   "id": "30d53534-b6f0-43f8-8234-ca719d96bf57",
   "metadata": {},
   "outputs": [
    {
     "data": {
      "text/html": [
       "<table class=\"dataframe\">\n",
       "<caption>A data.frame: 2437 × 12</caption>\n",
       "<thead>\n",
       "\t<tr><th scope=col>Session</th><th scope=col>Date</th><th scope=col>Treatment</th><th scope=col>Protocol</th><th scope=col>Stage</th><th scope=col>DayNumber</th><th scope=col>Trial</th><th scope=col>ID</th><th scope=col>Latency</th><th scope=col>Reason</th><th scope=col>Scoring</th><th scope=col>Force</th></tr>\n",
       "\t<tr><th scope=col>&lt;int&gt;</th><th scope=col>&lt;chr&gt;</th><th scope=col>&lt;chr&gt;</th><th scope=col>&lt;chr&gt;</th><th scope=col>&lt;chr&gt;</th><th scope=col>&lt;int&gt;</th><th scope=col>&lt;chr&gt;</th><th scope=col>&lt;chr&gt;</th><th scope=col>&lt;dbl&gt;</th><th scope=col>&lt;chr&gt;</th><th scope=col>&lt;chr&gt;</th><th scope=col>&lt;dbl&gt;</th></tr>\n",
       "</thead>\n",
       "<tbody>\n",
       "\t<tr><td> 1</td><td>2024-03-12 16:21:00</td><td>CCD</td><td>AMN</td><td>PRE </td><td>0</td><td>C</td><td>DW 239</td><td> 0.9</td><td>Detection    </td><td>Auto</td><td>33.81</td></tr>\n",
       "\t<tr><td> 2</td><td>2024-03-12 16:22:00</td><td>CCD</td><td>AMN</td><td>PRE </td><td>0</td><td>C</td><td>DW 239</td><td> 0.1</td><td>Detection    </td><td>Auto</td><td> 5.09</td></tr>\n",
       "\t<tr><td> 3</td><td>2024-03-12 16:22:00</td><td>CCD</td><td>AMN</td><td>PRE </td><td>0</td><td>C</td><td>DW 239</td><td> 0.8</td><td>Detection    </td><td>Auto</td><td>31.31</td></tr>\n",
       "\t<tr><td> 4</td><td>2024-03-12 16:22:00</td><td>CCD</td><td>AMN</td><td>PRE </td><td>0</td><td>I</td><td>DW 239</td><td> 0.5</td><td>Detection    </td><td>Auto</td><td>21.32</td></tr>\n",
       "\t<tr><td> 5</td><td>2024-03-12 16:23:00</td><td>CCD</td><td>AMN</td><td>PRE </td><td>0</td><td>I</td><td>DW 239</td><td> 2.6</td><td>Detection    </td><td>Auto</td><td>75.00</td></tr>\n",
       "\t<tr><td> 6</td><td>2024-03-12 16:23:00</td><td>CCD</td><td>AMN</td><td>PRE </td><td>0</td><td>I</td><td>DW 239</td><td> 0.5</td><td>Detection    </td><td>Auto</td><td>21.32</td></tr>\n",
       "\t<tr><td> 7</td><td>2024-03-12 16:24:00</td><td>CCD</td><td>AMN</td><td>PRE </td><td>0</td><td>I</td><td>DW 239</td><td> 0.8</td><td>Detection    </td><td>Auto</td><td>30.06</td></tr>\n",
       "\t<tr><td> 8</td><td>2024-03-15 16:46:00</td><td>CCD</td><td>AMN</td><td>POST</td><td>3</td><td>I</td><td>DW 239</td><td> 0.3</td><td>Detection    </td><td>Auto</td><td>12.58</td></tr>\n",
       "\t<tr><td> 9</td><td>2024-03-15 16:46:00</td><td>CCD</td><td>AMN</td><td>POST</td><td>3</td><td>I</td><td>DW 239</td><td> 0.2</td><td>Detection    </td><td>Auto</td><td>10.09</td></tr>\n",
       "\t<tr><td>10</td><td>2024-03-15 16:46:00</td><td>CCD</td><td>AMN</td><td>POST</td><td>3</td><td>I</td><td>DW 239</td><td> 0.2</td><td>Detection    </td><td>Auto</td><td>10.09</td></tr>\n",
       "\t<tr><td>11</td><td>2024-03-15 16:46:00</td><td>CCD</td><td>AMN</td><td>POST</td><td>3</td><td>I</td><td>DW 239</td><td> 0.2</td><td>Detection    </td><td>Auto</td><td>10.09</td></tr>\n",
       "\t<tr><td>12</td><td>2024-03-15 16:47:00</td><td>CCD</td><td>AMN</td><td>POST</td><td>3</td><td>I</td><td>DW 239</td><td> 0.1</td><td>Detection    </td><td>Auto</td><td> 7.59</td></tr>\n",
       "\t<tr><td>13</td><td>2024-03-15 16:47:00</td><td>CCD</td><td>AMN</td><td>POST</td><td>3</td><td>I</td><td>DW 239</td><td> 0.2</td><td>Detection    </td><td>Auto</td><td> 7.59</td></tr>\n",
       "\t<tr><td>14</td><td>2024-03-15 16:47:00</td><td>CCD</td><td>AMN</td><td>POST</td><td>3</td><td>I</td><td>DW 239</td><td> 0.2</td><td>Detection    </td><td>Auto</td><td> 8.84</td></tr>\n",
       "\t<tr><td>15</td><td>2024-03-15 16:47:00</td><td>CCD</td><td>AMN</td><td>POST</td><td>3</td><td>I</td><td>DW 239</td><td> 0.2</td><td>Detection    </td><td>Auto</td><td>10.09</td></tr>\n",
       "\t<tr><td>16</td><td>2024-03-15 16:49:00</td><td>CCD</td><td>AMN</td><td>POST</td><td>3</td><td>C</td><td>DW 239</td><td> 1.0</td><td>Detection    </td><td>Auto</td><td>37.55</td></tr>\n",
       "\t<tr><td>17</td><td>2024-03-15 16:49:00</td><td>CCD</td><td>AMN</td><td>POST</td><td>3</td><td>C</td><td>DW 239</td><td> 1.4</td><td>Detection    </td><td>Auto</td><td>53.78</td></tr>\n",
       "\t<tr><td>18</td><td>2024-03-15 16:50:00</td><td>CCD</td><td>AMN</td><td>POST</td><td>3</td><td>C</td><td>DW 239</td><td>18.0</td><td>Screen Button</td><td>Auto</td><td>75.00</td></tr>\n",
       "\t<tr><td>19</td><td>2024-03-15 16:50:00</td><td>CCD</td><td>AMN</td><td>POST</td><td>3</td><td>C</td><td>DW 239</td><td> 0.2</td><td>Detection    </td><td>Auto</td><td>10.09</td></tr>\n",
       "\t<tr><td>20</td><td>2024-03-15 16:50:00</td><td>CCD</td><td>AMN</td><td>POST</td><td>3</td><td>C</td><td>DW 239</td><td> 1.1</td><td>Detection    </td><td>Auto</td><td>40.05</td></tr>\n",
       "\t<tr><td>21</td><td>2024-03-15 16:51:00</td><td>CCD</td><td>AMN</td><td>POST</td><td>3</td><td>I</td><td>DW 239</td><td> 0.3</td><td>Detection    </td><td>Auto</td><td>11.34</td></tr>\n",
       "\t<tr><td>22</td><td>2024-03-15 16:51:00</td><td>CCD</td><td>AMN</td><td>POST</td><td>3</td><td>I</td><td>DW 239</td><td> 0.2</td><td>Detection    </td><td>Auto</td><td> 8.84</td></tr>\n",
       "\t<tr><td>23</td><td>2024-03-15 16:51:00</td><td>CCD</td><td>AMN</td><td>POST</td><td>3</td><td>I</td><td>DW 239</td><td> 0.4</td><td>Detection    </td><td>Auto</td><td>17.58</td></tr>\n",
       "\t<tr><td>24</td><td>2024-03-15 16:51:00</td><td>CCD</td><td>AMN</td><td>POST</td><td>3</td><td>I</td><td>DW 239</td><td> 0.5</td><td>Detection    </td><td>Auto</td><td>18.83</td></tr>\n",
       "\t<tr><td>25</td><td>2024-03-15 16:52:00</td><td>CCD</td><td>AMN</td><td>POST</td><td>3</td><td>C</td><td>DW 239</td><td> 1.2</td><td>Detection    </td><td>Auto</td><td>43.79</td></tr>\n",
       "\t<tr><td>26</td><td>2024-03-15 16:53:00</td><td>CCD</td><td>AMN</td><td>POST</td><td>3</td><td>C</td><td>DW 239</td><td> 0.9</td><td>Detection    </td><td>Auto</td><td>35.05</td></tr>\n",
       "\t<tr><td>27</td><td>2024-03-15 16:53:00</td><td>CCD</td><td>AMN</td><td>POST</td><td>3</td><td>C</td><td>DW 239</td><td> 0.7</td><td>Detection    </td><td>Auto</td><td>27.56</td></tr>\n",
       "\t<tr><td>28</td><td>2024-03-15 16:53:00</td><td>CCD</td><td>AMN</td><td>POST</td><td>3</td><td>C</td><td>DW 239</td><td> 0.8</td><td>Detection    </td><td>Auto</td><td>30.06</td></tr>\n",
       "\t<tr><td>29</td><td>2024-03-15 16:53:00</td><td>CCD</td><td>AMN</td><td>POST</td><td>3</td><td>C</td><td>DW 239</td><td> 0.7</td><td>Detection    </td><td>Auto</td><td>27.56</td></tr>\n",
       "\t<tr><td>30</td><td>2024-03-15 16:53:00</td><td>CCD</td><td>AMN</td><td>POST</td><td>3</td><td>I</td><td>DW 239</td><td> 0.4</td><td>Detection    </td><td>Auto</td><td>17.58</td></tr>\n",
       "\t<tr><td>⋮</td><td>⋮</td><td>⋮</td><td>⋮</td><td>⋮</td><td>⋮</td><td>⋮</td><td>⋮</td><td>⋮</td><td>⋮</td><td>⋮</td><td>⋮</td></tr>\n",
       "\t<tr><td>3960</td><td>2025-07-24 09:24:49</td><td>CCD</td><td>AMN</td><td>POST</td><td>22</td><td>C</td><td>DW368</td><td> 3.1</td><td>Detection</td><td>Auto</td><td>31.81</td></tr>\n",
       "\t<tr><td>3961</td><td>2025-07-24 09:25:00</td><td>CCD</td><td>AMN</td><td>POST</td><td>22</td><td>C</td><td>DW368</td><td> 2.4</td><td>Detection</td><td>Auto</td><td>24.18</td></tr>\n",
       "\t<tr><td>3962</td><td>2025-07-24 09:25:13</td><td>CCD</td><td>AMN</td><td>POST</td><td>22</td><td>C</td><td>DW368</td><td> 4.5</td><td>Detection</td><td>Auto</td><td>45.08</td></tr>\n",
       "\t<tr><td>3963</td><td>2025-07-24 09:25:23</td><td>CCD</td><td>AMN</td><td>POST</td><td>22</td><td>C</td><td>DW368</td><td> 2.6</td><td>Detection</td><td>Auto</td><td>25.51</td></tr>\n",
       "\t<tr><td>3964</td><td>2025-07-24 09:25:37</td><td>CCD</td><td>AMN</td><td>POST</td><td>22</td><td>C</td><td>DW368</td><td> 4.8</td><td>Detection</td><td>Auto</td><td>47.73</td></tr>\n",
       "\t<tr><td>3965</td><td>2025-07-24 09:26:39</td><td>CCD</td><td>AMN</td><td>POST</td><td>22</td><td>C</td><td>DW368</td><td> 3.1</td><td>Detection</td><td>Auto</td><td>31.81</td></tr>\n",
       "\t<tr><td>3966</td><td>2025-07-24 09:26:58</td><td>CCD</td><td>AMN</td><td>POST</td><td>22</td><td>C</td><td>DW368</td><td> 6.0</td><td>Detection</td><td>Auto</td><td>60.00</td></tr>\n",
       "\t<tr><td>3967</td><td>2025-07-24 09:27:25</td><td>CCD</td><td>AMN</td><td>POST</td><td>22</td><td>C</td><td>DW368</td><td> 3.1</td><td>Detection</td><td>Auto</td><td>30.81</td></tr>\n",
       "\t<tr><td>3968</td><td>2025-07-24 09:27:41</td><td>CCD</td><td>AMN</td><td>POST</td><td>22</td><td>C</td><td>DW368</td><td> 2.4</td><td>Detection</td><td>Auto</td><td>24.84</td></tr>\n",
       "\t<tr><td>3969</td><td>2025-07-24 09:28:37</td><td>CCD</td><td>AMN</td><td>POST</td><td>22</td><td>C</td><td>DW368</td><td>11.0</td><td>Cutoff   </td><td>Auto</td><td>60.00</td></tr>\n",
       "\t<tr><td>3970</td><td>2025-07-24 09:28:49</td><td>CCD</td><td>AMN</td><td>POST</td><td>22</td><td>C</td><td>DW368</td><td> 2.1</td><td>Detection</td><td>Auto</td><td>21.53</td></tr>\n",
       "\t<tr><td>3971</td><td>2025-07-24 09:29:16</td><td>CCD</td><td>AMN</td><td>POST</td><td>22</td><td>C</td><td>DW368</td><td> 3.6</td><td>Detection</td><td>Auto</td><td>35.79</td></tr>\n",
       "\t<tr><td>3972</td><td>2025-07-24 09:29:26</td><td>CCD</td><td>AMN</td><td>POST</td><td>22</td><td>C</td><td>DW368</td><td> 2.5</td><td>Detection</td><td>Auto</td><td>26.17</td></tr>\n",
       "\t<tr><td>3973</td><td>2025-07-24 09:29:47</td><td>CCD</td><td>AMN</td><td>POST</td><td>22</td><td>C</td><td>DW368</td><td> 3.7</td><td>Detection</td><td>Auto</td><td>36.45</td></tr>\n",
       "\t<tr><td>3974</td><td>2025-07-24 09:29:57</td><td>CCD</td><td>AMN</td><td>POST</td><td>22</td><td>C</td><td>DW368</td><td> 2.2</td><td>Detection</td><td>Auto</td><td>22.19</td></tr>\n",
       "\t<tr><td>3975</td><td>2025-07-24 09:30:53</td><td>CCD</td><td>AMN</td><td>POST</td><td>22</td><td>C</td><td>DW368</td><td> 2.3</td><td>Detection</td><td>Auto</td><td>23.18</td></tr>\n",
       "\t<tr><td>3976</td><td>2025-07-24 09:31:31</td><td>CCD</td><td>AMN</td><td>POST</td><td>22</td><td>C</td><td>DW368</td><td> 3.3</td><td>Detection</td><td>Auto</td><td>33.47</td></tr>\n",
       "\t<tr><td>3977</td><td>2025-07-24 09:31:50</td><td>CCD</td><td>AMN</td><td>POST</td><td>22</td><td>C</td><td>DW368</td><td> 1.8</td><td>Detection</td><td>Auto</td><td>17.88</td></tr>\n",
       "\t<tr><td>3978</td><td>2025-07-24 09:32:14</td><td>CCD</td><td>AMN</td><td>POST</td><td>22</td><td>C</td><td>DW368</td><td> 2.7</td><td>Detection</td><td>Auto</td><td>26.83</td></tr>\n",
       "\t<tr><td>3979</td><td>2025-07-24 09:32:28</td><td>CCD</td><td>AMN</td><td>POST</td><td>22</td><td>C</td><td>DW368</td><td> 2.6</td><td>Detection</td><td>Auto</td><td>26.17</td></tr>\n",
       "\t<tr><td>3980</td><td>2025-07-24 09:32:45</td><td>CCD</td><td>AMN</td><td>POST</td><td>22</td><td>C</td><td>DW368</td><td> 3.0</td><td>Detection</td><td>Auto</td><td>30.81</td></tr>\n",
       "\t<tr><td>3981</td><td>2025-07-24 09:33:01</td><td>CCD</td><td>AMN</td><td>POST</td><td>22</td><td>C</td><td>DW368</td><td> 2.9</td><td>Detection</td><td>Auto</td><td>29.82</td></tr>\n",
       "\t<tr><td>3982</td><td>2025-07-24 09:33:15</td><td>CCD</td><td>AMN</td><td>POST</td><td>22</td><td>C</td><td>DW368</td><td> 5.4</td><td>Detection</td><td>Auto</td><td>54.36</td></tr>\n",
       "\t<tr><td>3983</td><td>2025-07-24 09:33:24</td><td>CCD</td><td>AMN</td><td>POST</td><td>22</td><td>C</td><td>DW368</td><td> 2.4</td><td>Detection</td><td>Auto</td><td>24.51</td></tr>\n",
       "\t<tr><td>3984</td><td>2025-07-24 09:33:47</td><td>CCD</td><td>AMN</td><td>POST</td><td>22</td><td>C</td><td>DW368</td><td> 4.1</td><td>Detection</td><td>Auto</td><td>40.76</td></tr>\n",
       "\t<tr><td>3985</td><td>2025-07-24 09:34:26</td><td>CCD</td><td>AMN</td><td>POST</td><td>22</td><td>C</td><td>DW368</td><td> 4.5</td><td>Detection</td><td>Auto</td><td>44.74</td></tr>\n",
       "\t<tr><td>3986</td><td>2025-07-24 09:34:47</td><td>CCD</td><td>AMN</td><td>POST</td><td>22</td><td>C</td><td>DW368</td><td> 1.5</td><td>Detection</td><td>Auto</td><td>15.23</td></tr>\n",
       "\t<tr><td>3987</td><td>2025-07-24 09:35:18</td><td>CCD</td><td>AMN</td><td>POST</td><td>22</td><td>C</td><td>DW368</td><td> 2.2</td><td>Detection</td><td>Auto</td><td>22.52</td></tr>\n",
       "\t<tr><td>3988</td><td>2025-07-24 09:35:29</td><td>CCD</td><td>AMN</td><td>POST</td><td>22</td><td>C</td><td>DW368</td><td> 3.5</td><td>Detection</td><td>Auto</td><td>35.79</td></tr>\n",
       "\t<tr><td>3989</td><td>2025-07-24 09:35:39</td><td>CCD</td><td>AMN</td><td>POST</td><td>22</td><td>C</td><td>DW368</td><td> 3.4</td><td>Detection</td><td>Auto</td><td>33.47</td></tr>\n",
       "</tbody>\n",
       "</table>\n"
      ],
      "text/latex": [
       "A data.frame: 2437 × 12\n",
       "\\begin{tabular}{llllllllllll}\n",
       " Session & Date & Treatment & Protocol & Stage & DayNumber & Trial & ID & Latency & Reason & Scoring & Force\\\\\n",
       " <int> & <chr> & <chr> & <chr> & <chr> & <int> & <chr> & <chr> & <dbl> & <chr> & <chr> & <dbl>\\\\\n",
       "\\hline\n",
       "\t  1 & 2024-03-12 16:21:00 & CCD & AMN & PRE  & 0 & C & DW 239 &  0.9 & Detection     & Auto & 33.81\\\\\n",
       "\t  2 & 2024-03-12 16:22:00 & CCD & AMN & PRE  & 0 & C & DW 239 &  0.1 & Detection     & Auto &  5.09\\\\\n",
       "\t  3 & 2024-03-12 16:22:00 & CCD & AMN & PRE  & 0 & C & DW 239 &  0.8 & Detection     & Auto & 31.31\\\\\n",
       "\t  4 & 2024-03-12 16:22:00 & CCD & AMN & PRE  & 0 & I & DW 239 &  0.5 & Detection     & Auto & 21.32\\\\\n",
       "\t  5 & 2024-03-12 16:23:00 & CCD & AMN & PRE  & 0 & I & DW 239 &  2.6 & Detection     & Auto & 75.00\\\\\n",
       "\t  6 & 2024-03-12 16:23:00 & CCD & AMN & PRE  & 0 & I & DW 239 &  0.5 & Detection     & Auto & 21.32\\\\\n",
       "\t  7 & 2024-03-12 16:24:00 & CCD & AMN & PRE  & 0 & I & DW 239 &  0.8 & Detection     & Auto & 30.06\\\\\n",
       "\t  8 & 2024-03-15 16:46:00 & CCD & AMN & POST & 3 & I & DW 239 &  0.3 & Detection     & Auto & 12.58\\\\\n",
       "\t  9 & 2024-03-15 16:46:00 & CCD & AMN & POST & 3 & I & DW 239 &  0.2 & Detection     & Auto & 10.09\\\\\n",
       "\t 10 & 2024-03-15 16:46:00 & CCD & AMN & POST & 3 & I & DW 239 &  0.2 & Detection     & Auto & 10.09\\\\\n",
       "\t 11 & 2024-03-15 16:46:00 & CCD & AMN & POST & 3 & I & DW 239 &  0.2 & Detection     & Auto & 10.09\\\\\n",
       "\t 12 & 2024-03-15 16:47:00 & CCD & AMN & POST & 3 & I & DW 239 &  0.1 & Detection     & Auto &  7.59\\\\\n",
       "\t 13 & 2024-03-15 16:47:00 & CCD & AMN & POST & 3 & I & DW 239 &  0.2 & Detection     & Auto &  7.59\\\\\n",
       "\t 14 & 2024-03-15 16:47:00 & CCD & AMN & POST & 3 & I & DW 239 &  0.2 & Detection     & Auto &  8.84\\\\\n",
       "\t 15 & 2024-03-15 16:47:00 & CCD & AMN & POST & 3 & I & DW 239 &  0.2 & Detection     & Auto & 10.09\\\\\n",
       "\t 16 & 2024-03-15 16:49:00 & CCD & AMN & POST & 3 & C & DW 239 &  1.0 & Detection     & Auto & 37.55\\\\\n",
       "\t 17 & 2024-03-15 16:49:00 & CCD & AMN & POST & 3 & C & DW 239 &  1.4 & Detection     & Auto & 53.78\\\\\n",
       "\t 18 & 2024-03-15 16:50:00 & CCD & AMN & POST & 3 & C & DW 239 & 18.0 & Screen Button & Auto & 75.00\\\\\n",
       "\t 19 & 2024-03-15 16:50:00 & CCD & AMN & POST & 3 & C & DW 239 &  0.2 & Detection     & Auto & 10.09\\\\\n",
       "\t 20 & 2024-03-15 16:50:00 & CCD & AMN & POST & 3 & C & DW 239 &  1.1 & Detection     & Auto & 40.05\\\\\n",
       "\t 21 & 2024-03-15 16:51:00 & CCD & AMN & POST & 3 & I & DW 239 &  0.3 & Detection     & Auto & 11.34\\\\\n",
       "\t 22 & 2024-03-15 16:51:00 & CCD & AMN & POST & 3 & I & DW 239 &  0.2 & Detection     & Auto &  8.84\\\\\n",
       "\t 23 & 2024-03-15 16:51:00 & CCD & AMN & POST & 3 & I & DW 239 &  0.4 & Detection     & Auto & 17.58\\\\\n",
       "\t 24 & 2024-03-15 16:51:00 & CCD & AMN & POST & 3 & I & DW 239 &  0.5 & Detection     & Auto & 18.83\\\\\n",
       "\t 25 & 2024-03-15 16:52:00 & CCD & AMN & POST & 3 & C & DW 239 &  1.2 & Detection     & Auto & 43.79\\\\\n",
       "\t 26 & 2024-03-15 16:53:00 & CCD & AMN & POST & 3 & C & DW 239 &  0.9 & Detection     & Auto & 35.05\\\\\n",
       "\t 27 & 2024-03-15 16:53:00 & CCD & AMN & POST & 3 & C & DW 239 &  0.7 & Detection     & Auto & 27.56\\\\\n",
       "\t 28 & 2024-03-15 16:53:00 & CCD & AMN & POST & 3 & C & DW 239 &  0.8 & Detection     & Auto & 30.06\\\\\n",
       "\t 29 & 2024-03-15 16:53:00 & CCD & AMN & POST & 3 & C & DW 239 &  0.7 & Detection     & Auto & 27.56\\\\\n",
       "\t 30 & 2024-03-15 16:53:00 & CCD & AMN & POST & 3 & I & DW 239 &  0.4 & Detection     & Auto & 17.58\\\\\n",
       "\t ⋮ & ⋮ & ⋮ & ⋮ & ⋮ & ⋮ & ⋮ & ⋮ & ⋮ & ⋮ & ⋮ & ⋮\\\\\n",
       "\t 3960 & 2025-07-24 09:24:49 & CCD & AMN & POST & 22 & C & DW368 &  3.1 & Detection & Auto & 31.81\\\\\n",
       "\t 3961 & 2025-07-24 09:25:00 & CCD & AMN & POST & 22 & C & DW368 &  2.4 & Detection & Auto & 24.18\\\\\n",
       "\t 3962 & 2025-07-24 09:25:13 & CCD & AMN & POST & 22 & C & DW368 &  4.5 & Detection & Auto & 45.08\\\\\n",
       "\t 3963 & 2025-07-24 09:25:23 & CCD & AMN & POST & 22 & C & DW368 &  2.6 & Detection & Auto & 25.51\\\\\n",
       "\t 3964 & 2025-07-24 09:25:37 & CCD & AMN & POST & 22 & C & DW368 &  4.8 & Detection & Auto & 47.73\\\\\n",
       "\t 3965 & 2025-07-24 09:26:39 & CCD & AMN & POST & 22 & C & DW368 &  3.1 & Detection & Auto & 31.81\\\\\n",
       "\t 3966 & 2025-07-24 09:26:58 & CCD & AMN & POST & 22 & C & DW368 &  6.0 & Detection & Auto & 60.00\\\\\n",
       "\t 3967 & 2025-07-24 09:27:25 & CCD & AMN & POST & 22 & C & DW368 &  3.1 & Detection & Auto & 30.81\\\\\n",
       "\t 3968 & 2025-07-24 09:27:41 & CCD & AMN & POST & 22 & C & DW368 &  2.4 & Detection & Auto & 24.84\\\\\n",
       "\t 3969 & 2025-07-24 09:28:37 & CCD & AMN & POST & 22 & C & DW368 & 11.0 & Cutoff    & Auto & 60.00\\\\\n",
       "\t 3970 & 2025-07-24 09:28:49 & CCD & AMN & POST & 22 & C & DW368 &  2.1 & Detection & Auto & 21.53\\\\\n",
       "\t 3971 & 2025-07-24 09:29:16 & CCD & AMN & POST & 22 & C & DW368 &  3.6 & Detection & Auto & 35.79\\\\\n",
       "\t 3972 & 2025-07-24 09:29:26 & CCD & AMN & POST & 22 & C & DW368 &  2.5 & Detection & Auto & 26.17\\\\\n",
       "\t 3973 & 2025-07-24 09:29:47 & CCD & AMN & POST & 22 & C & DW368 &  3.7 & Detection & Auto & 36.45\\\\\n",
       "\t 3974 & 2025-07-24 09:29:57 & CCD & AMN & POST & 22 & C & DW368 &  2.2 & Detection & Auto & 22.19\\\\\n",
       "\t 3975 & 2025-07-24 09:30:53 & CCD & AMN & POST & 22 & C & DW368 &  2.3 & Detection & Auto & 23.18\\\\\n",
       "\t 3976 & 2025-07-24 09:31:31 & CCD & AMN & POST & 22 & C & DW368 &  3.3 & Detection & Auto & 33.47\\\\\n",
       "\t 3977 & 2025-07-24 09:31:50 & CCD & AMN & POST & 22 & C & DW368 &  1.8 & Detection & Auto & 17.88\\\\\n",
       "\t 3978 & 2025-07-24 09:32:14 & CCD & AMN & POST & 22 & C & DW368 &  2.7 & Detection & Auto & 26.83\\\\\n",
       "\t 3979 & 2025-07-24 09:32:28 & CCD & AMN & POST & 22 & C & DW368 &  2.6 & Detection & Auto & 26.17\\\\\n",
       "\t 3980 & 2025-07-24 09:32:45 & CCD & AMN & POST & 22 & C & DW368 &  3.0 & Detection & Auto & 30.81\\\\\n",
       "\t 3981 & 2025-07-24 09:33:01 & CCD & AMN & POST & 22 & C & DW368 &  2.9 & Detection & Auto & 29.82\\\\\n",
       "\t 3982 & 2025-07-24 09:33:15 & CCD & AMN & POST & 22 & C & DW368 &  5.4 & Detection & Auto & 54.36\\\\\n",
       "\t 3983 & 2025-07-24 09:33:24 & CCD & AMN & POST & 22 & C & DW368 &  2.4 & Detection & Auto & 24.51\\\\\n",
       "\t 3984 & 2025-07-24 09:33:47 & CCD & AMN & POST & 22 & C & DW368 &  4.1 & Detection & Auto & 40.76\\\\\n",
       "\t 3985 & 2025-07-24 09:34:26 & CCD & AMN & POST & 22 & C & DW368 &  4.5 & Detection & Auto & 44.74\\\\\n",
       "\t 3986 & 2025-07-24 09:34:47 & CCD & AMN & POST & 22 & C & DW368 &  1.5 & Detection & Auto & 15.23\\\\\n",
       "\t 3987 & 2025-07-24 09:35:18 & CCD & AMN & POST & 22 & C & DW368 &  2.2 & Detection & Auto & 22.52\\\\\n",
       "\t 3988 & 2025-07-24 09:35:29 & CCD & AMN & POST & 22 & C & DW368 &  3.5 & Detection & Auto & 35.79\\\\\n",
       "\t 3989 & 2025-07-24 09:35:39 & CCD & AMN & POST & 22 & C & DW368 &  3.4 & Detection & Auto & 33.47\\\\\n",
       "\\end{tabular}\n"
      ],
      "text/markdown": [
       "\n",
       "A data.frame: 2437 × 12\n",
       "\n",
       "| Session &lt;int&gt; | Date &lt;chr&gt; | Treatment &lt;chr&gt; | Protocol &lt;chr&gt; | Stage &lt;chr&gt; | DayNumber &lt;int&gt; | Trial &lt;chr&gt; | ID &lt;chr&gt; | Latency &lt;dbl&gt; | Reason &lt;chr&gt; | Scoring &lt;chr&gt; | Force &lt;dbl&gt; |\n",
       "|---|---|---|---|---|---|---|---|---|---|---|---|\n",
       "|  1 | 2024-03-12 16:21:00 | CCD | AMN | PRE  | 0 | C | DW 239 |  0.9 | Detection     | Auto | 33.81 |\n",
       "|  2 | 2024-03-12 16:22:00 | CCD | AMN | PRE  | 0 | C | DW 239 |  0.1 | Detection     | Auto |  5.09 |\n",
       "|  3 | 2024-03-12 16:22:00 | CCD | AMN | PRE  | 0 | C | DW 239 |  0.8 | Detection     | Auto | 31.31 |\n",
       "|  4 | 2024-03-12 16:22:00 | CCD | AMN | PRE  | 0 | I | DW 239 |  0.5 | Detection     | Auto | 21.32 |\n",
       "|  5 | 2024-03-12 16:23:00 | CCD | AMN | PRE  | 0 | I | DW 239 |  2.6 | Detection     | Auto | 75.00 |\n",
       "|  6 | 2024-03-12 16:23:00 | CCD | AMN | PRE  | 0 | I | DW 239 |  0.5 | Detection     | Auto | 21.32 |\n",
       "|  7 | 2024-03-12 16:24:00 | CCD | AMN | PRE  | 0 | I | DW 239 |  0.8 | Detection     | Auto | 30.06 |\n",
       "|  8 | 2024-03-15 16:46:00 | CCD | AMN | POST | 3 | I | DW 239 |  0.3 | Detection     | Auto | 12.58 |\n",
       "|  9 | 2024-03-15 16:46:00 | CCD | AMN | POST | 3 | I | DW 239 |  0.2 | Detection     | Auto | 10.09 |\n",
       "| 10 | 2024-03-15 16:46:00 | CCD | AMN | POST | 3 | I | DW 239 |  0.2 | Detection     | Auto | 10.09 |\n",
       "| 11 | 2024-03-15 16:46:00 | CCD | AMN | POST | 3 | I | DW 239 |  0.2 | Detection     | Auto | 10.09 |\n",
       "| 12 | 2024-03-15 16:47:00 | CCD | AMN | POST | 3 | I | DW 239 |  0.1 | Detection     | Auto |  7.59 |\n",
       "| 13 | 2024-03-15 16:47:00 | CCD | AMN | POST | 3 | I | DW 239 |  0.2 | Detection     | Auto |  7.59 |\n",
       "| 14 | 2024-03-15 16:47:00 | CCD | AMN | POST | 3 | I | DW 239 |  0.2 | Detection     | Auto |  8.84 |\n",
       "| 15 | 2024-03-15 16:47:00 | CCD | AMN | POST | 3 | I | DW 239 |  0.2 | Detection     | Auto | 10.09 |\n",
       "| 16 | 2024-03-15 16:49:00 | CCD | AMN | POST | 3 | C | DW 239 |  1.0 | Detection     | Auto | 37.55 |\n",
       "| 17 | 2024-03-15 16:49:00 | CCD | AMN | POST | 3 | C | DW 239 |  1.4 | Detection     | Auto | 53.78 |\n",
       "| 18 | 2024-03-15 16:50:00 | CCD | AMN | POST | 3 | C | DW 239 | 18.0 | Screen Button | Auto | 75.00 |\n",
       "| 19 | 2024-03-15 16:50:00 | CCD | AMN | POST | 3 | C | DW 239 |  0.2 | Detection     | Auto | 10.09 |\n",
       "| 20 | 2024-03-15 16:50:00 | CCD | AMN | POST | 3 | C | DW 239 |  1.1 | Detection     | Auto | 40.05 |\n",
       "| 21 | 2024-03-15 16:51:00 | CCD | AMN | POST | 3 | I | DW 239 |  0.3 | Detection     | Auto | 11.34 |\n",
       "| 22 | 2024-03-15 16:51:00 | CCD | AMN | POST | 3 | I | DW 239 |  0.2 | Detection     | Auto |  8.84 |\n",
       "| 23 | 2024-03-15 16:51:00 | CCD | AMN | POST | 3 | I | DW 239 |  0.4 | Detection     | Auto | 17.58 |\n",
       "| 24 | 2024-03-15 16:51:00 | CCD | AMN | POST | 3 | I | DW 239 |  0.5 | Detection     | Auto | 18.83 |\n",
       "| 25 | 2024-03-15 16:52:00 | CCD | AMN | POST | 3 | C | DW 239 |  1.2 | Detection     | Auto | 43.79 |\n",
       "| 26 | 2024-03-15 16:53:00 | CCD | AMN | POST | 3 | C | DW 239 |  0.9 | Detection     | Auto | 35.05 |\n",
       "| 27 | 2024-03-15 16:53:00 | CCD | AMN | POST | 3 | C | DW 239 |  0.7 | Detection     | Auto | 27.56 |\n",
       "| 28 | 2024-03-15 16:53:00 | CCD | AMN | POST | 3 | C | DW 239 |  0.8 | Detection     | Auto | 30.06 |\n",
       "| 29 | 2024-03-15 16:53:00 | CCD | AMN | POST | 3 | C | DW 239 |  0.7 | Detection     | Auto | 27.56 |\n",
       "| 30 | 2024-03-15 16:53:00 | CCD | AMN | POST | 3 | I | DW 239 |  0.4 | Detection     | Auto | 17.58 |\n",
       "| ⋮ | ⋮ | ⋮ | ⋮ | ⋮ | ⋮ | ⋮ | ⋮ | ⋮ | ⋮ | ⋮ | ⋮ |\n",
       "| 3960 | 2025-07-24 09:24:49 | CCD | AMN | POST | 22 | C | DW368 |  3.1 | Detection | Auto | 31.81 |\n",
       "| 3961 | 2025-07-24 09:25:00 | CCD | AMN | POST | 22 | C | DW368 |  2.4 | Detection | Auto | 24.18 |\n",
       "| 3962 | 2025-07-24 09:25:13 | CCD | AMN | POST | 22 | C | DW368 |  4.5 | Detection | Auto | 45.08 |\n",
       "| 3963 | 2025-07-24 09:25:23 | CCD | AMN | POST | 22 | C | DW368 |  2.6 | Detection | Auto | 25.51 |\n",
       "| 3964 | 2025-07-24 09:25:37 | CCD | AMN | POST | 22 | C | DW368 |  4.8 | Detection | Auto | 47.73 |\n",
       "| 3965 | 2025-07-24 09:26:39 | CCD | AMN | POST | 22 | C | DW368 |  3.1 | Detection | Auto | 31.81 |\n",
       "| 3966 | 2025-07-24 09:26:58 | CCD | AMN | POST | 22 | C | DW368 |  6.0 | Detection | Auto | 60.00 |\n",
       "| 3967 | 2025-07-24 09:27:25 | CCD | AMN | POST | 22 | C | DW368 |  3.1 | Detection | Auto | 30.81 |\n",
       "| 3968 | 2025-07-24 09:27:41 | CCD | AMN | POST | 22 | C | DW368 |  2.4 | Detection | Auto | 24.84 |\n",
       "| 3969 | 2025-07-24 09:28:37 | CCD | AMN | POST | 22 | C | DW368 | 11.0 | Cutoff    | Auto | 60.00 |\n",
       "| 3970 | 2025-07-24 09:28:49 | CCD | AMN | POST | 22 | C | DW368 |  2.1 | Detection | Auto | 21.53 |\n",
       "| 3971 | 2025-07-24 09:29:16 | CCD | AMN | POST | 22 | C | DW368 |  3.6 | Detection | Auto | 35.79 |\n",
       "| 3972 | 2025-07-24 09:29:26 | CCD | AMN | POST | 22 | C | DW368 |  2.5 | Detection | Auto | 26.17 |\n",
       "| 3973 | 2025-07-24 09:29:47 | CCD | AMN | POST | 22 | C | DW368 |  3.7 | Detection | Auto | 36.45 |\n",
       "| 3974 | 2025-07-24 09:29:57 | CCD | AMN | POST | 22 | C | DW368 |  2.2 | Detection | Auto | 22.19 |\n",
       "| 3975 | 2025-07-24 09:30:53 | CCD | AMN | POST | 22 | C | DW368 |  2.3 | Detection | Auto | 23.18 |\n",
       "| 3976 | 2025-07-24 09:31:31 | CCD | AMN | POST | 22 | C | DW368 |  3.3 | Detection | Auto | 33.47 |\n",
       "| 3977 | 2025-07-24 09:31:50 | CCD | AMN | POST | 22 | C | DW368 |  1.8 | Detection | Auto | 17.88 |\n",
       "| 3978 | 2025-07-24 09:32:14 | CCD | AMN | POST | 22 | C | DW368 |  2.7 | Detection | Auto | 26.83 |\n",
       "| 3979 | 2025-07-24 09:32:28 | CCD | AMN | POST | 22 | C | DW368 |  2.6 | Detection | Auto | 26.17 |\n",
       "| 3980 | 2025-07-24 09:32:45 | CCD | AMN | POST | 22 | C | DW368 |  3.0 | Detection | Auto | 30.81 |\n",
       "| 3981 | 2025-07-24 09:33:01 | CCD | AMN | POST | 22 | C | DW368 |  2.9 | Detection | Auto | 29.82 |\n",
       "| 3982 | 2025-07-24 09:33:15 | CCD | AMN | POST | 22 | C | DW368 |  5.4 | Detection | Auto | 54.36 |\n",
       "| 3983 | 2025-07-24 09:33:24 | CCD | AMN | POST | 22 | C | DW368 |  2.4 | Detection | Auto | 24.51 |\n",
       "| 3984 | 2025-07-24 09:33:47 | CCD | AMN | POST | 22 | C | DW368 |  4.1 | Detection | Auto | 40.76 |\n",
       "| 3985 | 2025-07-24 09:34:26 | CCD | AMN | POST | 22 | C | DW368 |  4.5 | Detection | Auto | 44.74 |\n",
       "| 3986 | 2025-07-24 09:34:47 | CCD | AMN | POST | 22 | C | DW368 |  1.5 | Detection | Auto | 15.23 |\n",
       "| 3987 | 2025-07-24 09:35:18 | CCD | AMN | POST | 22 | C | DW368 |  2.2 | Detection | Auto | 22.52 |\n",
       "| 3988 | 2025-07-24 09:35:29 | CCD | AMN | POST | 22 | C | DW368 |  3.5 | Detection | Auto | 35.79 |\n",
       "| 3989 | 2025-07-24 09:35:39 | CCD | AMN | POST | 22 | C | DW368 |  3.4 | Detection | Auto | 33.47 |\n",
       "\n"
      ],
      "text/plain": [
       "     Session Date                Treatment Protocol Stage DayNumber Trial\n",
       "1     1      2024-03-12 16:21:00 CCD       AMN      PRE   0         C    \n",
       "2     2      2024-03-12 16:22:00 CCD       AMN      PRE   0         C    \n",
       "3     3      2024-03-12 16:22:00 CCD       AMN      PRE   0         C    \n",
       "4     4      2024-03-12 16:22:00 CCD       AMN      PRE   0         I    \n",
       "5     5      2024-03-12 16:23:00 CCD       AMN      PRE   0         I    \n",
       "6     6      2024-03-12 16:23:00 CCD       AMN      PRE   0         I    \n",
       "7     7      2024-03-12 16:24:00 CCD       AMN      PRE   0         I    \n",
       "8     8      2024-03-15 16:46:00 CCD       AMN      POST  3         I    \n",
       "9     9      2024-03-15 16:46:00 CCD       AMN      POST  3         I    \n",
       "10   10      2024-03-15 16:46:00 CCD       AMN      POST  3         I    \n",
       "11   11      2024-03-15 16:46:00 CCD       AMN      POST  3         I    \n",
       "12   12      2024-03-15 16:47:00 CCD       AMN      POST  3         I    \n",
       "13   13      2024-03-15 16:47:00 CCD       AMN      POST  3         I    \n",
       "14   14      2024-03-15 16:47:00 CCD       AMN      POST  3         I    \n",
       "15   15      2024-03-15 16:47:00 CCD       AMN      POST  3         I    \n",
       "16   16      2024-03-15 16:49:00 CCD       AMN      POST  3         C    \n",
       "17   17      2024-03-15 16:49:00 CCD       AMN      POST  3         C    \n",
       "18   18      2024-03-15 16:50:00 CCD       AMN      POST  3         C    \n",
       "19   19      2024-03-15 16:50:00 CCD       AMN      POST  3         C    \n",
       "20   20      2024-03-15 16:50:00 CCD       AMN      POST  3         C    \n",
       "21   21      2024-03-15 16:51:00 CCD       AMN      POST  3         I    \n",
       "22   22      2024-03-15 16:51:00 CCD       AMN      POST  3         I    \n",
       "23   23      2024-03-15 16:51:00 CCD       AMN      POST  3         I    \n",
       "24   24      2024-03-15 16:51:00 CCD       AMN      POST  3         I    \n",
       "25   25      2024-03-15 16:52:00 CCD       AMN      POST  3         C    \n",
       "26   26      2024-03-15 16:53:00 CCD       AMN      POST  3         C    \n",
       "27   27      2024-03-15 16:53:00 CCD       AMN      POST  3         C    \n",
       "28   28      2024-03-15 16:53:00 CCD       AMN      POST  3         C    \n",
       "29   29      2024-03-15 16:53:00 CCD       AMN      POST  3         C    \n",
       "30   30      2024-03-15 16:53:00 CCD       AMN      POST  3         I    \n",
       "⋮    ⋮       ⋮                   ⋮         ⋮        ⋮     ⋮         ⋮    \n",
       "2408 3960    2025-07-24 09:24:49 CCD       AMN      POST  22        C    \n",
       "2409 3961    2025-07-24 09:25:00 CCD       AMN      POST  22        C    \n",
       "2410 3962    2025-07-24 09:25:13 CCD       AMN      POST  22        C    \n",
       "2411 3963    2025-07-24 09:25:23 CCD       AMN      POST  22        C    \n",
       "2412 3964    2025-07-24 09:25:37 CCD       AMN      POST  22        C    \n",
       "2413 3965    2025-07-24 09:26:39 CCD       AMN      POST  22        C    \n",
       "2414 3966    2025-07-24 09:26:58 CCD       AMN      POST  22        C    \n",
       "2415 3967    2025-07-24 09:27:25 CCD       AMN      POST  22        C    \n",
       "2416 3968    2025-07-24 09:27:41 CCD       AMN      POST  22        C    \n",
       "2417 3969    2025-07-24 09:28:37 CCD       AMN      POST  22        C    \n",
       "2418 3970    2025-07-24 09:28:49 CCD       AMN      POST  22        C    \n",
       "2419 3971    2025-07-24 09:29:16 CCD       AMN      POST  22        C    \n",
       "2420 3972    2025-07-24 09:29:26 CCD       AMN      POST  22        C    \n",
       "2421 3973    2025-07-24 09:29:47 CCD       AMN      POST  22        C    \n",
       "2422 3974    2025-07-24 09:29:57 CCD       AMN      POST  22        C    \n",
       "2423 3975    2025-07-24 09:30:53 CCD       AMN      POST  22        C    \n",
       "2424 3976    2025-07-24 09:31:31 CCD       AMN      POST  22        C    \n",
       "2425 3977    2025-07-24 09:31:50 CCD       AMN      POST  22        C    \n",
       "2426 3978    2025-07-24 09:32:14 CCD       AMN      POST  22        C    \n",
       "2427 3979    2025-07-24 09:32:28 CCD       AMN      POST  22        C    \n",
       "2428 3980    2025-07-24 09:32:45 CCD       AMN      POST  22        C    \n",
       "2429 3981    2025-07-24 09:33:01 CCD       AMN      POST  22        C    \n",
       "2430 3982    2025-07-24 09:33:15 CCD       AMN      POST  22        C    \n",
       "2431 3983    2025-07-24 09:33:24 CCD       AMN      POST  22        C    \n",
       "2432 3984    2025-07-24 09:33:47 CCD       AMN      POST  22        C    \n",
       "2433 3985    2025-07-24 09:34:26 CCD       AMN      POST  22        C    \n",
       "2434 3986    2025-07-24 09:34:47 CCD       AMN      POST  22        C    \n",
       "2435 3987    2025-07-24 09:35:18 CCD       AMN      POST  22        C    \n",
       "2436 3988    2025-07-24 09:35:29 CCD       AMN      POST  22        C    \n",
       "2437 3989    2025-07-24 09:35:39 CCD       AMN      POST  22        C    \n",
       "     ID     Latency Reason        Scoring Force\n",
       "1    DW 239  0.9    Detection     Auto    33.81\n",
       "2    DW 239  0.1    Detection     Auto     5.09\n",
       "3    DW 239  0.8    Detection     Auto    31.31\n",
       "4    DW 239  0.5    Detection     Auto    21.32\n",
       "5    DW 239  2.6    Detection     Auto    75.00\n",
       "6    DW 239  0.5    Detection     Auto    21.32\n",
       "7    DW 239  0.8    Detection     Auto    30.06\n",
       "8    DW 239  0.3    Detection     Auto    12.58\n",
       "9    DW 239  0.2    Detection     Auto    10.09\n",
       "10   DW 239  0.2    Detection     Auto    10.09\n",
       "11   DW 239  0.2    Detection     Auto    10.09\n",
       "12   DW 239  0.1    Detection     Auto     7.59\n",
       "13   DW 239  0.2    Detection     Auto     7.59\n",
       "14   DW 239  0.2    Detection     Auto     8.84\n",
       "15   DW 239  0.2    Detection     Auto    10.09\n",
       "16   DW 239  1.0    Detection     Auto    37.55\n",
       "17   DW 239  1.4    Detection     Auto    53.78\n",
       "18   DW 239 18.0    Screen Button Auto    75.00\n",
       "19   DW 239  0.2    Detection     Auto    10.09\n",
       "20   DW 239  1.1    Detection     Auto    40.05\n",
       "21   DW 239  0.3    Detection     Auto    11.34\n",
       "22   DW 239  0.2    Detection     Auto     8.84\n",
       "23   DW 239  0.4    Detection     Auto    17.58\n",
       "24   DW 239  0.5    Detection     Auto    18.83\n",
       "25   DW 239  1.2    Detection     Auto    43.79\n",
       "26   DW 239  0.9    Detection     Auto    35.05\n",
       "27   DW 239  0.7    Detection     Auto    27.56\n",
       "28   DW 239  0.8    Detection     Auto    30.06\n",
       "29   DW 239  0.7    Detection     Auto    27.56\n",
       "30   DW 239  0.4    Detection     Auto    17.58\n",
       "⋮    ⋮      ⋮       ⋮             ⋮       ⋮    \n",
       "2408 DW368   3.1    Detection     Auto    31.81\n",
       "2409 DW368   2.4    Detection     Auto    24.18\n",
       "2410 DW368   4.5    Detection     Auto    45.08\n",
       "2411 DW368   2.6    Detection     Auto    25.51\n",
       "2412 DW368   4.8    Detection     Auto    47.73\n",
       "2413 DW368   3.1    Detection     Auto    31.81\n",
       "2414 DW368   6.0    Detection     Auto    60.00\n",
       "2415 DW368   3.1    Detection     Auto    30.81\n",
       "2416 DW368   2.4    Detection     Auto    24.84\n",
       "2417 DW368  11.0    Cutoff        Auto    60.00\n",
       "2418 DW368   2.1    Detection     Auto    21.53\n",
       "2419 DW368   3.6    Detection     Auto    35.79\n",
       "2420 DW368   2.5    Detection     Auto    26.17\n",
       "2421 DW368   3.7    Detection     Auto    36.45\n",
       "2422 DW368   2.2    Detection     Auto    22.19\n",
       "2423 DW368   2.3    Detection     Auto    23.18\n",
       "2424 DW368   3.3    Detection     Auto    33.47\n",
       "2425 DW368   1.8    Detection     Auto    17.88\n",
       "2426 DW368   2.7    Detection     Auto    26.83\n",
       "2427 DW368   2.6    Detection     Auto    26.17\n",
       "2428 DW368   3.0    Detection     Auto    30.81\n",
       "2429 DW368   2.9    Detection     Auto    29.82\n",
       "2430 DW368   5.4    Detection     Auto    54.36\n",
       "2431 DW368   2.4    Detection     Auto    24.51\n",
       "2432 DW368   4.1    Detection     Auto    40.76\n",
       "2433 DW368   4.5    Detection     Auto    44.74\n",
       "2434 DW368   1.5    Detection     Auto    15.23\n",
       "2435 DW368   2.2    Detection     Auto    22.52\n",
       "2436 DW368   3.5    Detection     Auto    35.79\n",
       "2437 DW368   3.4    Detection     Auto    33.47"
      ]
     },
     "metadata": {},
     "output_type": "display_data"
    }
   ],
   "source": [
    "combined_vf"
   ]
  },
  {
   "cell_type": "code",
   "execution_count": 21,
   "id": "9591e671-773f-4191-8c63-e194383abf63",
   "metadata": {},
   "outputs": [
    {
     "data": {
      "text/html": [
       "<table class=\"dataframe\">\n",
       "<caption>A data.frame: 6 × 12</caption>\n",
       "<thead>\n",
       "\t<tr><th></th><th scope=col>Session</th><th scope=col>Date</th><th scope=col>Treatment</th><th scope=col>Protocol</th><th scope=col>Stage</th><th scope=col>Trial</th><th scope=col>ID</th><th scope=col>Latency</th><th scope=col>Reason</th><th scope=col>Scoring</th><th scope=col>Force</th><th scope=col>DayNumber</th></tr>\n",
       "\t<tr><th></th><th scope=col>&lt;int&gt;</th><th scope=col>&lt;chr&gt;</th><th scope=col>&lt;chr&gt;</th><th scope=col>&lt;chr&gt;</th><th scope=col>&lt;chr&gt;</th><th scope=col>&lt;chr&gt;</th><th scope=col>&lt;chr&gt;</th><th scope=col>&lt;dbl&gt;</th><th scope=col>&lt;chr&gt;</th><th scope=col>&lt;chr&gt;</th><th scope=col>&lt;dbl&gt;</th><th scope=col>&lt;int&gt;</th></tr>\n",
       "</thead>\n",
       "<tbody>\n",
       "\t<tr><th scope=row>848</th><td>3984</td><td>2025-07-24 09:33:47</td><td>CCD</td><td>AMN</td><td>POST</td><td>C</td><td>DW368</td><td>4.1</td><td>Detection</td><td>Auto</td><td>40.76</td><td>22</td></tr>\n",
       "\t<tr><th scope=row>849</th><td>3985</td><td>2025-07-24 09:34:26</td><td>CCD</td><td>AMN</td><td>POST</td><td>C</td><td>DW368</td><td>4.5</td><td>Detection</td><td>Auto</td><td>44.74</td><td>22</td></tr>\n",
       "\t<tr><th scope=row>850</th><td>3986</td><td>2025-07-24 09:34:47</td><td>CCD</td><td>AMN</td><td>POST</td><td>C</td><td>DW368</td><td>1.5</td><td>Detection</td><td>Auto</td><td>15.23</td><td>22</td></tr>\n",
       "\t<tr><th scope=row>851</th><td>3987</td><td>2025-07-24 09:35:18</td><td>CCD</td><td>AMN</td><td>POST</td><td>C</td><td>DW368</td><td>2.2</td><td>Detection</td><td>Auto</td><td>22.52</td><td>22</td></tr>\n",
       "\t<tr><th scope=row>852</th><td>3988</td><td>2025-07-24 09:35:29</td><td>CCD</td><td>AMN</td><td>POST</td><td>C</td><td>DW368</td><td>3.5</td><td>Detection</td><td>Auto</td><td>35.79</td><td>22</td></tr>\n",
       "\t<tr><th scope=row>853</th><td>3989</td><td>2025-07-24 09:35:39</td><td>CCD</td><td>AMN</td><td>POST</td><td>C</td><td>DW368</td><td>3.4</td><td>Detection</td><td>Auto</td><td>33.47</td><td>22</td></tr>\n",
       "</tbody>\n",
       "</table>\n"
      ],
      "text/latex": [
       "A data.frame: 6 × 12\n",
       "\\begin{tabular}{r|llllllllllll}\n",
       "  & Session & Date & Treatment & Protocol & Stage & Trial & ID & Latency & Reason & Scoring & Force & DayNumber\\\\\n",
       "  & <int> & <chr> & <chr> & <chr> & <chr> & <chr> & <chr> & <dbl> & <chr> & <chr> & <dbl> & <int>\\\\\n",
       "\\hline\n",
       "\t848 & 3984 & 2025-07-24 09:33:47 & CCD & AMN & POST & C & DW368 & 4.1 & Detection & Auto & 40.76 & 22\\\\\n",
       "\t849 & 3985 & 2025-07-24 09:34:26 & CCD & AMN & POST & C & DW368 & 4.5 & Detection & Auto & 44.74 & 22\\\\\n",
       "\t850 & 3986 & 2025-07-24 09:34:47 & CCD & AMN & POST & C & DW368 & 1.5 & Detection & Auto & 15.23 & 22\\\\\n",
       "\t851 & 3987 & 2025-07-24 09:35:18 & CCD & AMN & POST & C & DW368 & 2.2 & Detection & Auto & 22.52 & 22\\\\\n",
       "\t852 & 3988 & 2025-07-24 09:35:29 & CCD & AMN & POST & C & DW368 & 3.5 & Detection & Auto & 35.79 & 22\\\\\n",
       "\t853 & 3989 & 2025-07-24 09:35:39 & CCD & AMN & POST & C & DW368 & 3.4 & Detection & Auto & 33.47 & 22\\\\\n",
       "\\end{tabular}\n"
      ],
      "text/markdown": [
       "\n",
       "A data.frame: 6 × 12\n",
       "\n",
       "| <!--/--> | Session &lt;int&gt; | Date &lt;chr&gt; | Treatment &lt;chr&gt; | Protocol &lt;chr&gt; | Stage &lt;chr&gt; | Trial &lt;chr&gt; | ID &lt;chr&gt; | Latency &lt;dbl&gt; | Reason &lt;chr&gt; | Scoring &lt;chr&gt; | Force &lt;dbl&gt; | DayNumber &lt;int&gt; |\n",
       "|---|---|---|---|---|---|---|---|---|---|---|---|---|\n",
       "| 848 | 3984 | 2025-07-24 09:33:47 | CCD | AMN | POST | C | DW368 | 4.1 | Detection | Auto | 40.76 | 22 |\n",
       "| 849 | 3985 | 2025-07-24 09:34:26 | CCD | AMN | POST | C | DW368 | 4.5 | Detection | Auto | 44.74 | 22 |\n",
       "| 850 | 3986 | 2025-07-24 09:34:47 | CCD | AMN | POST | C | DW368 | 1.5 | Detection | Auto | 15.23 | 22 |\n",
       "| 851 | 3987 | 2025-07-24 09:35:18 | CCD | AMN | POST | C | DW368 | 2.2 | Detection | Auto | 22.52 | 22 |\n",
       "| 852 | 3988 | 2025-07-24 09:35:29 | CCD | AMN | POST | C | DW368 | 3.5 | Detection | Auto | 35.79 | 22 |\n",
       "| 853 | 3989 | 2025-07-24 09:35:39 | CCD | AMN | POST | C | DW368 | 3.4 | Detection | Auto | 33.47 | 22 |\n",
       "\n"
      ],
      "text/plain": [
       "    Session Date                Treatment Protocol Stage Trial ID    Latency\n",
       "848 3984    2025-07-24 09:33:47 CCD       AMN      POST  C     DW368 4.1    \n",
       "849 3985    2025-07-24 09:34:26 CCD       AMN      POST  C     DW368 4.5    \n",
       "850 3986    2025-07-24 09:34:47 CCD       AMN      POST  C     DW368 1.5    \n",
       "851 3987    2025-07-24 09:35:18 CCD       AMN      POST  C     DW368 2.2    \n",
       "852 3988    2025-07-24 09:35:29 CCD       AMN      POST  C     DW368 3.5    \n",
       "853 3989    2025-07-24 09:35:39 CCD       AMN      POST  C     DW368 3.4    \n",
       "    Reason    Scoring Force DayNumber\n",
       "848 Detection Auto    40.76 22       \n",
       "849 Detection Auto    44.74 22       \n",
       "850 Detection Auto    15.23 22       \n",
       "851 Detection Auto    22.52 22       \n",
       "852 Detection Auto    35.79 22       \n",
       "853 Detection Auto    33.47 22       "
      ]
     },
     "metadata": {},
     "output_type": "display_data"
    }
   ],
   "source": [
    "tail(vf_short_new)"
   ]
  },
  {
   "cell_type": "code",
   "execution_count": null,
   "id": "2af8f517-d15c-4537-9934-08a47d168695",
   "metadata": {},
   "outputs": [],
   "source": [
    "combined_vf.to"
   ]
  }
 ],
 "metadata": {
  "kernelspec": {
   "display_name": "R",
   "language": "R",
   "name": "ir"
  },
  "language_info": {
   "codemirror_mode": "r",
   "file_extension": ".r",
   "mimetype": "text/x-r-source",
   "name": "R",
   "pygments_lexer": "r",
   "version": "4.5.1"
  }
 },
 "nbformat": 4,
 "nbformat_minor": 5
}

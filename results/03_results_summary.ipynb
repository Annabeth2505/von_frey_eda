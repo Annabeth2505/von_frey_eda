{
 "cells": [
  {
   "cell_type": "code",
   "execution_count": 1,
   "id": "21caa672-93c5-45e9-a710-7960e0854d56",
   "metadata": {},
   "outputs": [
    {
     "name": "stdout",
     "output_type": "stream",
     "text": [
      "\n",
      "The downloaded binary packages are in\n",
      "\t/var/folders/ws/dmbkn8cx75l33lp2zph5rpbw0000gn/T//RtmpaLhm6v/downloaded_packages\n",
      "\n",
      "The downloaded binary packages are in\n",
      "\t/var/folders/ws/dmbkn8cx75l33lp2zph5rpbw0000gn/T//RtmpaLhm6v/downloaded_packages\n",
      "\n",
      "The downloaded binary packages are in\n",
      "\t/var/folders/ws/dmbkn8cx75l33lp2zph5rpbw0000gn/T//RtmpaLhm6v/downloaded_packages\n",
      "\n",
      "The downloaded binary packages are in\n",
      "\t/var/folders/ws/dmbkn8cx75l33lp2zph5rpbw0000gn/T//RtmpaLhm6v/downloaded_packages\n",
      "\n",
      "The downloaded binary packages are in\n",
      "\t/var/folders/ws/dmbkn8cx75l33lp2zph5rpbw0000gn/T//RtmpaLhm6v/downloaded_packages\n",
      "\n",
      "The downloaded binary packages are in\n",
      "\t/var/folders/ws/dmbkn8cx75l33lp2zph5rpbw0000gn/T//RtmpaLhm6v/downloaded_packages\n"
     ]
    },
    {
     "name": "stderr",
     "output_type": "stream",
     "text": [
      "also installing the dependency ‘bayestestR’\n",
      "\n",
      "\n"
     ]
    },
    {
     "name": "stdout",
     "output_type": "stream",
     "text": [
      "\n",
      "The downloaded binary packages are in\n",
      "\t/var/folders/ws/dmbkn8cx75l33lp2zph5rpbw0000gn/T//RtmpaLhm6v/downloaded_packages\n"
     ]
    }
   ],
   "source": [
    "install.packages('dplyr')\n",
    "install.packages('ggplot2')\n",
    "install.packages('lme4')\n",
    "install.packages('ggeffects')\n",
    "install.packages('tidyr')\n",
    "install.packages('broom')\n",
    "install.packages('performance')"
   ]
  },
  {
   "cell_type": "code",
   "execution_count": 2,
   "id": "1fd71627-3447-455b-992e-7d5b6d28932d",
   "metadata": {},
   "outputs": [
    {
     "name": "stderr",
     "output_type": "stream",
     "text": [
      "\n",
      "Attaching package: ‘dplyr’\n",
      "\n",
      "\n",
      "The following objects are masked from ‘package:stats’:\n",
      "\n",
      "    filter, lag\n",
      "\n",
      "\n",
      "The following objects are masked from ‘package:base’:\n",
      "\n",
      "    intersect, setdiff, setequal, union\n",
      "\n",
      "\n",
      "Loading required package: Matrix\n",
      "\n",
      "\n",
      "Attaching package: ‘tidyr’\n",
      "\n",
      "\n",
      "The following objects are masked from ‘package:Matrix’:\n",
      "\n",
      "    expand, pack, unpack\n",
      "\n",
      "\n"
     ]
    }
   ],
   "source": [
    "library(dplyr)\n",
    "library(ggplot2)\n",
    "library(lme4)\n",
    "library(ggeffects)\n",
    "library(tidyr)\n",
    "library(broom)\n",
    "library(performance)"
   ]
  },
  {
   "cell_type": "code",
   "execution_count": 8,
   "id": "17e204ae-06a3-4842-9948-d5fadefbc913",
   "metadata": {},
   "outputs": [],
   "source": [
    "vf = read.csv(\"post_modeling_dataset.csv\")"
   ]
  },
  {
   "cell_type": "markdown",
   "id": "5367c13d-298a-49a6-886d-e7c8e5e59009",
   "metadata": {},
   "source": [
    "## About the final model of choice \n",
    "m5 = lmer(\n",
    "  Force ~ poly(DayNumber_z, 2, raw=TRUE) * Stage * Trial + (DayNumber_z | ID),\n",
    "  data = vf)"
   ]
  },
  {
   "cell_type": "code",
   "execution_count": 9,
   "id": "6e9826ba-d5bb-4020-ac35-791499e6752a",
   "metadata": {},
   "outputs": [
    {
     "name": "stderr",
     "output_type": "stream",
     "text": [
      "fixed-effect model matrix is rank deficient so dropping 4 columns / coefficients\n",
      "\n"
     ]
    }
   ],
   "source": [
    "m5 = lmer(\n",
    "  Force ~ poly(DayNumber_z, 2, raw=TRUE) * Stage * Trial + (DayNumber_z | ID),\n",
    "  data = vf)"
   ]
  },
  {
   "cell_type": "code",
   "execution_count": 10,
   "id": "ffafecac-47b8-4cc4-a5e9-038737425e29",
   "metadata": {},
   "outputs": [
    {
     "data": {
      "text/html": [
       "<dl>\n",
       "\t<dt>$R2_conditional</dt>\n",
       "\t\t<dd><strong>Conditional R2:</strong> 0.269246679193756</dd>\n",
       "\t<dt>$R2_marginal</dt>\n",
       "\t\t<dd><strong>Marginal R2:</strong> 0.165610355134799</dd>\n",
       "</dl>\n"
      ],
      "text/latex": [
       "\\begin{description}\n",
       "\\item[\\$R2\\_conditional] \\textbf{Conditional R2:} 0.269246679193756\n",
       "\\item[\\$R2\\_marginal] \\textbf{Marginal R2:} 0.165610355134799\n",
       "\\end{description}\n"
      ],
      "text/markdown": [
       "$R2_conditional\n",
       ":   **Conditional R2:** 0.269246679193756\n",
       "$R2_marginal\n",
       ":   **Marginal R2:** 0.165610355134799\n",
       "\n",
       "\n"
      ],
      "text/plain": [
       "\u001b[34m# R2 for Mixed Models\n",
       "\n",
       "\u001b[39m  Conditional R2: 0.269\n",
       "     Marginal R2: 0.166"
      ]
     },
     "metadata": {},
     "output_type": "display_data"
    }
   ],
   "source": [
    "r2(m5)"
   ]
  },
  {
   "cell_type": "code",
   "execution_count": null,
   "id": "0eeef035-396a-4dda-95b7-0bee99e8e684",
   "metadata": {},
   "outputs": [],
   "source": []
  }
 ],
 "metadata": {
  "kernelspec": {
   "display_name": "R",
   "language": "R",
   "name": "ir"
  },
  "language_info": {
   "codemirror_mode": "r",
   "file_extension": ".r",
   "mimetype": "text/x-r-source",
   "name": "R",
   "pygments_lexer": "r",
   "version": "4.5.1"
  }
 },
 "nbformat": 4,
 "nbformat_minor": 5
}

{
 "cells": [
  {
   "cell_type": "code",
   "execution_count": 1,
   "id": "21caa672-93c5-45e9-a710-7960e0854d56",
   "metadata": {},
   "outputs": [
    {
     "name": "stdout",
     "output_type": "stream",
     "text": [
      "\n",
      "The downloaded binary packages are in\n",
      "\t/var/folders/ws/dmbkn8cx75l33lp2zph5rpbw0000gn/T//RtmpaLhm6v/downloaded_packages\n",
      "\n",
      "The downloaded binary packages are in\n",
      "\t/var/folders/ws/dmbkn8cx75l33lp2zph5rpbw0000gn/T//RtmpaLhm6v/downloaded_packages\n",
      "\n",
      "The downloaded binary packages are in\n",
      "\t/var/folders/ws/dmbkn8cx75l33lp2zph5rpbw0000gn/T//RtmpaLhm6v/downloaded_packages\n",
      "\n",
      "The downloaded binary packages are in\n",
      "\t/var/folders/ws/dmbkn8cx75l33lp2zph5rpbw0000gn/T//RtmpaLhm6v/downloaded_packages\n",
      "\n",
      "The downloaded binary packages are in\n",
      "\t/var/folders/ws/dmbkn8cx75l33lp2zph5rpbw0000gn/T//RtmpaLhm6v/downloaded_packages\n",
      "\n",
      "The downloaded binary packages are in\n",
      "\t/var/folders/ws/dmbkn8cx75l33lp2zph5rpbw0000gn/T//RtmpaLhm6v/downloaded_packages\n"
     ]
    },
    {
     "name": "stderr",
     "output_type": "stream",
     "text": [
      "also installing the dependency ‘bayestestR’\n",
      "\n",
      "\n"
     ]
    },
    {
     "name": "stdout",
     "output_type": "stream",
     "text": [
      "\n",
      "The downloaded binary packages are in\n",
      "\t/var/folders/ws/dmbkn8cx75l33lp2zph5rpbw0000gn/T//RtmpaLhm6v/downloaded_packages\n"
     ]
    }
   ],
   "source": [
    "install.packages('dplyr')\n",
    "install.packages('ggplot2')\n",
    "install.packages('lme4')\n",
    "install.packages('ggeffects')\n",
    "install.packages('tidyr')\n",
    "install.packages('broom')\n",
    "install.packages('performance')"
   ]
  },
  {
   "cell_type": "code",
   "execution_count": 2,
   "id": "1fd71627-3447-455b-992e-7d5b6d28932d",
   "metadata": {},
   "outputs": [
    {
     "name": "stderr",
     "output_type": "stream",
     "text": [
      "\n",
      "Attaching package: ‘dplyr’\n",
      "\n",
      "\n",
      "The following objects are masked from ‘package:stats’:\n",
      "\n",
      "    filter, lag\n",
      "\n",
      "\n",
      "The following objects are masked from ‘package:base’:\n",
      "\n",
      "    intersect, setdiff, setequal, union\n",
      "\n",
      "\n",
      "Loading required package: Matrix\n",
      "\n",
      "\n",
      "Attaching package: ‘tidyr’\n",
      "\n",
      "\n",
      "The following objects are masked from ‘package:Matrix’:\n",
      "\n",
      "    expand, pack, unpack\n",
      "\n",
      "\n"
     ]
    }
   ],
   "source": [
    "library(dplyr)\n",
    "library(ggplot2)\n",
    "library(lme4)\n",
    "library(ggeffects)\n",
    "library(tidyr)\n",
    "library(broom)\n",
    "library(performance)"
   ]
  },
  {
   "cell_type": "code",
   "execution_count": 8,
   "id": "17e204ae-06a3-4842-9948-d5fadefbc913",
   "metadata": {},
   "outputs": [],
   "source": [
    "vf = read.csv(\"post_modeling_dataset.csv\")"
   ]
  },
  {
   "cell_type": "markdown",
   "id": "a5c9b4d3-a241-4358-9bb4-723d63f5363f",
   "metadata": {},
   "source": [
    "## Previously tested models:"
   ]
  },
  {
   "cell_type": "code",
   "execution_count": 22,
   "id": "6948cedb-4ade-4c64-a01b-5d7a1a5a4cf4",
   "metadata": {},
   "outputs": [],
   "source": [
    "m1 = lmer(Force ~ DayNumber_z + (DayNumber_z| ID), data =vf)"
   ]
  },
  {
   "cell_type": "code",
   "execution_count": 23,
   "id": "df24b61c-f67b-40c1-90b5-0cd064f729f4",
   "metadata": {},
   "outputs": [
    {
     "data": {
      "text/html": [
       "<dl>\n",
       "\t<dt>$R2_conditional</dt>\n",
       "\t\t<dd><strong>Conditional R2:</strong> 0.156789193265615</dd>\n",
       "\t<dt>$R2_marginal</dt>\n",
       "\t\t<dd><strong>Marginal R2:</strong> 0.0279939878493324</dd>\n",
       "</dl>\n"
      ],
      "text/latex": [
       "\\begin{description}\n",
       "\\item[\\$R2\\_conditional] \\textbf{Conditional R2:} 0.156789193265615\n",
       "\\item[\\$R2\\_marginal] \\textbf{Marginal R2:} 0.0279939878493324\n",
       "\\end{description}\n"
      ],
      "text/markdown": [
       "$R2_conditional\n",
       ":   **Conditional R2:** 0.156789193265615\n",
       "$R2_marginal\n",
       ":   **Marginal R2:** 0.0279939878493324\n",
       "\n",
       "\n"
      ],
      "text/plain": [
       "\u001b[34m# R2 for Mixed Models\n",
       "\n",
       "\u001b[39m  Conditional R2: 0.157\n",
       "     Marginal R2: 0.028"
      ]
     },
     "metadata": {},
     "output_type": "display_data"
    }
   ],
   "source": [
    "r2(m1)"
   ]
  },
  {
   "cell_type": "code",
   "execution_count": 24,
   "id": "5fa02304-77aa-43de-aac3-fa583ff067cb",
   "metadata": {},
   "outputs": [],
   "source": [
    "m2 = lmer (Force ~ DayNumber_z * Trial + (DayNumber_z |ID), data = vf)"
   ]
  },
  {
   "cell_type": "code",
   "execution_count": 25,
   "id": "c8bcf7da-1f11-48a1-8f22-b5b154cfe486",
   "metadata": {},
   "outputs": [
    {
     "data": {
      "text/html": [
       "<dl>\n",
       "\t<dt>$R2_conditional</dt>\n",
       "\t\t<dd><strong>Conditional R2:</strong> 0.247799020810176</dd>\n",
       "\t<dt>$R2_marginal</dt>\n",
       "\t\t<dd><strong>Marginal R2:</strong> 0.125146674005272</dd>\n",
       "</dl>\n"
      ],
      "text/latex": [
       "\\begin{description}\n",
       "\\item[\\$R2\\_conditional] \\textbf{Conditional R2:} 0.247799020810176\n",
       "\\item[\\$R2\\_marginal] \\textbf{Marginal R2:} 0.125146674005272\n",
       "\\end{description}\n"
      ],
      "text/markdown": [
       "$R2_conditional\n",
       ":   **Conditional R2:** 0.247799020810176\n",
       "$R2_marginal\n",
       ":   **Marginal R2:** 0.125146674005272\n",
       "\n",
       "\n"
      ],
      "text/plain": [
       "\u001b[34m# R2 for Mixed Models\n",
       "\n",
       "\u001b[39m  Conditional R2: 0.248\n",
       "     Marginal R2: 0.125"
      ]
     },
     "metadata": {},
     "output_type": "display_data"
    }
   ],
   "source": [
    "r2(m2)"
   ]
  },
  {
   "cell_type": "code",
   "execution_count": 27,
   "id": "f5157861-ace2-4cae-a866-6f2a8cdd972a",
   "metadata": {},
   "outputs": [
    {
     "name": "stderr",
     "output_type": "stream",
     "text": [
      "fixed-effect model matrix is rank deficient so dropping 4 columns / coefficients\n",
      "\n"
     ]
    }
   ],
   "source": [
    "m3 = lmer(\n",
    "  Force ~ poly(DayNumber_z, 2, raw=TRUE) * Stage * Trial + (DayNumber_z | ID),\n",
    "  data = vf)"
   ]
  },
  {
   "cell_type": "code",
   "execution_count": 28,
   "id": "a3cad522-d40b-41cb-9524-fd2a2ee5dc8a",
   "metadata": {},
   "outputs": [
    {
     "data": {
      "text/html": [
       "<dl>\n",
       "\t<dt>$R2_conditional</dt>\n",
       "\t\t<dd><strong>Conditional R2:</strong> 0.269246679193756</dd>\n",
       "\t<dt>$R2_marginal</dt>\n",
       "\t\t<dd><strong>Marginal R2:</strong> 0.165610355134799</dd>\n",
       "</dl>\n"
      ],
      "text/latex": [
       "\\begin{description}\n",
       "\\item[\\$R2\\_conditional] \\textbf{Conditional R2:} 0.269246679193756\n",
       "\\item[\\$R2\\_marginal] \\textbf{Marginal R2:} 0.165610355134799\n",
       "\\end{description}\n"
      ],
      "text/markdown": [
       "$R2_conditional\n",
       ":   **Conditional R2:** 0.269246679193756\n",
       "$R2_marginal\n",
       ":   **Marginal R2:** 0.165610355134799\n",
       "\n",
       "\n"
      ],
      "text/plain": [
       "\u001b[34m# R2 for Mixed Models\n",
       "\n",
       "\u001b[39m  Conditional R2: 0.269\n",
       "     Marginal R2: 0.166"
      ]
     },
     "metadata": {},
     "output_type": "display_data"
    }
   ],
   "source": [
    "r2(m3)"
   ]
  },
  {
   "cell_type": "code",
   "execution_count": 29,
   "id": "c818a28e-5f41-4267-80b2-18a5f5624a75",
   "metadata": {},
   "outputs": [],
   "source": [
    "m4= lmer(\n",
    "  Force ~ poly(DayNumber_z, 2, raw=TRUE) * Trial + (DayNumber_z | ID),\n",
    "  data = vf)"
   ]
  },
  {
   "cell_type": "code",
   "execution_count": 30,
   "id": "a6b65f4f-d99b-4158-a6bb-8d008a935200",
   "metadata": {},
   "outputs": [
    {
     "data": {
      "text/html": [
       "<dl>\n",
       "\t<dt>$R2_conditional</dt>\n",
       "\t\t<dd><strong>Conditional R2:</strong> 0.256092285793318</dd>\n",
       "\t<dt>$R2_marginal</dt>\n",
       "\t\t<dd><strong>Marginal R2:</strong> 0.150689733673548</dd>\n",
       "</dl>\n"
      ],
      "text/latex": [
       "\\begin{description}\n",
       "\\item[\\$R2\\_conditional] \\textbf{Conditional R2:} 0.256092285793318\n",
       "\\item[\\$R2\\_marginal] \\textbf{Marginal R2:} 0.150689733673548\n",
       "\\end{description}\n"
      ],
      "text/markdown": [
       "$R2_conditional\n",
       ":   **Conditional R2:** 0.256092285793318\n",
       "$R2_marginal\n",
       ":   **Marginal R2:** 0.150689733673548\n",
       "\n",
       "\n"
      ],
      "text/plain": [
       "\u001b[34m# R2 for Mixed Models\n",
       "\n",
       "\u001b[39m  Conditional R2: 0.256\n",
       "     Marginal R2: 0.151"
      ]
     },
     "metadata": {},
     "output_type": "display_data"
    }
   ],
   "source": [
    "r2(m4)"
   ]
  },
  {
   "cell_type": "code",
   "execution_count": 31,
   "id": "bafeca39-cc5e-4d8f-ac54-543acefa135f",
   "metadata": {},
   "outputs": [],
   "source": [
    "m5= lmer (Force ~ Stage * Trial + (1| ID), data = vf)"
   ]
  },
  {
   "cell_type": "code",
   "execution_count": 32,
   "id": "9daeb8de-4cba-4b1f-b00b-13b3c0f20170",
   "metadata": {},
   "outputs": [
    {
     "data": {
      "text/html": [
       "<dl>\n",
       "\t<dt>$R2_conditional</dt>\n",
       "\t\t<dd><strong>Conditional R2:</strong> 0.266143624366223</dd>\n",
       "\t<dt>$R2_marginal</dt>\n",
       "\t\t<dd><strong>Marginal R2:</strong> 0.157364071078225</dd>\n",
       "</dl>\n"
      ],
      "text/latex": [
       "\\begin{description}\n",
       "\\item[\\$R2\\_conditional] \\textbf{Conditional R2:} 0.266143624366223\n",
       "\\item[\\$R2\\_marginal] \\textbf{Marginal R2:} 0.157364071078225\n",
       "\\end{description}\n"
      ],
      "text/markdown": [
       "$R2_conditional\n",
       ":   **Conditional R2:** 0.266143624366223\n",
       "$R2_marginal\n",
       ":   **Marginal R2:** 0.157364071078225\n",
       "\n",
       "\n"
      ],
      "text/plain": [
       "\u001b[34m# R2 for Mixed Models\n",
       "\n",
       "\u001b[39m  Conditional R2: 0.266\n",
       "     Marginal R2: 0.157"
      ]
     },
     "metadata": {},
     "output_type": "display_data"
    }
   ],
   "source": [
    "r2(m5)"
   ]
  },
  {
   "cell_type": "code",
   "execution_count": null,
   "id": "61443f30-ba86-4106-8e5c-bb7cad4c8c4b",
   "metadata": {},
   "outputs": [],
   "source": []
  }
 ],
 "metadata": {
  "kernelspec": {
   "display_name": "R",
   "language": "R",
   "name": "ir"
  },
  "language_info": {
   "codemirror_mode": "r",
   "file_extension": ".r",
   "mimetype": "text/x-r-source",
   "name": "R",
   "pygments_lexer": "r",
   "version": "4.5.1"
  }
 },
 "nbformat": 4,
 "nbformat_minor": 5
}
